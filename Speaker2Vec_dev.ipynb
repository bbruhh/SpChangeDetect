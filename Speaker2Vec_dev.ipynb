{
 "cells": [
  {
   "cell_type": "markdown",
   "metadata": {},
   "source": [
    "## DRAFT VERSION.\n",
    "\n",
    "In this notebook, we are trying to reproduce [the paper](http://scuba.usc.edu/pdf/jati2017_Speaker2Vec.pdf).\n",
    "\n",
    "For review of the paper, you can look [here](https://hedonistrh.github.io/2018-07-09-Literature-Review-for-Speaker-Change-Detection/)"
   ]
  },
  {
   "cell_type": "markdown",
   "metadata": {},
   "source": [
    "## Feature Extraction\n",
    "\n",
    "_\"We have adopted 40 dimensional high definition MFCC features extracted from 40 mel-spaced filters over a 25ms hamming window with a shift of 10ms using Kaldi toolkit\"_ However, I will use [Librosa](https://librosa.github.io).\n",
    "\n"
   ]
  },
  {
   "cell_type": "markdown",
   "metadata": {},
   "source": [
    "## Prepare Data\n",
    "\n",
    "_\"We have used d = 100 frames (1s) for all training scenarios. This makes the size of input and output layers of the DNN models to be 4000.\"_\n",
    "\n",
    "_\"40 mel-spaced filters over a 25ms hamming window with a shift of 10ms\"_"
   ]
  },
  {
   "cell_type": "code",
   "execution_count": null,
   "metadata": {},
   "outputs": [],
   "source": [
    "!mkdir audio_files # this folder store audio_files"
   ]
  },
  {
   "cell_type": "markdown",
   "metadata": {},
   "source": [
    "We will use some data from Youtube. To download these files, [youtube-dl](https://rg3.github.io/youtube-dl/index.html) is used."
   ]
  },
  {
   "cell_type": "code",
   "execution_count": null,
   "metadata": {},
   "outputs": [],
   "source": [
    "# https://askubuntu.com/questions/564567/how-to-download-playlist-from-youtube-dl\n",
    "# https://www.slashgeek.net/2016/06/24/5-youtube-dl-tips-might-not-know/\n",
    "!youtube-dl --extract-audio --audio-format m4a -o \"./audio_files/%(title)s.%(ext)s\" https://www.youtube.com/playlist?list="
   ]
  },
  {
   "cell_type": "code",
   "execution_count": null,
   "metadata": {},
   "outputs": [],
   "source": [
    "!ls"
   ]
  },
  {
   "cell_type": "code",
   "execution_count": 26,
   "metadata": {},
   "outputs": [],
   "source": [
    "import warnings\n",
    "warnings.filterwarnings(\"ignore\", message=\"numpy.dtype size changed\")\n",
    "\n",
    "\n",
    "import librosa\n",
    "import os\n",
    "import glob\n",
    "import numpy as np\n",
    "import math\n",
    "import sys\n",
    "\n",
    "def wav_to_matrix(filename, hop, win_len): # hop and win_len in milisecond \n",
    "    audio, sr = librosa.load(filename)\n",
    "    print (audio.shape, sr)\n",
    "    # https://github.com/librosa/librosa/issues/584\n",
    "    mfccs = librosa.feature.mfcc(audio, sr, n_mfcc=40, hop_length=int(float(hop/1000)*sr), n_fft=int(float(win_len/1000)*sr))\n",
    "    # line_mfccs = np.ravel(mfccs, order='F')\n",
    "    return mfccs\n",
    "\n",
    "def create_data_for_unsupervised(root_dir, hop, win_len):\n",
    "    all_wav_paths = glob.glob(os.path.join(root_dir, '*mp3'))\n",
    "    matrix_of_all_wav = []\n",
    "    print (all_wav_paths)\n",
    "\n",
    "    # All midi have to be in same shape. (?)\n",
    "    for single_wav_path in all_wav_paths:\n",
    "        print (single_wav_path)\n",
    "        matrix_of_single_wav = wav_to_matrix(single_wav_path, hop, win_len)\n",
    "        array_of_single_wav = np.ravel(matrix_of_single_wav)\n",
    "        \n",
    "        if (matrix_of_single_wav is not None):\n",
    "            print (matrix_of_single_wav.shape)\n",
    "            matrix_of_all_wav.extend(array_of_single_wav)\n",
    "            print (single_wav_path + \" is done.\")\n",
    "            \n",
    "    wav_array = np.asarray(matrix_of_all_wav)\n",
    "    wav_array = np.reshape(matrix_of_all_wav, (-1, 40))\n",
    "    input_array = []\n",
    "    output_array = []\n",
    "\n",
    "    print (wav_array.shape)\n",
    "    \n",
    "    start_point = 0\n",
    "    \n",
    "    while (start_point+200 < wav_array.shape[0]):\n",
    "        single_input = wav_array[start_point:start_point+100, 0:40]\n",
    "        single_output = wav_array[start_point+100:start_point+200, 0:40]\n",
    "        input_array.append(single_input)\n",
    "        output_array.append(single_output)\n",
    "        start_point += 100\n",
    "        \n",
    "        \n",
    "    input_array = np.asarray(input_array)\n",
    "    input_array = input_array.reshape((len(input_array), np.prod(input_array.shape[1:])))  \n",
    "    print(input_array.shape)\n",
    "\n",
    "    output_array = np.asarray(output_array)\n",
    "    output_array = output_array.reshape((len(output_array), np.prod(output_array.shape[1:])))  \n",
    "    print(output_array.shape)\n",
    "    \n",
    "    return (input_array, output_array)\n"
   ]
  },
  {
   "cell_type": "code",
   "execution_count": null,
   "metadata": {},
   "outputs": [],
   "source": [
    "aa = wav_to_matrix(\"How to Read a Research Paper.mp3\", 10, 25)"
   ]
  },
  {
   "cell_type": "code",
   "execution_count": null,
   "metadata": {},
   "outputs": [],
   "source": [
    "aa.shape"
   ]
  },
  {
   "cell_type": "code",
   "execution_count": 27,
   "metadata": {},
   "outputs": [],
   "source": [
    "import librosa\n",
    "import os\n",
    "import glob\n",
    "import numpy as np\n",
    "import sys\n",
    "\n",
    "def upload_npy_to_arrays(root_dir, from_ep = 0, to_ep=0):\n",
    "    all_npy_paths = glob.glob(os.path.join(root_dir, '*npy'))\n",
    "    matrix_of_all_wav = []\n",
    "\n",
    "    num = 0\n",
    "    for single_npy_path in all_npy_paths:\n",
    "        num += 1\n",
    "        if (num >= from_ep):\n",
    "            array_of_single_wav = np.load(single_npy_path)\n",
    "            \n",
    "            if (num > to_ep):\n",
    "                break\n",
    "                    \n",
    "            else:\n",
    "                if (array_of_single_wav is not None):\n",
    "                     matrix_of_all_wav.extend(array_of_single_wav)\n",
    "            \n",
    "    wav_array = np.asarray(matrix_of_all_wav)\n",
    "    wav_array = np.reshape(matrix_of_all_wav, (-1,40))\n",
    "    input_array = []\n",
    "    output_array = []\n",
    "\n",
    "    print (wav_array.shape)\n",
    "    \n",
    "    start_point = 0\n",
    "    \n",
    "    while (start_point+200 < wav_array.shape[0]):\n",
    "        single_input = wav_array[start_point:start_point+100, 0:40]\n",
    "        single_output = wav_array[start_point+100:start_point+200, 0:40]\n",
    "        input_array.append(single_input)\n",
    "        output_array.append(single_output)\n",
    "        start_point += 100\n",
    "        \n",
    "        \n",
    "        \n",
    "    input_array = np.asarray(input_array)\n",
    "    input_array = input_array.reshape((len(input_array), np.prod(input_array.shape[1:])))  \n",
    "    print(input_array.shape)\n",
    "\n",
    "    output_array = np.asarray(output_array)\n",
    "    output_array = output_array.reshape((len(output_array), np.prod(output_array.shape[1:])))  \n",
    "    print(output_array.shape)\n",
    "    \n",
    "    return (input_array, output_array)"
   ]
  },
  {
   "cell_type": "code",
   "execution_count": null,
   "metadata": {},
   "outputs": [],
   "source": [
    "input_array, output_array = upload_npy_to_arrays('./npy_files/', 0, 1)"
   ]
  },
  {
   "cell_type": "markdown",
   "metadata": {},
   "source": [
    "**Let's focus on AMI Corpus**\n",
    "\n",
    "In the [dev.mdtm](https://github.com/pyannote/pyannote-db-odessa-ami/tree/master/AMI/data/speaker_diarization), we can see the:\n",
    "    - filename, offset, duration, \"speaker NA unknown\", id of speaker\n",
    "\n",
    "We should focus on this. We can download the corresponding .wav files easily. \n",
    "\n",
    "Firsly, I will create database for speaker change detection. It will be not-optimized until the end of test."
   ]
  },
  {
   "cell_type": "code",
   "execution_count": null,
   "metadata": {},
   "outputs": [],
   "source": [
    "# !ls"
   ]
  },
  {
   "cell_type": "code",
   "execution_count": null,
   "metadata": {},
   "outputs": [],
   "source": [
    "mkdir txt_files"
   ]
  },
  {
   "cell_type": "code",
   "execution_count": null,
   "metadata": {},
   "outputs": [],
   "source": [
    "import sys\n",
    "import numpy as np\n",
    "\n",
    "def create_ground_truth(main_set):\n",
    "    # start_time_array = []\n",
    "    end_time_array = []\n",
    "    output_frame_array = []\n",
    "    with open(main_set) as f:\n",
    "        content = f.readlines()\n",
    "    # you may also want to remove whitespace characters like `\\n` at the end of each line\n",
    "    content = [x.strip() for x in content] \n",
    "    tmp_filename = content[0].split(' ')[0]\n",
    "    # sys.exit(\"WAIT, TEST :)\")\n",
    "\n",
    "    for single_line in content:\n",
    "        filename = single_line.split(' ')[0]\n",
    "        # print (filename)\n",
    "        if (filename != tmp_filename):\n",
    "            # start_time_array = np.asarray(start_time_array)\n",
    "            # np.savetxt(fname=tmp_filename + \"_start_time.txt\", X=start_time_array, delimiter=' ', fmt='%1.3f')\n",
    "            # end_time_array = np.asarray(end_time_array)\n",
    "            np.savetxt(fname=tmp_filename + \"_end_time.txt\", X=end_time_array, delimiter=' ', fmt='%1.3f')\n",
    "            # start_time_array = []\n",
    "            end_time_array = []\n",
    "            \n",
    "        tmp_filename = single_line.split(' ')[0]\n",
    "        offset = float(single_line.split(' ')[2])\n",
    "        duration = float(single_line.split(' ')[3])\n",
    "        end_time = offset+duration\n",
    "        # start_time_array.append(offset)\n",
    "        end_time_array.append(end_time)"
   ]
  },
  {
   "cell_type": "code",
   "execution_count": null,
   "metadata": {},
   "outputs": [],
   "source": [
    "cd txt_files"
   ]
  },
  {
   "cell_type": "code",
   "execution_count": null,
   "metadata": {},
   "outputs": [],
   "source": [
    "!wget https://raw.githubusercontent.com/pyannote/pyannote-db-odessa-ami/master/AMI/data/speaker_diarization/dev.mdtm"
   ]
  },
  {
   "cell_type": "code",
   "execution_count": null,
   "metadata": {},
   "outputs": [],
   "source": [
    "!wget https://raw.githubusercontent.com/pyannote/pyannote-db-odessa-ami/master/AMI/data/speaker_diarization/tst.mdtm"
   ]
  },
  {
   "cell_type": "code",
   "execution_count": null,
   "metadata": {},
   "outputs": [],
   "source": [
    "!wget https://raw.githubusercontent.com/pyannote/pyannote-db-odessa-ami/master/AMI/data/speaker_diarization/trn.mdtm"
   ]
  },
  {
   "cell_type": "code",
   "execution_count": null,
   "metadata": {},
   "outputs": [],
   "source": [
    "create_ground_truth('dev.mdtm')"
   ]
  },
  {
   "cell_type": "code",
   "execution_count": null,
   "metadata": {},
   "outputs": [],
   "source": [
    "create_ground_truth('trn.mdtm')"
   ]
  },
  {
   "cell_type": "code",
   "execution_count": null,
   "metadata": {},
   "outputs": [],
   "source": [
    "create_ground_truth('tst.mdtm')"
   ]
  },
  {
   "cell_type": "code",
   "execution_count": null,
   "metadata": {},
   "outputs": [],
   "source": [
    "cd .."
   ]
  },
  {
   "cell_type": "markdown",
   "metadata": {},
   "source": [
    "## Deep Learning Architectures\n",
    "\n",
    "- They use 2 different autoencoder. \n",
    "    - Smaller is 4000 → 2000 → 40 → 2000 → 4000\n",
    "    - Larger is 4000 → 6000 → 2000 → 40 → 2000 → 6000 → 4000\n",
    "![Image of Autoencoder](https://docs.google.com/uc?id=1epse9ba1fRTdmyN3pF0XoECEHcaiLsa3)\n"
   ]
  },
  {
   "cell_type": "code",
   "execution_count": 28,
   "metadata": {},
   "outputs": [
    {
     "name": "stdout",
     "output_type": "stream",
     "text": [
      "_________________________________________________________________\n",
      "Layer (type)                 Output Shape              Param #   \n",
      "=================================================================\n",
      "main_input (InputLayer)      (None, 4000)              0         \n",
      "_________________________________________________________________\n",
      "encoded_1 (Dense)            (None, 4000)              16004000  \n",
      "_________________________________________________________________\n",
      "encoded_2 (Dense)            (None, 2000)              8002000   \n",
      "_________________________________________________________________\n",
      "embedding (Dense)            (None, 40)                80040     \n",
      "_________________________________________________________________\n",
      "decoded_1 (Dense)            (None, 2000)              82000     \n",
      "_________________________________________________________________\n",
      "decoded_2 (Dense)            (None, 4000)              8004000   \n",
      "=================================================================\n",
      "Total params: 32,172,040\n",
      "Trainable params: 32,172,040\n",
      "Non-trainable params: 0\n",
      "_________________________________________________________________\n"
     ]
    }
   ],
   "source": [
    "from keras import layers\n",
    "from keras import models\n",
    "from keras import optimizers\n",
    "import keras\n",
    "from keras.models import Model\n",
    "import tensorflow as tf\n",
    "from keras.layers.advanced_activations import *\n",
    "\n",
    "\n",
    "input_frame = keras.Input(shape=(4000,), name='main_input')\n",
    "encoded_1 = layers.Dense(4000, activation='relu', name='encoded_1')(input_frame) # not quite sure about the activation\n",
    "encoded_2 = layers.Dense(2000, activation='relu', name='encoded_2')(encoded_1)\n",
    "\n",
    "embedding = layers.Dense(40, activation='relu', name='embedding')(encoded_2)\n",
    "\n",
    "decoded_1 = layers.Dense(2000, activation='relu', name='decoded_1')(embedding)\n",
    "decoded_2 = layers.Dense(4000, activation='linear', name='decoded_2')(decoded_1)\n",
    "\n",
    "autoencoder = Model(input_frame, decoded_2)\n",
    "\n",
    "rmsprop = keras.optimizers.RMSprop(lr=0.001, rho=0.9, epsilon=None, decay=0.0)\n",
    "autoencoder.compile(optimizer='rmsprop', loss='mean_squared_logarithmic_error')\n",
    "\n",
    "autoencoder.summary()"
   ]
  },
  {
   "cell_type": "code",
   "execution_count": 29,
   "metadata": {},
   "outputs": [],
   "source": [
    "from keras.models import load_model\n",
    "autoencoder.load_weights('speaker2vec_weights.h5')"
   ]
  },
  {
   "cell_type": "code",
   "execution_count": 31,
   "metadata": {},
   "outputs": [
    {
     "name": "stdout",
     "output_type": "stream",
     "text": [
      "(1895177, 40)\n",
      "(18950, 4000)\n",
      "(18950, 4000)\n",
      "Epoch 1/2\n",
      "18950/18950 [==============================] - 400s 21ms/step - loss: 2.2505\n",
      "Epoch 2/2\n",
      "18950/18950 [==============================] - 397s 21ms/step - loss: 2.2505\n",
      "(2125596, 40)\n",
      "(21254, 4000)\n",
      "(21254, 4000)\n",
      "Epoch 1/2\n",
      "21254/21254 [==============================] - 451s 21ms/step - loss: 2.4510\n",
      "Epoch 2/2\n",
      "21254/21254 [==============================] - 456s 21ms/step - loss: 2.4510\n",
      "(2212710, 40)\n",
      "(22126, 4000)\n",
      "(22126, 4000)\n",
      "Epoch 1/2\n",
      "22126/22126 [==============================] - 472s 21ms/step - loss: 2.2477\n",
      "Epoch 2/2\n",
      "22126/22126 [==============================] - 473s 21ms/step - loss: 2.2477\n",
      "(2233608, 40)\n",
      "(22335, 4000)\n",
      "(22335, 4000)\n",
      "Epoch 1/2\n",
      "22335/22335 [==============================] - 478s 21ms/step - loss: 2.0649\n",
      "Epoch 2/2\n",
      "22335/22335 [==============================] - 482s 22ms/step - loss: 2.0649\n",
      "(2605471, 40)\n",
      "(26053, 4000)\n",
      "(26053, 4000)\n",
      "Epoch 1/2\n",
      "26053/26053 [==============================] - 574s 22ms/step - loss: 1.9286\n",
      "Epoch 2/2\n",
      "26053/26053 [==============================] - 563s 22ms/step - loss: 1.9286\n",
      "(2161921, 40)\n",
      "(21618, 4000)\n",
      "(21618, 4000)\n",
      "Epoch 1/2\n",
      "21618/21618 [==============================] - 469s 22ms/step - loss: 2.3536\n",
      "Epoch 2/2\n",
      "21618/21618 [==============================] - 477s 22ms/step - loss: 2.3536\n",
      "(1698159, 40)\n",
      "(16980, 4000)\n",
      "(16980, 4000)\n",
      "Epoch 1/2\n",
      "16980/16980 [==============================] - 370s 22ms/step - loss: 2.1042\n",
      "Epoch 2/2\n",
      "16980/16980 [==============================] - 370s 22ms/step - loss: 2.1042\n",
      "(1180680, 40)\n",
      "(11805, 4000)\n",
      "(11805, 4000)\n",
      "Epoch 1/2\n",
      "11805/11805 [==============================] - 258s 22ms/step - loss: 2.3237\n",
      "Epoch 2/2\n",
      "11805/11805 [==============================] - 257s 22ms/step - loss: 2.3237\n",
      "(1970167, 40)\n",
      "(19700, 4000)\n",
      "(19700, 4000)\n",
      "Epoch 1/2\n",
      "19700/19700 [==============================] - 431s 22ms/step - loss: 2.3091\n",
      "Epoch 2/2\n",
      "19700/19700 [==============================] - 432s 22ms/step - loss: 2.3091\n",
      "(1522335, 40)\n",
      "(15222, 4000)\n",
      "(15222, 4000)\n",
      "Epoch 1/2\n",
      "15222/15222 [==============================] - 334s 22ms/step - loss: 2.4612\n",
      "Epoch 2/2\n",
      "15222/15222 [==============================] - 342s 22ms/step - loss: 2.4612\n",
      "(2238940, 40)\n",
      "(22388, 4000)\n",
      "(22388, 4000)\n",
      "Epoch 1/2\n",
      "22388/22388 [==============================] - 492s 22ms/step - loss: 2.1226\n",
      "Epoch 2/2\n",
      "22388/22388 [==============================] - 493s 22ms/step - loss: 2.1226\n",
      "(1521046, 40)\n",
      "(15209, 4000)\n",
      "(15209, 4000)\n",
      "Epoch 1/2\n",
      "15209/15209 [==============================] - 335s 22ms/step - loss: 2.2999\n",
      "Epoch 2/2\n",
      "15209/15209 [==============================] - 335s 22ms/step - loss: 2.2999\n",
      "(1899477, 40)\n",
      "(18993, 4000)\n",
      "(18993, 4000)\n",
      "Epoch 1/2\n",
      "18993/18993 [==============================] - 421s 22ms/step - loss: 2.0077\n",
      "Epoch 2/2\n",
      "18993/18993 [==============================] - 426s 22ms/step - loss: 2.0077\n",
      "(2609325, 40)\n",
      "(26092, 4000)\n",
      "(26092, 4000)\n",
      "Epoch 1/2\n",
      "26092/26092 [==============================] - 575s 22ms/step - loss: 1.8835\n",
      "Epoch 2/2\n",
      "26092/26092 [==============================] - 578s 22ms/step - loss: 1.8835\n",
      "(2359195, 40)\n",
      "(23590, 4000)\n",
      "(23590, 4000)\n",
      "Epoch 1/2\n",
      "23590/23590 [==============================] - 525s 22ms/step - loss: 2.0499\n",
      "Epoch 2/2\n",
      "23590/23590 [==============================] - 526s 22ms/step - loss: 2.0499\n",
      "(1383532, 40)\n",
      "(13834, 4000)\n",
      "(13834, 4000)\n",
      "Epoch 1/2\n",
      "13834/13834 [==============================] - 305s 22ms/step - loss: 2.0730\n",
      "Epoch 2/2\n",
      "13834/13834 [==============================] - 304s 22ms/step - loss: 2.0730\n",
      "(1377072, 40)\n",
      "(13769, 4000)\n",
      "(13769, 4000)\n",
      "Epoch 1/2\n",
      "13769/13769 [==============================] - 303s 22ms/step - loss: 2.2182\n",
      "Epoch 2/2\n",
      "13769/13769 [==============================] - 303s 22ms/step - loss: 2.2182\n",
      "(2150215, 40)\n",
      "(21501, 4000)\n",
      "(21501, 4000)\n",
      "Epoch 1/2\n",
      "21501/21501 [==============================] - 473s 22ms/step - loss: 1.9503\n",
      "Epoch 2/2\n",
      "21501/21501 [==============================] - 474s 22ms/step - loss: 1.9503\n",
      "(2147613, 40)\n",
      "(21475, 4000)\n",
      "(21475, 4000)\n",
      "Epoch 1/2\n",
      "21475/21475 [==============================] - 473s 22ms/step - loss: 2.0129\n",
      "Epoch 2/2\n",
      "21475/21475 [==============================] - 473s 22ms/step - loss: 2.0129\n",
      "(2156788, 40)\n",
      "(21566, 4000)\n",
      "(21566, 4000)\n",
      "Epoch 1/2\n",
      "21566/21566 [==============================] - 475s 22ms/step - loss: 2.0822\n",
      "Epoch 2/2\n",
      "21566/21566 [==============================] - 475s 22ms/step - loss: 2.0822\n",
      "(928671, 40)\n",
      "(9285, 4000)\n",
      "(9285, 4000)\n",
      "Epoch 1/2\n",
      "9285/9285 [==============================] - 204s 22ms/step - loss: 2.3297\n",
      "Epoch 2/2\n",
      "9285/9285 [==============================] - 205s 22ms/step - loss: 2.3297\n",
      "(1827859, 40)\n",
      "(18277, 4000)\n",
      "(18277, 4000)\n",
      "Epoch 1/2\n",
      "18277/18277 [==============================] - 402s 22ms/step - loss: 2.2471\n",
      "Epoch 2/2\n",
      "18277/18277 [==============================] - 403s 22ms/step - loss: 2.2471\n",
      "(1684575, 40)\n",
      "(16844, 4000)\n",
      "(16844, 4000)\n",
      "Epoch 1/2\n",
      "16844/16844 [==============================] - 371s 22ms/step - loss: 2.1922\n",
      "Epoch 2/2\n",
      "16844/16844 [==============================] - 371s 22ms/step - loss: 2.1922\n",
      "(1678699, 40)\n",
      "(16785, 4000)\n",
      "(16785, 4000)\n",
      "Epoch 1/2\n",
      "16785/16785 [==============================] - 370s 22ms/step - loss: 2.3639\n",
      "Epoch 2/2\n",
      "16785/16785 [==============================] - 370s 22ms/step - loss: 2.3639\n",
      "(1753375, 40)\n",
      "(17532, 4000)\n",
      "(17532, 4000)\n",
      "Epoch 1/2\n",
      "17532/17532 [==============================] - 386s 22ms/step - loss: 2.3028\n",
      "Epoch 2/2\n",
      "17532/17532 [==============================] - 387s 22ms/step - loss: 2.3028\n",
      "(2231959, 40)\n",
      "(22318, 4000)\n",
      "(22318, 4000)\n",
      "Epoch 1/2\n",
      "22318/22318 [==============================] - 491s 22ms/step - loss: 2.3213\n",
      "Epoch 2/2\n",
      "22318/22318 [==============================] - 492s 22ms/step - loss: 2.3213\n",
      "(1909376, 40)\n",
      "(19092, 4000)\n",
      "(19092, 4000)\n",
      "Epoch 1/2\n",
      "19092/19092 [==============================] - 421s 22ms/step - loss: 2.0333\n",
      "Epoch 2/2\n",
      "19092/19092 [==============================] - 421s 22ms/step - loss: 2.0333\n",
      "(2420152, 40)\n",
      "(24200, 4000)\n",
      "(24200, 4000)\n",
      "Epoch 1/2\n",
      "24200/24200 [==============================] - 533s 22ms/step - loss: 2.4210\n",
      "Epoch 2/2\n",
      "24200/24200 [==============================] - 533s 22ms/step - loss: 2.4210\n",
      "(1406840, 40)\n",
      "(14067, 4000)\n",
      "(14067, 4000)\n",
      "Epoch 1/2\n",
      "14067/14067 [==============================] - 309s 22ms/step - loss: 2.1215\n",
      "Epoch 2/2\n",
      "14067/14067 [==============================] - 310s 22ms/step - loss: 2.1215\n",
      "(2229069, 40)\n",
      "(22289, 4000)\n",
      "(22289, 4000)\n",
      "Epoch 1/2\n",
      "22289/22289 [==============================] - 491s 22ms/step - loss: 1.8712\n",
      "Epoch 2/2\n",
      "22289/22289 [==============================] - 491s 22ms/step - loss: 1.8712\n"
     ]
    }
   ],
   "source": [
    "from keras.models import load_model\n",
    "\n",
    "\n",
    "how_many_step = 30\n",
    "ix_step = 0\n",
    "from_epi = 0\n",
    "\n",
    "while (ix_step < how_many_step):\n",
    "    ix_step += 1\n",
    "    \n",
    "    input_array, output_array = upload_npy_to_arrays('./npy_files/', from_ep=from_epi, to_ep=from_epi+4)\n",
    "    \n",
    "    try:\n",
    "        autoencoder.fit(input_array, output_array,\n",
    "               epochs=2,\n",
    "               batch_size=16,\n",
    "               shuffle=True)\n",
    "        autoencoder.save_weights('speaker2vec_weights.h5')    \n",
    "\n",
    "    except:\n",
    "        print (\"pass this epoch\")\n",
    "        pass\n",
    "    \n",
    "    # https://keras.io/getting-started/faq/#how-can-i-save-a-keras-model\n",
    "\n",
    "    \n",
    "    input_array = []\n",
    "    output_array = []\n",
    "    \n",
    "    from_epi += 4"
   ]
  },
  {
   "cell_type": "markdown",
   "metadata": {},
   "source": [
    "**Let's try to detect speaker change points. We will use encoder part of autoencoder.**\n",
    "- Firstly, extract the embedding,\n",
    "- Compare neighboorhood embeddings via different parameters,\n",
    "- If result of comparision exceed determined threshold, it represent the speaker change point."
   ]
  },
  {
   "cell_type": "code",
   "execution_count": 6,
   "metadata": {},
   "outputs": [],
   "source": [
    "embedding_system = Model(input_frame, embedding) # create system to extraxt embed."
   ]
  },
  {
   "cell_type": "markdown",
   "metadata": {},
   "source": [
    "Now, we have embedding system. We should feed this sytem via input frames."
   ]
  },
  {
   "cell_type": "code",
   "execution_count": 7,
   "metadata": {},
   "outputs": [],
   "source": [
    "from scipy.signal import savgol_filter\n",
    "import scipy \n",
    "\n",
    "def KL(P,Q):\n",
    "    \"\"\" Epsilon is used here to avoid conditional code for\n",
    "    checking that neither P nor Q is equal to 0. \"\"\"\n",
    "    epsilon = 0.00001\n",
    "\n",
    "     # You may want to instead make copies to avoid changing the np arrays.\n",
    "    P = P+epsilon\n",
    "    Q = Q+epsilon\n",
    "\n",
    "    divergence = np.sum(P*np.log(P/Q))\n",
    "    return divergence\n",
    "\n",
    "def create_prediction(wav_file, hop, win_len, threshold, embedding_system):\n",
    "    KL_array = []\n",
    "    prediction_array = []\n",
    "    audio, sr = librosa.load(wav_file)\n",
    "    # at that point, we should not use overlapping segment\n",
    "    # https://github.com/librosa/librosa/issues/584\n",
    "    mfccs = librosa.feature.mfcc(audio, sr, n_mfcc=40, hop_length=int(hop/1000*sr), n_fft=int(win_len/1000*sr))\n",
    "    # now we have mfcc of all audio file.\n",
    "    offset=0\n",
    "    \n",
    "    while (offset+200 < mfccs.shape[1]):\n",
    "    # line_mfccs = np.ravel(mfccs, order='F')\n",
    "        first_frame = np.ravel(mfccs[0:40,offset:offset+100])\n",
    "        first_frame = np.expand_dims(first_frame, axis=0)\n",
    "        first_embed = embedding_system.predict(first_frame)\n",
    "        \n",
    "        second_frame = np.ravel(mfccs[0:40,offset+100:offset+200])\n",
    "        second_frame = np.expand_dims(second_frame, axis=0)\n",
    "        second_embed = embedding_system.predict(second_frame)\n",
    "        KL_array.append(KL(first_embed, second_embed))\n",
    "        offset += 100\n",
    "    KL_array = np.asarray(KL_array)\n",
    "        \n",
    "    # min max normalization\n",
    "    KL_array_to_0_1 = (KL_array-min(KL_array))/(max(KL_array)-min(KL_array))\n",
    "    KL_array_to_0_1 = np.asarray(KL_array_to_0_1)\n",
    "    # print (KL_array_to_0_1)    \n",
    "    \n",
    "    # Now, we should apply lowpass filter to get smooth KL curve.\n",
    "    # https://stats.stackexchange.com/questions/323069/can-kl-divergence-ever-be-greater-than-1\n",
    "    # https://stackoverflow.com/questions/20618804/how-to-smooth-a-curve-in-the-right-way\n",
    "    KL_array_smooth = savgol_filter(KL_array_to_0_1, 11, 7)\n",
    "    KL_array_smooth = np.asarray(KL_array_smooth)    \n",
    "        \n",
    "    offset = 0\n",
    "    \n",
    "    for KL_value in KL_array_smooth:\n",
    "        if (KL_value > threshold):\n",
    "            ms_version = float(win_len + ((offset+100) * hop)) # milisecond version to represent end point of first embed            \n",
    "            prediction_array.append(ms_version/1000)\n",
    "            \n",
    "        offset += 100\n",
    "            \n",
    "    prediction_array = np.asarray(prediction_array)\n",
    "    np.savetxt(fname=wav_file.split(\"/\")[-1] + \"_prediction.txt\", X=prediction_array, \n",
    "               delimiter=' ', fmt='%1.3f')\n",
    "\n",
    "    return (prediction_array, KL_array_to_0_1, KL_array_smooth)"
   ]
  },
  {
   "cell_type": "code",
   "execution_count": 8,
   "metadata": {},
   "outputs": [],
   "source": [
    "def grounth_truth_matrix(filename, hop, win_len, boost_for_imbalance=False, how_much_boost = 3):\n",
    "    \n",
    "    matrix_of_single_audio = np.load(\"/home/herdogan/Desktop/SpChangeDetect/pyannote-audio/tutorials/feature-extraction/AMI/\" + filename + \".Mix-Headset.npy\")\n",
    "    \n",
    "    main_set = \"./txt_files/\" + filename + \"_end_time.txt\"# FILENAME PATH for TXT\n",
    "    \n",
    "    end_time_array_second = []\n",
    "\n",
    "\n",
    "    with open(main_set) as f:\n",
    "        content = f.readlines()\n",
    "        \n",
    "    content = [x.strip() for x in content] \n",
    "\n",
    "    for single_line in content:\n",
    "\n",
    "        end_time_array_second.append(single_line)\n",
    "\n",
    "    output_array = np.zeros(matrix_of_single_audio.shape[0])\n",
    "\n",
    "    for end_time in end_time_array_second:\n",
    "        end_time_ms = float(end_time)*1000\n",
    "        which_start_hop = (end_time_ms-win_len)/hop # now we know, milisecond version of change\n",
    "                                    # which is located after which_hop paramater\n",
    "                                    # add 2 and round to up\n",
    "        which_end_hop = end_time_ms/hop # round to up\n",
    "\n",
    "        start_location = math.ceil(which_start_hop + 1)\n",
    "        end_location = math.ceil(which_end_hop)\n",
    "\n",
    "        # print (\"s:\", start_location)\n",
    "        # print (\"e:\", end_location)\n",
    "        if (boost_for_imbalance==False):\n",
    "            output_array[start_location:end_location+1] = 1.0\n",
    "\n",
    "        else:\n",
    "            output_array[start_location-how_much_boost:end_location+1+how_much_boost] = 1.0\n",
    "\n",
    "    return (output_array)"
   ]
  },
  {
   "cell_type": "code",
   "execution_count": 9,
   "metadata": {},
   "outputs": [],
   "source": [
    "def prediction_output_to_array(filename, hop, win_len):\n",
    "    \n",
    "    matrix_of_single_audio = np.load(\"/home/herdogan/Desktop/SpChangeDetect/pyannote-audio/tutorials/feature-extraction/AMI/\" + filename + \".Mix-Headset.npy\")\n",
    "    \n",
    "    main_set = \"./\" + filename + \"_prediction.txt\"# FILENAME PATH for TXT\n",
    "    \n",
    "    end_time_array_second = []\n",
    "\n",
    "\n",
    "    with open(main_set) as f:\n",
    "        content = f.readlines()\n",
    "        \n",
    "    content = [x.strip() for x in content] \n",
    "\n",
    "    for single_line in content:\n",
    "\n",
    "        end_time_array_second.append(single_line)\n",
    "\n",
    "    output_array = np.zeros(matrix_of_single_audio.shape[0])\n",
    "\n",
    "    for end_time in end_time_array_second:\n",
    "        end_time_ms = float(end_time)*1000\n",
    "        which_start_hop = (end_time_ms-win_len)/hop # now we know, milisecond version of change\n",
    "                                    # which is located after which_hop paramater\n",
    "                                    # add 2 and round to up\n",
    "        which_end_hop = end_time_ms/hop # round to up\n",
    "\n",
    "        start_location = math.ceil(which_start_hop + 1)\n",
    "        end_location = math.ceil(which_end_hop)\n",
    "\n",
    "        # print (\"s:\", start_location)\n",
    "        # print (\"e:\", end_location)\n",
    "        output_array[start_location:end_location+1] = 1.0\n",
    "\n",
    "\n",
    "    return (output_array)"
   ]
  },
  {
   "cell_type": "markdown",
   "metadata": {},
   "source": [
    "**Now, implement transfer learning part. We will do it because of unsupervised domain adaptation.**\n",
    "- Find the speaker change points by trained DNN,\n",
    "- Get all possible speaker homogeneous regions,\n",
    "- Retrain the same DNN again on these homogeneous segments of speech."
   ]
  },
  {
   "cell_type": "code",
   "execution_count": 10,
   "metadata": {},
   "outputs": [
    {
     "name": "stderr",
     "output_type": "stream",
     "text": [
      "/home/herdogan/anaconda3/envs/pyannote/lib/python3.6/site-packages/scipy/signal/_arraytools.py:45: FutureWarning: Using a non-tuple sequence for multidimensional indexing is deprecated; use `arr[tuple(seq)]` instead of `arr[seq]`. In the future this will be interpreted as an array index, `arr[np.array(seq)]`, which will result either in an error or a different result.\n",
      "  b = a[a_slice]\n"
     ]
    }
   ],
   "source": [
    "change_points, arr, arr_s = create_prediction('./amicorpus/EN2001a/audio/EN2001a.Mix-Headset.wav', hop=10, win_len=25, threshold=0.46, embedding_system=embedding_system)"
   ]
  },
  {
   "cell_type": "code",
   "execution_count": 11,
   "metadata": {},
   "outputs": [],
   "source": [
    "def pred_file_to_frame(filename, hop, win_len, boost_for_imbalance=False, how_much_boost = 3):\n",
    "    \n",
    "    matrix_of_single_audio = np.load(\"/home/herdogan/Desktop/SpChangeDetect/pyannote-audio/tutorials/feature-extraction/AMI/\" + filename + \".Mix-Headset.npy\")\n",
    "    \n",
    "    main_set = filename + \".Mix-Headset.wav_prediction.txt\"# FILENAME PATH for TXT\n",
    "    \n",
    "    end_time_array_second = []\n",
    "\n",
    "\n",
    "    with open(main_set) as f:\n",
    "        content = f.readlines()\n",
    "        \n",
    "    content = [x.strip() for x in content] \n",
    "\n",
    "    for single_line in content:\n",
    "\n",
    "        end_time_array_second.append(single_line)\n",
    "\n",
    "    output_array = np.zeros(matrix_of_single_audio.shape[0])\n",
    "\n",
    "    for end_time in end_time_array_second:\n",
    "        end_time_ms = float(end_time)*1000\n",
    "        which_start_hop = (end_time_ms-win_len)/hop # now we know, milisecond version of change\n",
    "                                    # which is located after which_hop paramater\n",
    "                                    # add 2 and round to up\n",
    "        which_end_hop = end_time_ms/hop # round to up\n",
    "\n",
    "        start_location = math.ceil(which_start_hop + 1)\n",
    "        end_location = math.ceil(which_end_hop)\n",
    "\n",
    "        # print (\"s:\", start_location)\n",
    "        # print (\"e:\", end_location)\n",
    "        if (boost_for_imbalance==False):\n",
    "            output_array[start_location:end_location+1] = 1.0\n",
    "\n",
    "        else:\n",
    "            output_array[start_location-how_much_boost:end_location+1+how_much_boost] = 1.0\n",
    "\n",
    "    return (output_array)"
   ]
  },
  {
   "cell_type": "code",
   "execution_count": 12,
   "metadata": {},
   "outputs": [
    {
     "data": {
      "text/plain": [
       "5261"
      ]
     },
     "execution_count": 12,
     "metadata": {},
     "output_type": "execute_result"
    }
   ],
   "source": [
    "len(arr)"
   ]
  },
  {
   "cell_type": "code",
   "execution_count": 13,
   "metadata": {},
   "outputs": [],
   "source": [
    "import matplotlib.pyplot as pp"
   ]
  },
  {
   "cell_type": "code",
   "execution_count": 14,
   "metadata": {},
   "outputs": [
    {
     "data": {
      "image/png": "[encoded data removed]",
      "text/plain": [
       "<Figure size 432x288 with 1 Axes>"
      ]
     },
     "metadata": {},
     "output_type": "display_data"
    }
   ],
   "source": [
    "pp.plot(arr[450:650])\n",
    "pp.rcParams['figure.figsize'] = (19.8, 10.0)\n",
    "\n",
    "pp.show()"
   ]
  },
  {
   "cell_type": "code",
   "execution_count": 19,
   "metadata": {},
   "outputs": [
    {
     "data": {
      "image/png": "[encoded data removed]",
      "text/plain": [
       "<Figure size 1425.6x864 with 1 Axes>"
      ]
     },
     "metadata": {},
     "output_type": "display_data"
    }
   ],
   "source": [
    "pp.plot(arr_s)\n",
    "pp.rcParams['figure.figsize'] = (19.8, 12.0)\n",
    "\n",
    "pp.axhline(y=0.46, color='r', linestyle='-')\n",
    "pp.show()"
   ]
  },
  {
   "cell_type": "code",
   "execution_count": 20,
   "metadata": {},
   "outputs": [
    {
     "data": {
      "image/png": "[encoded data removed]",
      "text/plain": [
       "<Figure size 417.6x432 with 1 Axes>"
      ]
     },
     "metadata": {},
     "output_type": "display_data"
    }
   ],
   "source": [
    "pp.plot(grounth_truth_matrix(\"EN2001a\", 10, 25))\n",
    "pp.show()"
   ]
  },
  {
   "cell_type": "code",
   "execution_count": 22,
   "metadata": {},
   "outputs": [],
   "source": [
    "aa = grounth_truth_matrix(\"EN2001a\", 10, 25)\n",
    "bb = pred_file_to_frame(\"EN2001a\", 10, 25)"
   ]
  },
  {
   "cell_type": "code",
   "execution_count": 23,
   "metadata": {},
   "outputs": [
    {
     "name": "stdout",
     "output_type": "stream",
     "text": [
      "(525025,)\n",
      "(525025,)\n"
     ]
    }
   ],
   "source": [
    "print (aa.shape)\n",
    "print (bb.shape)"
   ]
  },
  {
   "cell_type": "code",
   "execution_count": 24,
   "metadata": {},
   "outputs": [],
   "source": [
    "x = np.arange(1, len(aa)+1)"
   ]
  },
  {
   "cell_type": "code",
   "execution_count": 25,
   "metadata": {},
   "outputs": [
    {
     "data": {
      "image/png": "[encoded data removed]",
      "text/plain": [
       "<Figure size 1425.6x720 with 1 Axes>"
      ]
     },
     "metadata": {},
     "output_type": "display_data"
    }
   ],
   "source": [
    "import matplotlib.pyplot as pp\n",
    "%matplotlib inline\n",
    "\n",
    "pp.rcParams['figure.figsize'] = (19.8, 10.0)\n",
    "\n",
    "pp.plot(x[0:40000], aa[0:40000], 'x', color='black');\n",
    "pp.plot(x[0:40000], bb[0:40000], '.', color='pink');\n",
    "\n",
    "# pp.axhline(y=thres, color='r', linestyle='-')\n",
    "pp.show()"
   ]
  },
  {
   "cell_type": "code",
   "execution_count": null,
   "metadata": {},
   "outputs": [],
   "source": [
    "pp.plot(arr)\n",
    "pp.plot(savgol_filter(arr, 51, 3))\n",
    "\n",
    "pp.show()"
   ]
  },
  {
   "cell_type": "code",
   "execution_count": null,
   "metadata": {},
   "outputs": [],
   "source": [
    "pp.plot(arr)\n",
    "pp.plot(savgol_filter(arr, 31, 3))\n",
    "\n",
    "pp.show()"
   ]
  },
  {
   "cell_type": "code",
   "execution_count": null,
   "metadata": {},
   "outputs": [],
   "source": [
    "pp.plot(arr)\n",
    "pp.plot(savgol_filter(arr, 11, 3))\n",
    "\n",
    "pp.show()"
   ]
  },
  {
   "cell_type": "code",
   "execution_count": null,
   "metadata": {},
   "outputs": [],
   "source": [
    "pp.plot(arr)\n",
    "pp.plot(savgol_filter(arr, 11, 7))\n",
    "\n",
    "pp.show()"
   ]
  },
  {
   "cell_type": "code",
   "execution_count": null,
   "metadata": {},
   "outputs": [],
   "source": [
    "change_points = create_prediction('test.wav', hop=10, win_len=25, threshold=0.6, embedding_system=embedding_system)\n",
    "\n",
    "# This is for unsupervised adaptation.\n",
    "\n",
    "## Very bad according to optimization view. !!!\n",
    "def creata_data_for_unsuper_adaptation(root_dir, hop, win_len):\n",
    "    all_wav_paths = glob.glob(os.path.join(root_dir, '*m4a'))\n",
    "    matrix_of_all_wav = []\n",
    "    \n",
    "    input_array = []\n",
    "    output_array = []\n",
    "    \n",
    "    for single_wav_path in all_wav_paths:\n",
    "        prediction_array = create_prediction(wav_file, hop, win_len, threshold, embedding_system)\n",
    "        matrix_of_single_wav = wav_to_matrix(single_wav_path, hop, win_len)\n",
    "            \n",
    "        start_point = 0\n",
    "        while (start_point+200 < matrix_of_single_wav.shape[1]):\n",
    "            change = 0 # value to check any value in prediction array is in range of frame\n",
    "            for single_change in prediction_array:\n",
    "                if (single_change in range(float(win_len + ((offset) * hop)), \n",
    "                                               float(win_len + ((offset+200) * hop)))):\n",
    "                    change = 1\n",
    "            if (change == 0):\n",
    "                single_input = wav_array[0:40,start_point:start_point+100]\n",
    "                single_output = wav_array[:40, start_point+100:start_point+200]\n",
    "                input_array.append(single_input)\n",
    "                output_array.append(single_output)\n",
    "            start_point += 100\n",
    "\n",
    "    input_array = np.asarray(input_array)\n",
    "    input_array = input_array.reshape((len(input_array), np.prod(input_array.shape[1:])))\n",
    "    \n",
    "    output_array = np.asarray(output_array)\n",
    "    output_array = output_array.reshape((len(output_array)*output_array.shape[1], output_array.shape[2]*output_array.shape[3] ))\n",
    "\n",
    "    print(output_array.shape)\n",
    "    \n",
    "    return (input_array, output_array)\n"
   ]
  },
  {
   "cell_type": "code",
   "execution_count": null,
   "metadata": {},
   "outputs": [],
   "source": []
  }
 ],
 "metadata": {
  "kernelspec": {
   "display_name": "Python 3",
   "language": "python",
   "name": "python3"
  },
  "language_info": {
   "codemirror_mode": {
    "name": "ipython",
    "version": 3
   },
   "file_extension": ".py",
   "mimetype": "text/x-python",
   "name": "python",
   "nbconvert_exporter": "python",
   "pygments_lexer": "ipython3",
   "version": "3.6.5"
  }
 },
 "nbformat": 4,
 "nbformat_minor": 2
}
