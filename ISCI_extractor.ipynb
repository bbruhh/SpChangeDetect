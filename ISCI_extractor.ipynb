{
 "cells": [
  {
   "cell_type": "code",
   "execution_count": null,
   "metadata": {},
   "outputs": [],
   "source": [
    "cd Downloads/"
   ]
  },
  {
   "cell_type": "code",
   "execution_count": null,
   "metadata": {},
   "outputs": [],
   "source": [
    "!ls"
   ]
  },
  {
   "cell_type": "code",
   "execution_count": null,
   "metadata": {},
   "outputs": [],
   "source": [
    "cd ./ICSI/"
   ]
  },
  {
   "cell_type": "code",
   "execution_count": null,
   "metadata": {},
   "outputs": [],
   "source": [
    "!ls"
   ]
  },
  {
   "cell_type": "code",
   "execution_count": null,
   "metadata": {},
   "outputs": [],
   "source": [
    "print (segments_xml_files_path)"
   ]
  },
  {
   "cell_type": "code",
   "execution_count": null,
   "metadata": {},
   "outputs": [],
   "source": [
    "# https://eli.thegreenplace.net/2012/03/15/processing-xml-in-python-with-elementtree\n",
    "\n",
    "import xml.etree.cElementTree as ET\n",
    "import os\n",
    "import glob\n",
    "\n",
    "filename = \" \"\n",
    "single_audio_xml_dict = {}\n",
    "\n",
    "root_dir = \"/home/herdogan/Downloads/ICSI/Segments/\"\n",
    "\n",
    "segments_xml_files_path = sorted(glob.glob(os.path.join(root_dir, '*xml')))\n",
    "\n",
    "\n",
    "for xml_file in segments_xml_files_path:\n",
    "    tmp_filename = xml_file.split(\".\")[0]\n",
    "    # After read all different channels’ segments, write all of them into \n",
    "    # one text file according to segment num\n",
    "    if ((filename != \" \") and (filename!=tmp_filename)):\n",
    " \n",
    "        file = open(filename, \"w\")\n",
    "        segment_num = 1\n",
    "        while (len(single_audio_xml_dict) >= segment_num):\n",
    "            segment = str(segment_num)\n",
    "            \n",
    "            try:\n",
    "                line = filename.split(\"/\")[-1] + \" \"  + single_audio_xml_dict[segment][\"segment_num\"] + \" \" + single_audio_xml_dict[segment][\"start_time\"] +  \" \" + single_audio_xml_dict[segment][\"end_time\"] + \" \" + single_audio_xml_dict[segment][\"parti\"] +  \"\\n\"\n",
    "                file.write(line)\n",
    "                segment_num += 1\n",
    "\n",
    "            except KeyError:\n",
    "                segment_num += 1\n",
    "\n",
    "        file.close()\n",
    "        single_audio_xml_dict = {}\n",
    "        \n",
    "    filename = xml_file.split(\".\")[0]\n",
    "    speaker = xml_file.split(\".\")[1]\n",
    "    # bunlari bir .txt icine yazmam lazim\n",
    "    tree = ET.ElementTree(file=xml_file)\n",
    "    root = tree.getroot()\n",
    "    for child_of_root in root:\n",
    "        for subelem in child_of_root:\n",
    "            try:\n",
    "                if (\"vocalsound\" in subelem.attrib[\"href\"]):\n",
    "                    id_base = child_of_root.attrib[\"{http://nite.sourceforge.net/}id\"]\n",
    "                    segment_num = id_base.split(\".\")[2]\n",
    "                    start_time = child_of_root.attrib[\"starttime\"]\n",
    "                    end_time = child_of_root.attrib[\"endtime\"]\n",
    "                    parti = child_of_root.attrib[\"participant\"]\n",
    "                    tmp_dict = {\"segment_num\":segment_num,\n",
    "                               \"start_time\":start_time,\n",
    "                               \"end_time\":end_time,\n",
    "                               \"parti\":parti}\n",
    "                    single_audio_xml_dict[segment_num] = tmp_dict\n",
    "            except:\n",
    "                pass\n",
    "        \n",
    "        "
   ]
  },
  {
   "cell_type": "code",
   "execution_count": null,
   "metadata": {},
   "outputs": [],
   "source": [
    "print (filename)"
   ]
  },
  {
   "cell_type": "code",
   "execution_count": null,
   "metadata": {},
   "outputs": [],
   "source": [
    "print (single_audio_xml_dict)"
   ]
  },
  {
   "cell_type": "code",
   "execution_count": null,
   "metadata": {},
   "outputs": [],
   "source": []
  }
 ],
 "metadata": {
  "kernelspec": {
   "display_name": "Python 3",
   "language": "python",
   "name": "python3"
  },
  "language_info": {
   "codemirror_mode": {
    "name": "ipython",
    "version": 3
   },
   "file_extension": ".py",
   "mimetype": "text/x-python",
   "name": "python",
   "nbconvert_exporter": "python",
   "pygments_lexer": "ipython3",
   "version": "3.6.5"
  }
 },
 "nbformat": 4,
 "nbformat_minor": 2
}
