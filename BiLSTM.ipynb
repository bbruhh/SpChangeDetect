{
 "cells": [
  {
   "cell_type": "markdown",
   "metadata": {},
   "source": [
    "In this notebook, we are trying to reproduce [the paper](https://pdfs.semanticscholar.org/edff/b62b32ffcc2b5cc846e26375cb300fac9ecc.pdf) for speaker change detection\n",
    "\n",
    "## Review\n",
    "\n",
    "**Sequence Labelling** \n",
    "\n",
    "They think this task as a binary classification. Thus, they label changing frame as a **1** and non-changing frame as a **0**. So that, they use the _binary cross-entropy loss function_.\n",
    "\n",
    "**Network Architecture**\n",
    "- 2 Bi-LSTM\n",
    "    - 64 and 32 outputs respectively.\n",
    "- Multi Layer Perceptron\n",
    "    - 3 Fully Connected Feedforward Layers\n",
    "        - 40, 20, 1 dimensional respectively.\n",
    "    - Tanh activation for first 2 layer\n",
    "    - Sigmoid activation for last layer\n",
    "    \n",
    "**Feature Extraction**\n",
    "- \"35-dimensional acoustic features are extracted every 16ms on a 32ms window using [Yaafe toolkit](http://yaafe.sourceforge.net).\"\n",
    "    - 11 Mel-Frequency Cepstral Coefficients (MFCC), \n",
    "    - Their first and second derivatives,\n",
    "    - First and second derivatives of the energy.\n",
    "\n",
    "**Class Imbalance**\n",
    "\n",
    "- _\"The number of positive labels isincreased artificially by labeling as positive every frame in the direct neighborhood of the manually annotated change point.\"_\n",
    "- A positive neighborhood of 100ms (50ms on both sides) is used around each change point, to partially solve the class imbalance problem.\n",
    "\n",
    "**Subsequences**\n",
    "\n",
    "- _\"The long audio sequences are split into short fixed-length overlapping sequences.\"_\n",
    "\n",
    "**Prediction**\n",
    "\n",
    "- _\"Finally, local score maxima exceeding a pre-determined threshold θ are marked as speaker change points.\"_\n",
    "\n",
    "**Training**\n",
    "\n",
    "- Subsequences for training are 3.2s long with a step of 800ms (i.e. two adjacent sequences overlap by 75%)."
   ]
  },
  {
   "cell_type": "markdown",
   "metadata": {},
   "source": [
    "## Code\n",
    "\n",
    "### Feature Extraction\n",
    "\n",
    "We will use Yaafe Toolkit. (To see all available features, you can use _!yaafe -l_) To learn how we can do that, start with http://yaafe.github.io/Yaafe/manual/quickstart.html#quick-start-using-yaafe\n"
   ]
  },
  {
   "cell_type": "code",
   "execution_count": 1,
   "metadata": {},
   "outputs": [
    {
     "name": "stdout",
     "output_type": "stream",
     "text": [
      "\n",
      "    Compute the Mel-frequencies cepstrum coefficients [DM1980]_.\n",
      "\n",
      "    Mel filter bank is built as 40 log-spaced filters according to\n",
      "    the following mel-scale:\n",
      "\n",
      "    .. math:: melfreq = 1127 * log(1 + \\frac{freq}{700})\n",
      "\n",
      "    Each filter is a triangular filter with height :math:`2/(f_{max}-f_{min})`.\n",
      "    Then MFCCs are computed as following, using DCT II:\n",
      "\n",
      "    .. math:: mfcc = dct(log(abs(fft(hanning(N).x)).MelFilterBank))\n",
      "\n",
      "    .. [DM1980] S.B. Davis and P.Mermelstrin, *Comparison of parametric\n",
      "                representations for monosyllabic word recognition in\n",
      "                continuously spoken sentences.* IEEE Transactions on\n",
      "                Acoustics, Speech and Signal Processing,\n",
      "                28 :357-366, 1980.\n",
      "\n",
      "    \n",
      "Parameters are :\n",
      "- CepsIgnoreFirstCoeff (default=1): 0 keeps the first cepstral coeffcient, 1 ignore it\n",
      "- CepsNbCoeffs (default=13): Number of cepstral coefficient to keep.\n",
      "- FFTWindow (default=Hanning): Weighting window to apply before fft. Hanning|Hamming|None\n",
      "- MelMaxFreq (default=6854.0): Maximum frequency of the mel filter bank\n",
      "- MelMinFreq (default=130.0): Minimum frequency of the mel filter bank\n",
      "- MelNbFilters (default=40): Number of mel filters\n",
      "- blockSize (default=1024): output frames size\n",
      "- stepSize (default=512): step between consecutive frames\n"
     ]
    }
   ],
   "source": [
    "# You can view a description of each feature (or output format) with the -d option:\n",
    "\n",
    "!yaafe -d MFCC"
   ]
  },
  {
   "cell_type": "code",
   "execution_count": 2,
   "metadata": {},
   "outputs": [
    {
     "name": "stdout",
     "output_type": "stream",
     "text": [
      "\n",
      "    Compute energy as root mean square of an audio Frame.\n",
      "\n",
      "    .. math:: en = \\sqrt\\frac{\\sum_{i=0}^{N-1}x(i)^2}{N}\n",
      "\n",
      "    \n",
      "Parameters are :\n",
      "- blockSize (default=1024): output frames size\n",
      "- stepSize (default=512): step between consecutive frames\n"
     ]
    }
   ],
   "source": [
    "!yaafe -d Energy"
   ]
  },
  {
   "cell_type": "markdown",
   "metadata": {},
   "source": [
    "Let's determine blockSize and stepSize. \n",
    "\n",
    "If we have 16kHz audio signal(in AMI, we have 16kHz), for 32 ms block, we need 16x32, For the stepsize as 16 ms, we need 16x16 size.\n",
    "\n",
    "We need these features:\n",
    "\n",
    "- mfcc: MFCC blockSize=512 stepSize=256 CepsNbCoeffs=11\n",
    "- mfcc_d1: MFCC blockSize=512 stepSize=256 CepsNbCoeffs=11 > Derivate DOrder=1\n",
    "- mfcc_d2: MFCC blockSize=512 stepSize=256 CepsNbCoeffs=11 > Derivate DOrder=2\n",
    "- energy_d1: Energy blockSize=512 stepSize=256  > Derivate DOrder=1\n",
    "- energy_d2: Energy blockSize=512 stepSize=256  > Derivate DOrder=2"
   ]
  },
  {
   "cell_type": "markdown",
   "metadata": {},
   "source": [
    "To extract all of these, we will use [this technique](http://yaafe.github.io/Yaafe/manual/quickstart.html#extract-several-features). Shortly, we will write all these features into single text file."
   ]
  },
  {
   "cell_type": "code",
   "execution_count": 3,
   "metadata": {},
   "outputs": [],
   "source": [
    "f = open(\"featureplan.txt\", \"w\")\n",
    "f.write(\"mfcc: MFCC blockSize=512 stepSize=256 CepsNbCoeffs=11 \\n\"\n",
    "        \"mfcc_d1: MFCC blockSize=512 stepSize=256 CepsNbCoeffs=11 > Derivate DOrder=1 \\n\"\n",
    "        \"mfcc_d2: MFCC blockSize=512 stepSize=256 CepsNbCoeffs=11 > Derivate DOrder=2 \\n\"\n",
    "        \"energy_d1: Energy blockSize=512 stepSize=256  > Derivate DOrder=1 \\n\"\n",
    "        \"energy_d2: Energy blockSize=512 stepSize=256  > Derivate DOrder=2\")\n",
    "f.close() "
   ]
  },
  {
   "cell_type": "code",
   "execution_count": 4,
   "metadata": {},
   "outputs": [
    {
     "name": "stdout",
     "output_type": "stream",
     "text": [
      "mfcc: MFCC blockSize=512 stepSize=256 CepsNbCoeffs=11 \n",
      "mfcc_d1: MFCC blockSize=512 stepSize=256 CepsNbCoeffs=11 > Derivate DOrder=1 \n",
      "mfcc_d2: MFCC blockSize=512 stepSize=256 CepsNbCoeffs=11 > Derivate DOrder=2 \n",
      "energy_d1: Energy blockSize=512 stepSize=256  > Derivate DOrder=1 \n",
      "energy_d2: Energy blockSize=512 stepSize=256  > Derivate DOrder=2"
     ]
    }
   ],
   "source": [
    "cat featureplan.txt"
   ]
  },
  {
   "cell_type": "code",
   "execution_count": 5,
   "metadata": {},
   "outputs": [],
   "source": [
    "#!ls"
   ]
  },
  {
   "cell_type": "code",
   "execution_count": 6,
   "metadata": {},
   "outputs": [
    {
     "name": "stdout",
     "output_type": "stream",
     "text": [
      "process file a2002011001-e02-16kHz.wav\n",
      "ERROR: cannot open audio file a2002011001-e02-16kHz.wav: System error : No such file or directory.\n",
      "ERROR: cannot initialize reader AudioFileReader for file a2002011001-e02-16kHz.wav\n"
     ]
    }
   ],
   "source": [
    "!yaafe -c featureplan.txt -r 16000 a2002011001-e02-16kHz.wav -p Precision=8 -p Metadata=False"
   ]
  },
  {
   "cell_type": "markdown",
   "metadata": {},
   "source": [
    "**With Librosa**"
   ]
  },
  {
   "cell_type": "code",
   "execution_count": 49,
   "metadata": {},
   "outputs": [],
   "source": [
    "import librosa\n",
    "import os\n",
    "import glob\n",
    "import numpy as np\n",
    "import sys\n",
    "\n",
    "def wav_to_matrix(filename, hop, win_len): # hop and win_len in milisecond \n",
    "    audio, sr = librosa.load(filename)\n",
    "    # https://github.com/librosa/librosa/issues/584\n",
    "    mfccs = librosa.feature.mfcc(audio, sr, n_mfcc=11, hop_length=int(float(hop/1000)*sr), n_fft=int(float(win_len/1000)*sr))\n",
    "    mfccs_d1 = librosa.feature.delta(mfccs)\n",
    "    mfccs_d2 = librosa.feature.delta(mfccs, order=2)\n",
    "    energy = librosa.feature.rmse(y=audio, hop_length=int(float(hop/1000)*sr), frame_length=int(float(win_len/1000)*sr))\n",
    "    energy_d1 = librosa.feature.delta(energy)\n",
    "    energy_d2 = librosa.feature.delta(energy, order=2)\n",
    "    print (mfccs.shape)\n",
    "    print (mfccs_d1.shape)\n",
    "    print (mfccs_d2.shape)\n",
    "    print (energy_d1.shape)\n",
    "    print (energy_d2.shape)\n",
    "\n",
    "    a = np.vstack((mfccs, mfccs_d1, mfccs_d2, energy_d1, energy_d2))\n",
    "    # line_mfccs = np.ravel(mfccs, order='F')\n",
    "    return a"
   ]
  },
  {
   "cell_type": "code",
   "execution_count": 50,
   "metadata": {},
   "outputs": [
    {
     "name": "stdout",
     "output_type": "stream",
     "text": [
      "amicorpus\n",
      "audio_files\n",
      "audio_files_full\n",
      "BiLSTM.ipynb\n",
      "featureplan.txt\n",
      "How to Read a Research Paper.mp3\n",
      "ISCI_extractor.ipynb\n",
      "Kafa Ayarı #5 - Hızlı Trenler ile Saatte 8000 Kilometre!.mp3_prediction.txt\n",
      "LICENSE\n",
      "npy_extractor.ipynb\n",
      "npy_files\n",
      "pyannote-audio\n",
      "pyannote_reproduce_dev.ipynb\n",
      "pyannote_reproduce.ipynb\n",
      "README.md\n",
      "Speaker2Vec_dev.ipynb\n",
      "Speaker2Vec.ipynb\n"
     ]
    }
   ],
   "source": [
    "!ls"
   ]
  },
  {
   "cell_type": "code",
   "execution_count": 51,
   "metadata": {},
   "outputs": [
    {
     "name": "stdout",
     "output_type": "stream",
     "text": [
      "(11, 52490)\n",
      "(11, 52490)\n",
      "(11, 52490)\n",
      "(1, 52490)\n",
      "(1, 52490)\n"
     ]
    }
   ],
   "source": [
    "k = wav_to_matrix(\"How to Read a Research Paper.mp3\", 10, 25)"
   ]
  },
  {
   "cell_type": "code",
   "execution_count": 52,
   "metadata": {},
   "outputs": [
    {
     "data": {
      "text/plain": [
       "(35, 52490)"
      ]
     },
     "execution_count": 52,
     "metadata": {},
     "output_type": "execute_result"
    }
   ],
   "source": [
    "k.shape"
   ]
  },
  {
   "cell_type": "markdown",
   "metadata": {},
   "source": [
    "### Create Subsequences with Label\n",
    "\n",
    "At that point, we should create training and test data with their label. \n",
    "\n"
   ]
  },
  {
   "cell_type": "markdown",
   "metadata": {},
   "source": [
    "### Deep Learning Architecture\n",
    "\n",
    "We can directly upload the model's architecture from the .yml file which is provided by writer.\n",
    "\n",
    "However, I want to directly write all steps."
   ]
  },
  {
   "cell_type": "code",
   "execution_count": 37,
   "metadata": {},
   "outputs": [
    {
     "name": "stdout",
     "output_type": "stream",
     "text": [
      "--2018-07-16 10:39:09--  https://raw.githubusercontent.com/yinruiqing/change_detection/master/model/architecture.yml\n",
      "Resolving raw.githubusercontent.com (raw.githubusercontent.com)... 151.101.112.133\n",
      "Connecting to raw.githubusercontent.com (raw.githubusercontent.com)|151.101.112.133|:443... connected.\n",
      "HTTP request sent, awaiting response... 200 OK\n",
      "Length: 3434 (3.4K) [text/plain]\n",
      "Saving to: 'architecture.yml.4'\n",
      "\n",
      "architecture.yml.4  100%[===================>]   3.35K  --.-KB/s    in 0s      \n",
      "\n",
      "2018-07-16 10:39:09 (27.1 MB/s) - 'architecture.yml.4' saved [3434/3434]\n",
      "\n"
     ]
    }
   ],
   "source": [
    "# Author's .yml files\n",
    "\n",
    "!wget https://raw.githubusercontent.com/yinruiqing/change_detection/master/model/architecture.yml"
   ]
  },
  {
   "cell_type": "code",
   "execution_count": 38,
   "metadata": {},
   "outputs": [
    {
     "name": "stderr",
     "output_type": "stream",
     "text": [
      "/usr/local/lib/python3.6/site-packages/keras/engine/topology.py:1253: UserWarning: Update your `InputLayer` call to the Keras 2 API: `InputLayer(batch_input_shape=(None, 320..., name=\"labeling_input\", sparse=False, dtype=\"float32\")`\n",
      "  return cls(**config)\n",
      "/usr/local/lib/python3.6/site-packages/keras/layers/recurrent.py:2120: UserWarning: The `input_dim` and `input_length` arguments in recurrent layers are deprecated. Use `input_shape` instead.\n",
      "  return cls(**config)\n",
      "/usr/local/lib/python3.6/site-packages/keras/layers/recurrent.py:2120: UserWarning: Update your `LSTM` call to the Keras 2 API: `LSTM(activation=\"tanh\", batch_input_shape=(None, 320..., go_backwards=False, input_dtype=\"float32\", name=\"forward_lstm_0\", return_sequences=True, stateful=False, trainable=True, unroll=False, unit_forget_bias=True, input_shape=(None, 35), units=32, kernel_initializer=\"glorot_uniform\", recurrent_initializer=\"orthogonal\", recurrent_activation=\"hard_sigmoid\", kernel_regularizer=None, bias_regularizer=None, recurrent_regularizer=None, dropout=0.0, recurrent_dropout=0.0, implementation=0)`\n",
      "  return cls(**config)\n",
      "/usr/local/lib/python3.6/site-packages/keras/layers/recurrent.py:1977: UserWarning: `implementation=0` has been deprecated, and now defaults to `implementation=1`.Please update your layer call.\n",
      "  warnings.warn('`implementation=0` has been deprecated, '\n",
      "/usr/local/lib/python3.6/site-packages/keras/layers/recurrent.py:2120: UserWarning: Update your `LSTM` call to the Keras 2 API: `LSTM(activation=\"tanh\", go_backwards=False, name=\"forward_lstm_1\", return_sequences=True, stateful=False, trainable=True, unroll=False, unit_forget_bias=True, input_shape=(None, 64), units=20, kernel_initializer=\"glorot_uniform\", recurrent_initializer=\"orthogonal\", recurrent_activation=\"hard_sigmoid\", kernel_regularizer=None, bias_regularizer=None, recurrent_regularizer=None, dropout=0.0, recurrent_dropout=0.0, implementation=0)`\n",
      "  return cls(**config)\n",
      "/usr/local/lib/python3.6/site-packages/keras/engine/topology.py:1253: UserWarning: Update your `Dense` call to the Keras 2 API: `Dense(activation=\"tanh\", activity_regularizer=None, input_dim=40, name=\"mlp_0\", trainable=True, units=40, kernel_initializer=\"glorot_uniform\", kernel_regularizer=None, bias_regularizer=None, kernel_constraint=None, bias_constraint=None, use_bias=True)`\n",
      "  return cls(**config)\n",
      "/usr/local/lib/python3.6/site-packages/keras/engine/topology.py:1253: UserWarning: Update your `Dense` call to the Keras 2 API: `Dense(activation=\"tanh\", activity_regularizer=None, input_dim=40, name=\"mlp_1\", trainable=True, units=10, kernel_initializer=\"glorot_uniform\", kernel_regularizer=None, bias_regularizer=None, kernel_constraint=None, bias_constraint=None, use_bias=True)`\n",
      "  return cls(**config)\n",
      "/usr/local/lib/python3.6/site-packages/keras/engine/topology.py:1253: UserWarning: Update your `Dense` call to the Keras 2 API: `Dense(activation=\"sigmoid\", activity_regularizer=None, input_dim=10, name=\"labeling_output\", trainable=True, units=1, kernel_initializer=\"glorot_uniform\", kernel_regularizer=None, bias_regularizer=None, kernel_constraint=None, bias_constraint=None, use_bias=True)`\n",
      "  return cls(**config)\n"
     ]
    }
   ],
   "source": [
    "# Load to model\n",
    "\n",
    "from keras.models import model_from_yaml\n",
    "yaml_file = open('architecture.yml', 'r')\n",
    "loaded_model_yaml = yaml_file.read()\n",
    "yaml_file.close()\n",
    "model = model_from_yaml(loaded_model_yaml)"
   ]
  },
  {
   "cell_type": "code",
   "execution_count": 39,
   "metadata": {},
   "outputs": [
    {
     "name": "stdout",
     "output_type": "stream",
     "text": [
      "_________________________________________________________________\n",
      "Layer (type)                 Output Shape              Param #   \n",
      "=================================================================\n",
      "labeling_input (InputLayer)  (None, 320, 35)           0         \n",
      "_________________________________________________________________\n",
      "bidirectional_1 (Bidirection (None, 320, 64)           17408     \n",
      "_________________________________________________________________\n",
      "bidirectional_2 (Bidirection (None, 320, 40)           13600     \n",
      "_________________________________________________________________\n",
      "timedistributed_1 (TimeDistr (None, 320, 40)           1640      \n",
      "_________________________________________________________________\n",
      "timedistributed_2 (TimeDistr (None, 320, 10)           410       \n",
      "_________________________________________________________________\n",
      "timedistributed_3 (TimeDistr (None, 320, 1)            11        \n",
      "=================================================================\n",
      "Total params: 33,069\n",
      "Trainable params: 33,069\n",
      "Non-trainable params: 0\n",
      "_________________________________________________________________\n"
     ]
    }
   ],
   "source": [
    "model.summary()"
   ]
  },
  {
   "cell_type": "code",
   "execution_count": 42,
   "metadata": {},
   "outputs": [],
   "source": [
    "from keras import layers\n",
    "from keras import models\n",
    "import keras\n",
    "from keras.models import Model\n",
    "import tensorflow as tf\n",
    "from keras.layers.advanced_activations import *\n",
    "from keras.utils.generic_utils import get_custom_objects\n",
    "\n",
    "\n",
    "frame_shape = (320, 35)\n",
    "\n",
    "## Network Architecture\n",
    "\n",
    "input_frame = keras.Input(frame_shape, name='main_input')\n",
    "\n",
    "bidirectional_1 = layers.Bidirectional(layers.LSTM(64, return_sequences=True))(input_frame)\n",
    "bidirectional_2 = layers.Bidirectional(layers.LSTM(40, activation='tanh', return_sequences=True))(bidirectional_1)\n",
    "\n",
    "tdistributed_1 = layers.TimeDistributed(layers.Dense(40, activation='tanh'))(bidirectional_2)\n",
    "tdistributed_2 = layers.TimeDistributed(layers.Dense(20, activation='tanh'))(tdistributed_1)\n",
    "tdistributed_3 = layers.TimeDistributed(layers.Dense(1, activation='sigmoid'))(tdistributed_2)\n",
    "\n",
    "## Source: https://stackoverflow.com/questions/37743574/hard-limiting-threshold-activation-function-in-tensorflow\n",
    "def step_activation(x):\n",
    "    threshold = 0.4\n",
    "    cond = tf.less(x, tf.fill(value=threshold, dims=tf.shape(x)))\n",
    "    out = tf.where(cond, tf.zeros(tf.shape(x)), tf.ones(tf.shape(x)))\n",
    "\n",
    "    return out\n",
    "\n",
    "step_activation = layers.Dense(1, activation=step_activation, name='threshold_activation')(tdistributed_3)\n",
    "\n",
    "\n",
    "\n",
    "model = Model(input_frame, step_activation)"
   ]
  },
  {
   "cell_type": "code",
   "execution_count": 41,
   "metadata": {},
   "outputs": [
    {
     "name": "stdout",
     "output_type": "stream",
     "text": [
      "_________________________________________________________________\n",
      "Layer (type)                 Output Shape              Param #   \n",
      "=================================================================\n",
      "main_input (InputLayer)      (None, 320, 35)           0         \n",
      "_________________________________________________________________\n",
      "bidirectional_51 (Bidirectio (None, 320, 128)          51200     \n",
      "_________________________________________________________________\n",
      "bidirectional_52 (Bidirectio (None, 320, 80)           54080     \n",
      "_________________________________________________________________\n",
      "time_distributed_76 (TimeDis (None, 320, 40)           3240      \n",
      "_________________________________________________________________\n",
      "time_distributed_77 (TimeDis (None, 320, 20)           820       \n",
      "_________________________________________________________________\n",
      "time_distributed_78 (TimeDis (None, 320, 1)            21        \n",
      "_________________________________________________________________\n",
      "threshold_activation (Dense) (None, 320, 1)            2         \n",
      "=================================================================\n",
      "Total params: 109,363\n",
      "Trainable params: 109,363\n",
      "Non-trainable params: 0\n",
      "_________________________________________________________________\n"
     ]
    }
   ],
   "source": [
    "model.summary()"
   ]
  },
  {
   "cell_type": "code",
   "execution_count": null,
   "metadata": {},
   "outputs": [],
   "source": [
    "# To save our model\n",
    "\n",
    "model_yaml = model.to_yaml()\n",
    "with open(\"model.yaml\", \"w\") as yaml_file:\n",
    "    yaml_file.write(model_yaml)"
   ]
  },
  {
   "cell_type": "code",
   "execution_count": null,
   "metadata": {},
   "outputs": [],
   "source": [
    "# To look our model\n",
    "\n",
    "!cat model.yaml"
   ]
  },
  {
   "cell_type": "code",
   "execution_count": null,
   "metadata": {},
   "outputs": [],
   "source": []
  }
 ],
 "metadata": {
  "kernelspec": {
   "display_name": "Python 3",
   "language": "python",
   "name": "python3"
  },
  "language_info": {
   "codemirror_mode": {
    "name": "ipython",
    "version": 3
   },
   "file_extension": ".py",
   "mimetype": "text/x-python",
   "name": "python",
   "nbconvert_exporter": "python",
   "pygments_lexer": "ipython3",
   "version": "3.6.5"
  }
 },
 "nbformat": 4,
 "nbformat_minor": 2
}
