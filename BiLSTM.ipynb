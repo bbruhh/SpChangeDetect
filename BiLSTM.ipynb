{
 "cells": [
  {
   "cell_type": "markdown",
   "metadata": {},
   "source": [
    "In this notebook, we are trying to reproduce [the paper](https://pdfs.semanticscholar.org/edff/b62b32ffcc2b5cc846e26375cb300fac9ecc.pdf) for speaker change detection\n",
    "\n",
    "**TODO**\n",
    "\n",
    "- Use AMI Corpus with feature extraction with pyannote.\n",
    "\n",
    "## Review\n",
    "\n",
    "**Sequence Labelling** \n",
    "\n",
    "They think this task as a binary classification. Thus, they label changing frame as a **1** and non-changing frame as a **0**. So that, they use the _binary cross-entropy loss function_.\n",
    "\n",
    "**Network Architecture**\n",
    "- 2 Bi-LSTM\n",
    "    - 64 and 32 outputs respectively.\n",
    "- Multi Layer Perceptron\n",
    "    - 3 Fully Connected Feedforward Layers\n",
    "        - 40, 20, 1 dimensional respectively.\n",
    "    - Tanh activation for first 2 layer\n",
    "    - Sigmoid activation for last layer\n",
    "    \n",
    "**Feature Extraction**\n",
    "- \"35-dimensional acoustic features are extracted every 16ms on a 32ms window using [Yaafe toolkit](http://yaafe.sourceforge.net).\"\n",
    "    - 11 Mel-Frequency Cepstral Coefficients (MFCC), \n",
    "    - Their first and second derivatives,\n",
    "    - First and second derivatives of the energy.\n",
    "\n",
    "**Class Imbalance**\n",
    "\n",
    "- _\"The number of positive labels isincreased artificially by labeling as positive every frame in the direct neighborhood of the manually annotated change point.\"_\n",
    "- A positive neighborhood of 100ms (50ms on both sides) is used around each change point, to partially solve the class imbalance problem.\n",
    "\n",
    "**Subsequences**\n",
    "\n",
    "- _\"The long audio sequences are split into short fixed-length overlapping sequences.\"_\n",
    "\n",
    "**Prediction**\n",
    "\n",
    "- _\"Finally, local score maxima exceeding a pre-determined threshold θ are marked as speaker change points.\"_\n",
    "\n",
    "**Training**\n",
    "\n",
    "- Subsequences for training are 3.2s long with a step of 800ms (i.e. two adjacent sequences overlap by 75%)."
   ]
  },
  {
   "cell_type": "markdown",
   "metadata": {},
   "source": [
    "## Code\n",
    "\n",
    "### Feature Extraction\n",
    "\n",
    "We will use Yaafe Toolkit. (To see all available features, you can use _!yaafe -l_) To learn how we can do that, start with http://yaafe.github.io/Yaafe/manual/quickstart.html#quick-start-using-yaafe\n"
   ]
  },
  {
   "cell_type": "code",
   "execution_count": null,
   "metadata": {},
   "outputs": [],
   "source": [
    "# You can view a description of each feature (or output format) with the -d option:\n",
    "\n",
    "!yaafe -d MFCC"
   ]
  },
  {
   "cell_type": "code",
   "execution_count": null,
   "metadata": {},
   "outputs": [],
   "source": [
    "!yaafe -d Energy"
   ]
  },
  {
   "cell_type": "markdown",
   "metadata": {},
   "source": [
    "Let's determine blockSize and stepSize. \n",
    "\n",
    "If we have 16kHz audio signal(in AMI, we have 16kHz), for 32 ms block, we need 16x32, For the stepsize as 16 ms, we need 16x16 size.\n",
    "\n",
    "We need these features:\n",
    "\n",
    "- mfcc: MFCC blockSize=512 stepSize=256 CepsNbCoeffs=11\n",
    "- mfcc_d1: MFCC blockSize=512 stepSize=256 CepsNbCoeffs=11 > Derivate DOrder=1\n",
    "- mfcc_d2: MFCC blockSize=512 stepSize=256 CepsNbCoeffs=11 > Derivate DOrder=2\n",
    "- energy_d1: Energy blockSize=512 stepSize=256  > Derivate DOrder=1\n",
    "- energy_d2: Energy blockSize=512 stepSize=256  > Derivate DOrder=2"
   ]
  },
  {
   "cell_type": "markdown",
   "metadata": {},
   "source": [
    "To extract all of these, we will use [this technique](http://yaafe.github.io/Yaafe/manual/quickstart.html#extract-several-features). Shortly, we will write all these features into single text file."
   ]
  },
  {
   "cell_type": "code",
   "execution_count": null,
   "metadata": {},
   "outputs": [],
   "source": [
    "f = open(\"featureplan.txt\", \"w\")\n",
    "f.write(\"mfcc: MFCC blockSize=512 stepSize=256 CepsNbCoeffs=11 \\n\"\n",
    "        \"mfcc_d1: MFCC blockSize=512 stepSize=256 CepsNbCoeffs=11 > Derivate DOrder=1 \\n\"\n",
    "        \"mfcc_d2: MFCC blockSize=512 stepSize=256 CepsNbCoeffs=11 > Derivate DOrder=2 \\n\"\n",
    "        \"energy_d1: Energy blockSize=512 stepSize=256  > Derivate DOrder=1 \\n\"\n",
    "        \"energy_d2: Energy blockSize=512 stepSize=256  > Derivate DOrder=2\")\n",
    "f.close() "
   ]
  },
  {
   "cell_type": "code",
   "execution_count": null,
   "metadata": {},
   "outputs": [],
   "source": [
    "cat featureplan.txt"
   ]
  },
  {
   "cell_type": "code",
   "execution_count": null,
   "metadata": {},
   "outputs": [],
   "source": [
    "#!ls"
   ]
  },
  {
   "cell_type": "code",
   "execution_count": null,
   "metadata": {},
   "outputs": [],
   "source": [
    "!yaafe -c featureplan.txt -r 16000 a2002011001-e02-16kHz.wav -p Precision=8 -p Metadata=False"
   ]
  },
  {
   "cell_type": "code",
   "execution_count": null,
   "metadata": {},
   "outputs": [],
   "source": [
    "filename = \"ES2009a\"\n",
    "matrix_of_single_audio = np.load(\"/home/herdogan/Desktop/SpChangeDetect/pyannote-audio/tutorials/feature-extraction/AMI/\" + filename + \".Mix-Headset.npy\")\n",
    "print (matrix_of_single_audio.shape)"
   ]
  },
  {
   "cell_type": "code",
   "execution_count": 1,
   "metadata": {},
   "outputs": [],
   "source": [
    "import math\n",
    "import numpy as np\n",
    "import glob\n",
    "import os\n",
    "import matplotlib.pyplot as pp\n",
    "\n",
    "%matplotlib inline\n",
    "\n",
    "\n",
    "def create_data_for_supervised(root_dir, hop, win_len, from_ep=0, to_ep=0, boost_for_imbalance=False, how_much_boost=6):\n",
    "    all_audio_paths = glob.glob(os.path.join(root_dir, '*wav'))\n",
    "    matrix_of_all_audio = []\n",
    "    \n",
    "    output_all_array = []\n",
    "    num = 0\n",
    "    \n",
    "    for single_audio_path in all_audio_paths:\n",
    "        num += 1\n",
    "        \n",
    "        if ((num >= from_ep) and (num < to_ep)):\n",
    "            \n",
    "            end_time_array_second = []\n",
    "\n",
    "            filename = (single_audio_path.split(\"/\")[-1]).split(\".\")[0]\n",
    "            \n",
    "            try:\n",
    "                matrix_of_single_audio = np.load(\"/home/herdogan/Desktop/SpChangeDetect/pyannote-audio/tutorials/feature-extraction/AMI/\" + filename + \".Mix-Headset.npy\")\n",
    "                array_of_single_audio = np.ravel(matrix_of_single_audio)\n",
    "\n",
    "                if (matrix_of_single_audio is not None):\n",
    "\n",
    "                    matrix_of_all_audio.extend(array_of_single_audio)\n",
    "                    print (single_audio_path + \" is done.\")\n",
    "\n",
    "                    main_set = \"./txt_files/\" + filename + \"_end_time.txt\"# FILENAME PATH for TXT\n",
    "\n",
    "                    with open(main_set) as f:\n",
    "                        content = f.readlines()\n",
    "\n",
    "                    # you may also want to remove whitespace characters like `\\n` at the end of each line\n",
    "\n",
    "\n",
    "                    # need to open text file\n",
    "                    # after that, point the end point of speaker\n",
    "                    # add 1 to point of speaker, add 0 otherwise\n",
    "                    # time is in second format at the txt file\n",
    "                    content = [x.strip() for x in content] \n",
    "\n",
    "                    for single_line in content:\n",
    "\n",
    "                        end_time_array_second.append(single_line)\n",
    "\n",
    "                        # we use following method to get milisecond version\n",
    "                        # float(win_len + ((offset+100) * hop)) \n",
    "                        # we need to inversion of that\n",
    "                    # print (end_time_array_second)\n",
    "\n",
    "                    output_array = np.zeros(matrix_of_single_audio.shape[0])\n",
    "\n",
    "                    for end_time in end_time_array_second:\n",
    "                        end_time_ms = float(end_time)*1000\n",
    "                        which_start_hop = (end_time_ms-win_len)/hop # now we know, milisecond version of change\n",
    "                                                    # which is located after which_hop paramater\n",
    "                                                    # add 2 and round to up\n",
    "                        which_end_hop = end_time_ms/hop # round to up\n",
    "\n",
    "                        start_location = math.ceil(which_start_hop + 1)\n",
    "                        end_location = math.ceil(which_end_hop)\n",
    "\n",
    "                        # print (\"s:\", start_location)\n",
    "                        # print (\"e:\", end_location)\n",
    "                        if (boost_for_imbalance==False):\n",
    "                            output_array[start_location:end_location+1] = 1.0\n",
    "\n",
    "                        else:\n",
    "                            output_array[start_location-how_much_boost:end_location+1+how_much_boost] = 1.0\n",
    "                    output_all_array.extend(output_array)\n",
    "            except:\n",
    "                print (\"Pass this file...\")\n",
    "                pass\n",
    "            # print (output_array)\n",
    "            # print (output_array.mean())\n",
    "            # ar = np.arange(matrix_of_single_audio.shape[1]) # just as an example array\n",
    "            # pp.plot(ar, output_array, 'x')\n",
    "            # pp.show()\n",
    "                \n",
    "            \n",
    "    audio_array = np.asarray(matrix_of_all_audio)\n",
    "    audio_array = np.reshape(matrix_of_all_audio, (-1, 59))\n",
    "    \n",
    "    input_array = audio_array\n",
    "    \n",
    "    \n",
    "    print(\"inputs shape: \", input_array.shape)\n",
    "    \n",
    "    output_all_array = np.asarray(output_all_array)\n",
    "    output_all_array = np.expand_dims(output_all_array, axis=1)\n",
    "    print(\"outputs shape: \", output_all_array.shape)\n",
    "\n",
    "    return (input_array, output_all_array)"
   ]
  },
  {
   "cell_type": "code",
   "execution_count": 3,
   "metadata": {},
   "outputs": [],
   "source": [
    "from keras import layers\n",
    "from keras import models\n",
    "from keras import optimizers\n",
    "import keras\n",
    "from keras.models import Model\n",
    "import tensorflow as tf\n",
    "from keras.models import Model\n",
    "import tensorflow as tf\n",
    "from keras.utils.generic_utils import get_custom_objects\n",
    "\n",
    "\n",
    "frame_shape = (800, 59)\n",
    "\n",
    "## Network Architecture\n",
    "\n",
    "input_frame = keras.Input(frame_shape, name='main_input')\n",
    "\n",
    "bidirectional_1 = layers.Bidirectional(layers.LSTM(48, return_sequences=True))(input_frame)\n",
    "bidirectional_2 = layers.Bidirectional(layers.LSTM(36, activation='tanh', return_sequences=True))(bidirectional_1)\n",
    "\n",
    "tdistributed_1 = layers.TimeDistributed(layers.Dense(40, activation='tanh'))(bidirectional_2)\n",
    "tdistributed_2 = layers.TimeDistributed(layers.Dense(10, activation='tanh'))(tdistributed_1)\n",
    "tdistributed_3 = layers.TimeDistributed(layers.Dense(1, activation='sigmoid'))(tdistributed_2)\n",
    "\n",
    "\n",
    "# WE DO NOT NEED IT FOR TRAINING. SO DISCARD.\n",
    "## Source: https://stackoverflow.com/questions/37743574/hard-limiting-threshold-activation-function-in-tensorflow\n",
    "def step_activation(x):\n",
    "    threshold = 0.4\n",
    "    cond = tf.less(x, tf.fill(value=threshold, dims=tf.shape(x)))\n",
    "    out = tf.where(cond, tf.zeros(tf.shape(x)), tf.ones(tf.shape(x)))\n",
    "\n",
    "    return out\n",
    "\n",
    "# https://stackoverflow.com/questions/47034692/keras-set-output-of-intermediate-layer-to-0-or-1-based-on-threshold\n",
    "\n",
    "step_activation = layers.Dense(1, activation=step_activation, name='threshold_activation')(tdistributed_3)\n",
    "\n",
    "\n",
    "\n",
    "model = Model(input_frame, tdistributed_3)\n",
    "\n",
    "rmsprop = keras.optimizers.RMSprop(lr=0.001, rho=0.9, epsilon=0.0001, decay=0.0)\n",
    "\n",
    "model.compile(loss='binary_crossentropy', optimizer=\"rmsprop\")"
   ]
  },
  {
   "cell_type": "code",
   "execution_count": null,
   "metadata": {},
   "outputs": [],
   "source": [
    "## WITH ATTENTION!!!!!\n",
    "\n",
    "\n",
    "from keras import layers\n",
    "from keras import models\n",
    "from keras import optimizers\n",
    "import keras\n",
    "from keras.models import Model\n",
    "import tensorflow as tf\n",
    "from keras.models import Model\n",
    "import tensorflow as tf\n",
    "from keras.utils.generic_utils import get_custom_objects\n",
    "\n",
    "\n",
    "frame_shape = (800, 59)\n",
    "\n",
    "## Network Architecture\n",
    "\n",
    "input_frame = keras.Input(frame_shape, name='main_input')\n",
    "\n",
    "bidirectional_1 = layers.Bidirectional(layers.LSTM(96, return_sequences=True))(input_frame)\n",
    "bidirectional_2 = layers.Bidirectional(layers.LSTM(60, activation='tanh', return_sequences=True))(bidirectional_1)\n",
    "\n",
    "# compute importance for each step\n",
    "attention = layers.Dense(1, activation='tanh')(bidirectional_1)\n",
    "attention = layers.Flatten()(attention)\n",
    "attention = layers.Activation('softmax')(attention)\n",
    "attention = layers.RepeatVector(120)(attention)\n",
    "attention = layers.Permute([2, 1])(attention)\n",
    "\n",
    "multiplied = layers.Multiply()([bidirectional_2, attention])\n",
    "sent_representation = layers.Dense(512)(multiplied)\n",
    "\n",
    "tdistributed_1 = layers.TimeDistributed(layers.Dense(80, activation='tanh'))(sent_representation)\n",
    "tdistributed_2 = layers.TimeDistributed(layers.Dense(40, activation='tanh'))(tdistributed_1)\n",
    "tdistributed_3 = layers.TimeDistributed(layers.Dense(10, activation='tanh'))(tdistributed_2)\n",
    "tdistributed_3 = layers.TimeDistributed(layers.Dense(1, activation='sigmoid'))(tdistributed_3)\n",
    "\n",
    "\n",
    "# WE DO NOT NEED IT FOR TRAINING. SO DISCARD.\n",
    "## Source: https://stackoverflow.com/questions/37743574/hard-limiting-threshold-activation-function-in-tensorflow\n",
    "def step_activation(x):\n",
    "    threshold = 0.4\n",
    "    cond = tf.less(x, tf.fill(value=threshold, dims=tf.shape(x)))\n",
    "    out = tf.where(cond, tf.zeros(tf.shape(x)), tf.ones(tf.shape(x)))\n",
    "\n",
    "    return out\n",
    "\n",
    "# https://stackoverflow.com/questions/47034692/keras-set-output-of-intermediate-layer-to-0-or-1-based-on-threshold\n",
    "\n",
    "step_activation = layers.Dense(1, activation=step_activation, name='threshold_activation')(tdistributed_3)\n",
    "\n",
    "\n",
    "\n",
    "model = Model(input_frame, tdistributed_3)\n",
    "\n",
    "rmsprop = keras.optimizers.RMSprop(lr=0.001, rho=0.9, epsilon=0.0001, decay=0.0)\n",
    "\n",
    "model.compile(loss='binary_crossentropy', optimizer=\"rmsprop\")"
   ]
  },
  {
   "cell_type": "code",
   "execution_count": 4,
   "metadata": {},
   "outputs": [
    {
     "name": "stdout",
     "output_type": "stream",
     "text": [
      "_________________________________________________________________\n",
      "Layer (type)                 Output Shape              Param #   \n",
      "=================================================================\n",
      "main_input (InputLayer)      (None, 800, 59)           0         \n",
      "_________________________________________________________________\n",
      "bidirectional_3 (Bidirection (None, 800, 96)           41472     \n",
      "_________________________________________________________________\n",
      "bidirectional_4 (Bidirection (None, 800, 72)           38304     \n",
      "_________________________________________________________________\n",
      "time_distributed_4 (TimeDist (None, 800, 40)           2920      \n",
      "_________________________________________________________________\n",
      "time_distributed_5 (TimeDist (None, 800, 10)           410       \n",
      "_________________________________________________________________\n",
      "time_distributed_6 (TimeDist (None, 800, 1)            11        \n",
      "=================================================================\n",
      "Total params: 83,117\n",
      "Trainable params: 83,117\n",
      "Non-trainable params: 0\n",
      "_________________________________________________________________\n"
     ]
    }
   ],
   "source": [
    "model.summary()"
   ]
  },
  {
   "cell_type": "code",
   "execution_count": 5,
   "metadata": {},
   "outputs": [],
   "source": [
    "from keras.models import load_model\n",
    "model.load_weights('bilstm_weights.h5')"
   ]
  },
  {
   "cell_type": "code",
   "execution_count": null,
   "metadata": {},
   "outputs": [],
   "source": [
    "# input_array, output_array = create_data_for_supervised (\"./amicorpus/*/audio/\", 16, 32, 0, 3, True)"
   ]
  },
  {
   "cell_type": "code",
   "execution_count": null,
   "metadata": {},
   "outputs": [],
   "source": [
    "# print(input_array.shape)\n",
    "# print (output_array.shape)"
   ]
  },
  {
   "cell_type": "code",
   "execution_count": null,
   "metadata": {},
   "outputs": [],
   "source": [
    "from keras.models import load_model\n",
    "\n",
    "how_many_step = 4\n",
    "ix_step = 0\n",
    "from_epi = 0\n",
    "\n",
    "while (ix_step < how_many_step):\n",
    "    ix_step += 1\n",
    "    \n",
    "    print (\"STEP:\", ix_step)\n",
    "    \n",
    "    input_array, output_array = create_data_for_supervised (\"./amicorpus/*/audio/\", 10, 25, from_epi, from_epi+5, True, 5)\n",
    "    \n",
    "    max_len = 800 # how many frame will be taken\n",
    "    step = 800 # step size.\n",
    "\n",
    "    input_array_specified = []\n",
    "    output_array_specified = []\n",
    "\n",
    "    for i in range (0, input_array.shape[0]-max_len, step):\n",
    "        single_input_specified = (input_array[i:i+max_len,:])\n",
    "        single_output_specified = (output_array[i:i+max_len,:])\n",
    "        \n",
    "        input_array_specified.append(single_input_specified)\n",
    "        output_array_specified.append(single_output_specified)\n",
    "\n",
    "    output_array_specified = np.asarray(output_array_specified)\n",
    "    input_array_specified = np.asarray(input_array_specified)\n",
    "    \n",
    "    try:\n",
    "    \n",
    "        model.fit(input_array_specified, output_array_specified,\n",
    "               epochs=2,\n",
    "               batch_size=16,\n",
    "               shuffle=True)\n",
    "        \n",
    "    except:\n",
    "        print (\"Pass this epoch.\")\n",
    "        pass\n",
    "    \n",
    "    # https://keras.io/getting-started/faq/#how-can-i-save-a-keras-model\n",
    "\n",
    "    model.save_weights('bilstm_weights.h5')    \n",
    "    \n",
    "    input_array = []\n",
    "    output_array = []\n",
    "    \n",
    "    from_epi += 6"
   ]
  },
  {
   "cell_type": "code",
   "execution_count": null,
   "metadata": {},
   "outputs": [],
   "source": [
    "input_array_specified.shape"
   ]
  },
  {
   "cell_type": "code",
   "execution_count": null,
   "metadata": {},
   "outputs": [],
   "source": [
    "output_array_specified.shape"
   ]
  },
  {
   "cell_type": "code",
   "execution_count": null,
   "metadata": {},
   "outputs": [],
   "source": [
    "# model.load_weights(\"bilstm_weights.h5\")"
   ]
  },
  {
   "cell_type": "code",
   "execution_count": 141,
   "metadata": {},
   "outputs": [],
   "source": [
    "# To get prediction, we need to give k, 800, 59 array to system.\n",
    "# Our output is like k, 320, 1\n",
    "# We need to convert it into milisecond version\n",
    "\n",
    "def grounth_truth_matrix(filename, hop, win_len, boost_for_imbalance=False, how_much_boost = 3):\n",
    "    \n",
    "    matrix_of_single_audio = np.load(\"/home/herdogan/Desktop/SpChangeDetect/pyannote-audio/tutorials/feature-extraction/AMI/\" + filename + \".Mix-Headset.npy\")\n",
    "    \n",
    "    main_set = \"./txt_files/\" + filename + \"_end_time.txt\"# FILENAME PATH for TXT\n",
    "    \n",
    "    end_time_array_second = []\n",
    "\n",
    "\n",
    "    with open(main_set) as f:\n",
    "        content = f.readlines()\n",
    "        \n",
    "    content = [x.strip() for x in content] \n",
    "\n",
    "    for single_line in content:\n",
    "\n",
    "        end_time_array_second.append(single_line)\n",
    "\n",
    "    output_array = np.zeros(matrix_of_single_audio.shape[0])\n",
    "\n",
    "    for end_time in end_time_array_second:\n",
    "        end_time_ms = float(end_time)*1000\n",
    "        which_start_hop = (end_time_ms-win_len)/hop # now we know, milisecond version of change\n",
    "                                    # which is located after which_hop paramater\n",
    "                                    # add 2 and round to up\n",
    "        which_end_hop = end_time_ms/hop # round to up\n",
    "\n",
    "        start_location = math.ceil(which_start_hop + 1)\n",
    "        end_location = math.ceil(which_end_hop)\n",
    "\n",
    "        # print (\"s:\", start_location)\n",
    "        # print (\"e:\", end_location)\n",
    "        if (boost_for_imbalance==False):\n",
    "            output_array[start_location:end_location+1] = 1.0\n",
    "\n",
    "        else:\n",
    "            output_array[start_location-how_much_boost:end_location+1+how_much_boost] = 1.0\n",
    "\n",
    "    return (output_array)\n",
    "\n",
    "def create_prediction(filename, hop, win_len, threshold, lstm_system):\n",
    "    \n",
    "    prediction_array = []\n",
    "    matrix_of_single_audio = np.load(\"/home/herdogan/Desktop/SpChangeDetect/pyannote-audio/tutorials/feature-extraction/AMI/\" + filename + \".Mix-Headset.npy\")\n",
    "    \n",
    "   \n",
    "    ix_frame = 0\n",
    "    \n",
    "    while (ix_frame+800<matrix_of_single_audio.shape[0]):        \n",
    "        # print (matrix_of_single_audio.shape)\n",
    "        # print (np.expand_dims(matrix_of_single_audio[ix_frame:ix_frame+800], axis=0).shape)\n",
    "        prediction = model.predict(np.expand_dims(matrix_of_single_audio[ix_frame:ix_frame+800], axis=0))\n",
    "        prediction = prediction.squeeze(axis=2)\n",
    "        prediction = prediction.squeeze(axis=0)\n",
    "\n",
    "        prediction_array.append(prediction)\n",
    "        # print (prediction.shape)\n",
    "        ix_frame += 800\n",
    "        \n",
    "    prediction_array = np.asarray(prediction_array)\n",
    "    print (prediction_array.shape)\n",
    "    \n",
    "    prediction_array_rav = np.ravel(prediction_array)\n",
    "\n",
    "    \n",
    "    prediction_array_sec = []\n",
    "    prediction_array_msec = []\n",
    "    ix_frame_pred = 0\n",
    "\n",
    "    for pred in prediction_array_rav:\n",
    "        if (pred > threshold):\n",
    "            ms_version = float(win_len + (ix_frame_pred * hop)) # milisecond version to represent end point of first embed            \n",
    "            prediction_array_msec.append(int(ms_version))\n",
    "            prediction_array_sec.append(ms_version/1000)\n",
    "            \n",
    "        ix_frame_pred += 1\n",
    "            \n",
    "\n",
    "    prediction_array_smooth = []\n",
    "    for pred in prediction_array_msec:\n",
    "        if (pred-hop not in prediction_array_msec):\n",
    "            prediction_array_smooth.append(pred*0.001)\n",
    "            \n",
    "    np.savetxt(fname=filename + \"_prediction.txt\", X=prediction_array_smooth, \n",
    "               delimiter=' ', fmt='%1.3f')\n",
    "\n",
    "    return (prediction_array, prediction_array_rav)"
   ]
  },
  {
   "cell_type": "code",
   "execution_count": 142,
   "metadata": {},
   "outputs": [],
   "source": [
    "def prediction_matrix(filename, hop, win_len):\n",
    "    \n",
    "    matrix_of_single_audio = np.load(\"/home/herdogan/Desktop/SpChangeDetect/pyannote-audio/tutorials/feature-extraction/AMI/\" + filename + \".Mix-Headset.npy\")\n",
    "    \n",
    "    main_set = \"./\" + filename + \"_prediction.txt\"# FILENAME PATH for TXT\n",
    "    \n",
    "    end_time_array_second = []\n",
    "\n",
    "\n",
    "    with open(main_set) as f:\n",
    "        content = f.readlines()\n",
    "        \n",
    "    content = [x.strip() for x in content] \n",
    "\n",
    "    for single_line in content:\n",
    "\n",
    "        end_time_array_second.append(single_line)\n",
    "\n",
    "    output_array = np.zeros(matrix_of_single_audio.shape[0])\n",
    "\n",
    "    for end_time in end_time_array_second:\n",
    "        end_time_ms = float(end_time)*1000\n",
    "        which_start_hop = (end_time_ms-win_len)/hop # now we know, milisecond version of change\n",
    "                                    # which is located after which_hop paramater\n",
    "                                    # add 2 and round to up\n",
    "        which_end_hop = end_time_ms/hop # round to up\n",
    "\n",
    "        start_location = math.ceil(which_start_hop + 1)\n",
    "        end_location = math.ceil(which_end_hop)\n",
    "\n",
    "        # print (\"s:\", start_location)\n",
    "        # print (\"e:\", end_location)\n",
    "        output_array[start_location:end_location+1] = 1.0\n",
    "\n",
    "\n",
    "    return (output_array)"
   ]
  },
  {
   "cell_type": "code",
   "execution_count": 143,
   "metadata": {},
   "outputs": [
    {
     "data": {
      "text/plain": [
       "array([0., 0., 0., ..., 0., 0., 0.])"
      ]
     },
     "execution_count": 143,
     "metadata": {},
     "output_type": "execute_result"
    }
   ],
   "source": [
    "grounth_truth_matrix(\"TS3003b\", 10, 25)"
   ]
  },
  {
   "cell_type": "code",
   "execution_count": 144,
   "metadata": {},
   "outputs": [
    {
     "data": {
      "text/plain": [
       "array([0., 0., 0., ..., 0., 0., 0.])"
      ]
     },
     "execution_count": 144,
     "metadata": {},
     "output_type": "execute_result"
    }
   ],
   "source": [
    "prediction_matrix(\"TS3003b\", 10, 25)"
   ]
  },
  {
   "cell_type": "code",
   "execution_count": 145,
   "metadata": {},
   "outputs": [
    {
     "name": "stdout",
     "output_type": "stream",
     "text": [
      "0.0049585804706127196\n"
     ]
    }
   ],
   "source": [
    "print (grounth_truth_matrix(\"TS3003b\", 10, 25).mean())"
   ]
  },
  {
   "cell_type": "code",
   "execution_count": 146,
   "metadata": {},
   "outputs": [
    {
     "data": {
      "image/png": "[encoded data removed]",
      "text/plain": [
       "<Figure size 432x288 with 1 Axes>"
      ]
     },
     "metadata": {},
     "output_type": "display_data"
    }
   ],
   "source": [
    "import matplotlib.pyplot as pp\n",
    "%matplotlib inline\n",
    "\n",
    "pp.plot(grounth_truth_matrix(\"TS3003b\", 10, 25))\n",
    "pp.show()"
   ]
  },
  {
   "cell_type": "code",
   "execution_count": 163,
   "metadata": {},
   "outputs": [],
   "source": [
    "thres = 0.26"
   ]
  },
  {
   "cell_type": "code",
   "execution_count": 164,
   "metadata": {},
   "outputs": [
    {
     "name": "stdout",
     "output_type": "stream",
     "text": [
      "(276, 800)\n"
     ]
    }
   ],
   "source": [
    "(kk, kk_r) = create_prediction(\"TS3003b\", 10, 25, threshold = thres, lstm_system=model)"
   ]
  },
  {
   "cell_type": "code",
   "execution_count": 165,
   "metadata": {},
   "outputs": [
    {
     "data": {
      "text/plain": [
       "(276, 800)"
      ]
     },
     "execution_count": 165,
     "metadata": {},
     "output_type": "execute_result"
    }
   ],
   "source": [
    "kk.shape"
   ]
  },
  {
   "cell_type": "code",
   "execution_count": 166,
   "metadata": {},
   "outputs": [
    {
     "data": {
      "text/plain": [
       "0.026195383"
      ]
     },
     "execution_count": 166,
     "metadata": {},
     "output_type": "execute_result"
    }
   ],
   "source": [
    "kk.mean()"
   ]
  },
  {
   "cell_type": "code",
   "execution_count": 167,
   "metadata": {},
   "outputs": [
    {
     "data": {
      "image/png": "[encoded data removed]",
      "text/plain": [
       "<Figure size 432x288 with 1 Axes>"
      ]
     },
     "metadata": {},
     "output_type": "display_data"
    }
   ],
   "source": [
    "import matplotlib.pyplot as pp\n",
    "%matplotlib inline\n",
    "\n",
    "pp.plot(kk[130:132])\n",
    "pp.axhline(y=thres, color='r', linestyle='-')\n",
    "pp.show()"
   ]
  },
  {
   "cell_type": "code",
   "execution_count": 168,
   "metadata": {},
   "outputs": [],
   "source": [
    "aa = grounth_truth_matrix(\"TS3003b\", 10, 25)\n",
    "bb = prediction_matrix(\"TS3003b\", 10, 25)"
   ]
  },
  {
   "cell_type": "code",
   "execution_count": 169,
   "metadata": {},
   "outputs": [],
   "source": [
    "x = np.arange(1, len(aa)+1)"
   ]
  },
  {
   "cell_type": "code",
   "execution_count": 170,
   "metadata": {},
   "outputs": [
    {
     "data": {
      "image/png": "[encoded data removed]",
      "text/plain": [
       "<Figure size 1425.6x720 with 1 Axes>"
      ]
     },
     "metadata": {},
     "output_type": "display_data"
    }
   ],
   "source": [
    "import matplotlib.pyplot as pp\n",
    "%matplotlib inline\n",
    "\n",
    "pp.rcParams['figure.figsize'] = (19.8, 10.0)\n",
    "\n",
    "pp.plot(kk_r[0:30000])\n",
    "pp.plot(x[0:30000], aa[0:30000], 'x', color='black');\n",
    "pp.plot(x[0:30000], bb[0:30000], '.', color='pink');\n",
    "\n",
    "pp.axhline(y=thres, color='r', linestyle='-')\n",
    "pp.show()"
   ]
  },
  {
   "cell_type": "code",
   "execution_count": 171,
   "metadata": {},
   "outputs": [
    {
     "data": {
      "image/png": "[encoded data removed]",
      "text/plain": [
       "<Figure size 1425.6x720 with 1 Axes>"
      ]
     },
     "metadata": {},
     "output_type": "display_data"
    }
   ],
   "source": [
    "import matplotlib.pyplot as pp\n",
    "%matplotlib inline\n",
    "\n",
    "pp.rcParams['figure.figsize'] = (19.8, 10.0)\n",
    "\n",
    "pp.plot(kk_r[25000:40000])\n",
    "pp.plot(x[0:15000], aa[25000:40000], 'x', color='black');\n",
    "pp.axhline(y=thres, color='r', linestyle='-')\n",
    "pp.show()"
   ]
  },
  {
   "cell_type": "code",
   "execution_count": null,
   "metadata": {},
   "outputs": [],
   "source": [
    "from pyannote.database import get_protocol\n",
    "protocol = get_protocol('AMI.SpeakerDiarization.MixHeadset')"
   ]
  },
  {
   "cell_type": "code",
   "execution_count": null,
   "metadata": {},
   "outputs": [],
   "source": [
    "for i in protocol.test():\n",
    "    if (i[\"uri\"] == 'TS3003b.Mix-Headset'):\n",
    "         reference = i['annotation']"
   ]
  },
  {
   "cell_type": "code",
   "execution_count": null,
   "metadata": {},
   "outputs": [],
   "source": [
    "reference"
   ]
  },
  {
   "cell_type": "markdown",
   "metadata": {},
   "source": [
    "We need to balance our dataset to get better result. For that, we will crop the segment which include 1 speaker and its duration is long."
   ]
  },
  {
   "cell_type": "code",
   "execution_count": null,
   "metadata": {},
   "outputs": [],
   "source": [
    "def evaluate_system(end_time_filename, pred_filename):\n",
    "    end_time_file = \"./txt_files/\" + end_time_filename + \"_end_time.txt\"# FILENAME PATH for TXT\n",
    "    pred_file = \"./\" + pred_filename + \"_prediction.txt\"\n",
    "\n",
    "    with open(end_time_file) as f:\n",
    "        content_end_time = f.readlines()\n",
    "    content_end_time = [x.strip() for x in content_end_time] \n",
    "    content_end_time = [int(1000*float(i)) for i in content_end_time]\n",
    "    \n",
    "    \n",
    "    with open(pred_file) as f:\n",
    "        content_pred = f.readlines()\n",
    "    content_pred = [x.strip() for x in content_pred] \n",
    "    content_pred = [int(1000*float(i)) for i in content_pred]\n",
    "    \n",
    "    print (content_end_time)\n",
    "    print (content_pred)\n",
    "\n",
    "    total_end_time_num = len(content_end_time)\n",
    "    total_guess_num = len(content_pred)\n",
    "    correct_guess = 0\n",
    "\n",
    "    for single_end_time in content_end_time:\n",
    "        single_guess_mem = False \n",
    "        for single_pred in content_pred:\n",
    "            if (single_pred in range(single_end_time-35, single_end_time+35)):\n",
    "                correct_guess += 1\n",
    "                break\n",
    "            \n",
    "    print (\"Correst Guess: \", correct_guess)    \n",
    "    print (\"Total End Time: \", total_end_time_num)    \n",
    "    print (\"Total Guess: \", total_guess_num)    \n",
    "\n",
    "               \n",
    "    pp.plot(content_end_time)\n",
    "    pp.plot(content_pred)\n",
    "\n",
    "    # pp.axhline(y=thres, color='r', linestyle='-')\n",
    "    pp.show() "
   ]
  },
  {
   "cell_type": "code",
   "execution_count": null,
   "metadata": {},
   "outputs": [],
   "source": [
    "# !ls"
   ]
  },
  {
   "cell_type": "code",
   "execution_count": null,
   "metadata": {},
   "outputs": [],
   "source": [
    "evaluate_system(\"TS3003b\", \"TS3003b\")"
   ]
  },
  {
   "cell_type": "markdown",
   "metadata": {},
   "source": [
    "## With Librosa"
   ]
  },
  {
   "cell_type": "code",
   "execution_count": null,
   "metadata": {},
   "outputs": [],
   "source": [
    "import librosa\n",
    "import os\n",
    "import glob\n",
    "import numpy as np\n",
    "import sys\n",
    "\n",
    "def wav_to_matrix(filename, hop, win_len): # hop and win_len in milisecond \n",
    "    audio, sr = librosa.load(filename)\n",
    "    # https://github.com/librosa/librosa/issues/584\n",
    "    mfccs = librosa.feature.mfcc(audio, sr, n_mfcc=11, hop_length=int(float(hop/1000)*sr), n_fft=int(float(win_len/1000)*sr))\n",
    "    mfccs_d1 = librosa.feature.delta(mfccs)\n",
    "    mfccs_d2 = librosa.feature.delta(mfccs, order=2)\n",
    "    energy = librosa.feature.rmse(y=audio, hop_length=int(float(hop/1000)*sr), frame_length=int(float(win_len/1000)*sr))\n",
    "    energy_d1 = librosa.feature.delta(energy)\n",
    "    energy_d2 = librosa.feature.delta(energy, order=2)\n",
    "    print (mfccs.shape)\n",
    "    print (mfccs_d1.shape)\n",
    "    print (mfccs_d2.shape)\n",
    "    print (energy_d1.shape)\n",
    "    print (energy_d2.shape)\n",
    "\n",
    "    a = np.vstack((mfccs, mfccs_d1, mfccs_d2, energy_d1, energy_d2))\n",
    "    # line_mfccs = np.ravel(mfccs, order='F')\n",
    "    return a"
   ]
  },
  {
   "cell_type": "code",
   "execution_count": null,
   "metadata": {},
   "outputs": [],
   "source": [
    "import math\n",
    "import matplotlib.pyplot as pp\n",
    "\n",
    "%matplotlib inline\n",
    "\n",
    "\n",
    "def create_data_for_supervised(root_dir, hop, win_len, from_ep = 0, to_ep=0, boost_for_imbalance=False):\n",
    "    all_audio_paths = glob.glob(os.path.join(root_dir, '*wav'))\n",
    "    matrix_of_all_audio = []\n",
    "    \n",
    "    output_all_array = []\n",
    "    \n",
    "    num = 0\n",
    "    \n",
    "    for single_audio_path in all_audio_paths:\n",
    "        num += 1\n",
    "        \n",
    "        if ((num >= from_ep) and (num < to_ep)):\n",
    "            \n",
    "            end_time_array_second = []\n",
    "            try:\n",
    "                filename = (single_audio_path.split(\"/\")[-1]).split(\".\")[0]\n",
    "                matrix_of_single_audio = wav_to_matrix(single_audio_path, hop, win_len)\n",
    "                array_of_single_audio = np.ravel(matrix_of_single_audio)\n",
    "\n",
    "                if (matrix_of_single_audio is not None):\n",
    "\n",
    "                    print (matrix_of_single_audio.shape)\n",
    "                    matrix_of_all_audio.extend(array_of_single_audio)\n",
    "                    print (single_audio_path + \" is done.\")\n",
    "\n",
    "                    main_set = \"./txt_files/\" + filename + \"_end_time.txt\"# FILENAME PATH for TXT\n",
    "\n",
    "                    with open(main_set) as f:\n",
    "                        content = f.readlines()\n",
    "\n",
    "                    # you may also want to remove whitespace characters like `\\n` at the end of each line\n",
    "\n",
    "\n",
    "                    # need to open text file\n",
    "                    # after that, point the end point of speaker\n",
    "                    # add 1 to point of speaker, add 0 otherwise\n",
    "                    # time is in second format at the txt file\n",
    "                    content = [x.strip() for x in content] \n",
    "\n",
    "                    for single_line in content:\n",
    "\n",
    "                        end_time_array_second.append(single_line)\n",
    "\n",
    "                        # we use following method to get milisecond version\n",
    "                        # float(win_len + ((offset+100) * hop)) \n",
    "                        # we need to inversion of that\n",
    "                    output_array = np.zeros(matrix_of_single_audio.shape[1])\n",
    "\n",
    "                    for end_time in end_time_array_second:\n",
    "                        end_time_ms = float(end_time)*1000\n",
    "                        which_start_hop = (end_time_ms-win_len)/hop # now we know, milisecond version of change\n",
    "                                                    # which is located after which_hop paramater\n",
    "                                                    # add 2 and round to up\n",
    "                        which_end_hop = end_time_ms/hop # round to up\n",
    "\n",
    "                        start_location = math.ceil(which_start_hop + 1)\n",
    "                        end_location = math.ceil(which_end_hop)\n",
    "\n",
    "                        # print (\"s:\", start_location)\n",
    "                        # print (\"e:\", end_location)\n",
    "                        if (boost_for_imbalance==False):\n",
    "                            output_array[start_location:end_location+1] = 1.0\n",
    "\n",
    "                        else:\n",
    "                            output_array[start_location-12:end_location+13] = 1.0\n",
    "                    output_all_array.extend(output_array)\n",
    "            except:\n",
    "                print (\"Pass this file..\")\n",
    "                pass\n",
    "            # print (output_array)\n",
    "            print (output_array.mean())\n",
    "            # ar = np.arange(matrix_of_single_audio.shape[1]) # just as an example array\n",
    "            # pp.plot(ar, output_array, 'x')\n",
    "            # pp.show()\n",
    "                \n",
    "\n",
    "    audio_array = np.asarray(matrix_of_all_audio)\n",
    "    audio_array = np.reshape(matrix_of_all_audio, (35,-1))\n",
    "   \n",
    "        \n",
    "    input_array = np.asarray(audio_array)\n",
    "    input_array = input_array.reshape((len(input_array), np.prod(input_array.shape[1:])))  \n",
    "    print(input_array.shape)\n",
    "    \n",
    "    output_all_array = np.asarray(output_all_array)\n",
    "    output_all_array = np.expand_dims(output_all_array, axis=0)\n",
    "    print(output_array.shape)\n",
    "\n",
    "    return (input_array, output_all_array)"
   ]
  },
  {
   "cell_type": "code",
   "execution_count": null,
   "metadata": {},
   "outputs": [],
   "source": [
    "inn, out = create_data_for_supervised (\"./amicorpus/*/audio/\", 16, 32, 0, 2, True)"
   ]
  },
  {
   "cell_type": "code",
   "execution_count": null,
   "metadata": {},
   "outputs": [],
   "source": [
    "k = wav_to_matrix(\"How to Read a Research Paper.mp3\", 32, 32)"
   ]
  },
  {
   "cell_type": "code",
   "execution_count": null,
   "metadata": {},
   "outputs": [],
   "source": [
    "import matplotlib.pyplot as pp\n",
    "%matplotlib inline\n",
    "\n",
    "pp.plot(np.swapaxes(k, 0, 1))\n",
    "pp.axhline(y=0.5, color='r', linestyle='-')\n",
    "pp.show()"
   ]
  },
  {
   "cell_type": "markdown",
   "metadata": {},
   "source": [
    "### Create Subsequences with Label\n",
    "\n",
    "At that point, we should create training and test data with their label. Also, we can use directly [pyannote.metrics](https://github.com/pyannote/pyannote-metrics)"
   ]
  },
  {
   "cell_type": "markdown",
   "metadata": {},
   "source": [
    "### Deep Learning Architecture\n",
    "\n",
    "We can directly upload the model's architecture from the .yml file which is provided by writer.\n",
    "\n",
    "However, I want to directly write all steps."
   ]
  },
  {
   "cell_type": "code",
   "execution_count": null,
   "metadata": {},
   "outputs": [],
   "source": [
    "# Author's .yml files\n",
    "\n",
    "!wget https://raw.githubusercontent.com/yinruiqing/change_detection/master/model/architecture.yml"
   ]
  },
  {
   "cell_type": "code",
   "execution_count": null,
   "metadata": {},
   "outputs": [],
   "source": [
    "# Load to model\n",
    "\n",
    "from keras.models import model_from_yaml\n",
    "yaml_file = open('architecture.yml', 'r')\n",
    "loaded_model_yaml = yaml_file.read()\n",
    "yaml_file.close()\n",
    "model = model_from_yaml(loaded_model_yaml)"
   ]
  },
  {
   "cell_type": "code",
   "execution_count": null,
   "metadata": {},
   "outputs": [],
   "source": [
    "rmsprop = keras.optimizers.RMSprop(lr=0.001, rho=0.9, epsilon=None, decay=0.0)\n",
    "\n",
    "model.compile(loss='binary_crossentropy', optimizer=\"rmsprop\")"
   ]
  },
  {
   "cell_type": "code",
   "execution_count": null,
   "metadata": {},
   "outputs": [],
   "source": [
    "import keras\n",
    "print (keras.__version__)"
   ]
  },
  {
   "cell_type": "code",
   "execution_count": null,
   "metadata": {},
   "outputs": [],
   "source": [
    "model.summary()"
   ]
  },
  {
   "cell_type": "code",
   "execution_count": null,
   "metadata": {},
   "outputs": [],
   "source": [
    "from keras import layers\n",
    "from keras import models\n",
    "from keras import optimizers\n",
    "import keras\n",
    "from keras.models import Model\n",
    "import tensorflow as tf\n",
    "from keras.layers.advanced_activations import *\n",
    "from keras.utils.generic_utils import get_custom_objects\n",
    "\n",
    "\n",
    "frame_shape = (320, 35)\n",
    "\n",
    "## Network Architecture\n",
    "\n",
    "input_frame = keras.Input(frame_shape, name='main_input')\n",
    "\n",
    "bidirectional_1 = layers.Bidirectional(layers.LSTM(32, return_sequences=True))(input_frame)\n",
    "bidirectional_2 = layers.Bidirectional(layers.LSTM(20, activation='tanh', return_sequences=True))(bidirectional_1)\n",
    "\n",
    "tdistributed_1 = layers.TimeDistributed(layers.Dense(40, activation='tanh'))(bidirectional_2)\n",
    "tdistributed_2 = layers.TimeDistributed(layers.Dense(10, activation='tanh'))(tdistributed_1)\n",
    "tdistributed_3 = layers.TimeDistributed(layers.Dense(1, activation='sigmoid'))(tdistributed_2)\n",
    "\n",
    "\n",
    "# WE DO NOT NEED IT FOR TRAINING. SO DISCARD.\n",
    "## Source: https://stackoverflow.com/questions/37743574/hard-limiting-threshold-activation-function-in-tensorflow\n",
    "def step_activation(x):\n",
    "    threshold = 0.4\n",
    "    cond = tf.less(x, tf.fill(value=threshold, dims=tf.shape(x)))\n",
    "    out = tf.where(cond, tf.zeros(tf.shape(x)), tf.ones(tf.shape(x)))\n",
    "\n",
    "    return out\n",
    "\n",
    "# https://stackoverflow.com/questions/47034692/keras-set-output-of-intermediate-layer-to-0-or-1-based-on-threshold\n",
    "\n",
    "step_activation = layers.Dense(1, activation=step_activation, name='threshold_activation')(tdistributed_3)\n",
    "\n",
    "\n",
    "\n",
    "model = Model(input_frame, tdistributed_3)\n",
    "\n",
    "rmsprop = keras.optimizers.RMSprop(lr=0.001, rho=0.9, epsilon=None, decay=0.0)\n",
    "\n",
    "model.compile(loss='binary_crossentropy', optimizer=\"rmsprop\")"
   ]
  },
  {
   "cell_type": "code",
   "execution_count": null,
   "metadata": {},
   "outputs": [],
   "source": [
    "model.summary()"
   ]
  },
  {
   "cell_type": "code",
   "execution_count": null,
   "metadata": {},
   "outputs": [],
   "source": [
    "# To save our model\n",
    "\n",
    "model_yaml = model.to_yaml()\n",
    "with open(\"model.yaml\", \"w\") as yaml_file:\n",
    "    yaml_file.write(model_yaml)"
   ]
  },
  {
   "cell_type": "code",
   "execution_count": null,
   "metadata": {},
   "outputs": [],
   "source": [
    "# To look our model\n",
    "\n",
    "!cat model.yaml"
   ]
  },
  {
   "cell_type": "code",
   "execution_count": null,
   "metadata": {},
   "outputs": [],
   "source": [
    "from keras.models import load_model\n",
    "\n",
    "how_many_step = 15\n",
    "ix_step = 0\n",
    "from_epi = 0\n",
    "\n",
    "while (ix_step < how_many_step):\n",
    "    ix_step += 1\n",
    "    \n",
    "    input_array, output_array = create_data_for_supervised (\"./amicorpus/*/audio/\", 16, 32, from_epi, from_epi+5, True)\n",
    "    \n",
    "    max_len = 320 # how many frame will be taken\n",
    "    step = 240 # step size.\n",
    "\n",
    "    input_array_specified = []\n",
    "    output_array_specified = []\n",
    "\n",
    "    for i in range (0, input_array.shape[1]-max_len, step):\n",
    "        single_input_specified = np.transpose(input_array[:,i:i+max_len])\n",
    "        single_output_specified = np.transpose(output_array[:,i:i+max_len])\n",
    "        \n",
    "        input_array_specified.append(single_input_specified)\n",
    "        output_array_specified.append(single_output_specified)\n",
    "\n",
    "    output_array_specified = np.asarray(output_array_specified)\n",
    "    input_array_specified = np.asarray(input_array_specified)\n",
    "    \n",
    "    model.fit(input_array_specified, output_array_specified,\n",
    "               epochs=5,\n",
    "               batch_size=32,\n",
    "               shuffle=True)\n",
    "    \n",
    "    # https://keras.io/getting-started/faq/#how-can-i-save-a-keras-model\n",
    "\n",
    "    model.save_weights('bilstm_weights.h5')    \n",
    "    \n",
    "    input_array = []\n",
    "    output_array = []\n",
    "    \n",
    "    from_epi += 4"
   ]
  },
  {
   "cell_type": "code",
   "execution_count": null,
   "metadata": {},
   "outputs": [],
   "source": []
  },
  {
   "cell_type": "code",
   "execution_count": null,
   "metadata": {},
   "outputs": [],
   "source": [
    "input_array_specified.shape"
   ]
  },
  {
   "cell_type": "code",
   "execution_count": null,
   "metadata": {},
   "outputs": [],
   "source": [
    "single_input_specified.shape"
   ]
  },
  {
   "cell_type": "code",
   "execution_count": null,
   "metadata": {},
   "outputs": [],
   "source": [
    "output_array_specified.shape"
   ]
  },
  {
   "cell_type": "code",
   "execution_count": null,
   "metadata": {},
   "outputs": [],
   "source": [
    "single_output_specified.shape"
   ]
  },
  {
   "cell_type": "code",
   "execution_count": null,
   "metadata": {},
   "outputs": [],
   "source": [
    "output_array.shape"
   ]
  },
  {
   "cell_type": "code",
   "execution_count": null,
   "metadata": {},
   "outputs": [],
   "source": [
    "input_array.shape"
   ]
  },
  {
   "cell_type": "code",
   "execution_count": null,
   "metadata": {},
   "outputs": [],
   "source": [
    "input_array[:,i:i+max_len].shape"
   ]
  },
  {
   "cell_type": "code",
   "execution_count": null,
   "metadata": {},
   "outputs": [],
   "source": [
    "output_array[:,i:i+max_len].shape"
   ]
  },
  {
   "cell_type": "code",
   "execution_count": null,
   "metadata": {},
   "outputs": [],
   "source": [
    "output_array[:,20].shape"
   ]
  },
  {
   "cell_type": "code",
   "execution_count": null,
   "metadata": {},
   "outputs": [],
   "source": []
  }
 ],
 "metadata": {
  "kernelspec": {
   "display_name": "Python 3",
   "language": "python",
   "name": "python3"
  },
  "language_info": {
   "codemirror_mode": {
    "name": "ipython",
    "version": 3
   },
   "file_extension": ".py",
   "mimetype": "text/x-python",
   "name": "python",
   "nbconvert_exporter": "python",
   "pygments_lexer": "ipython3",
   "version": "3.6.5"
  }
 },
 "nbformat": 4,
 "nbformat_minor": 2
}
