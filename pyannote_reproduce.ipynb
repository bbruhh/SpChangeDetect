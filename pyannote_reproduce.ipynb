{
 "cells": [
  {
   "cell_type": "markdown",
   "metadata": {
    "colab_type": "text",
    "id": "ZwGrVuHYpi09"
   },
   "source": [
    "# DRAFT VERSION. \n",
    "\n",
    "### It is based on my local folders. I will refactor whole code asap. :)\n",
    "\n",
    "I am trying to reproduce [pyannote.audio](https://github.com/pyannote/pyannote-audio) tutorials."
   ]
  },
  {
   "cell_type": "code",
   "execution_count": null,
   "metadata": {
    "colab": {
     "autoexec": {
      "startup": false,
      "wait_interval": 0
     }
    },
    "colab_type": "code",
    "id": "orlt463Qufgg"
   },
   "outputs": [],
   "source": [
    "# Clone the repository to access .yml files.\n",
    "\n",
    "!git clone https://github.com/pyannote/pyannote-audio.git"
   ]
  },
  {
   "cell_type": "code",
   "execution_count": null,
   "metadata": {},
   "outputs": [],
   "source": [
    "!python --version"
   ]
  },
  {
   "cell_type": "code",
   "execution_count": null,
   "metadata": {},
   "outputs": [],
   "source": [
    "from pyannote.database import *"
   ]
  },
  {
   "cell_type": "code",
   "execution_count": null,
   "metadata": {
    "colab": {
     "autoexec": {
      "startup": false,
      "wait_interval": 0
     }
    },
    "colab_type": "code",
    "id": "QeAuyxg4ukQH"
   },
   "outputs": [],
   "source": [
    "# Read the config.yml file to reproduce exact result. \n",
    "\n",
    "# !cat ./pyannote-audio/tutorials/change-detection/config.yml"
   ]
  },
  {
   "cell_type": "markdown",
   "metadata": {
    "colab_type": "text",
    "id": "RxYyi29Aqn8y"
   },
   "source": [
    "In this notebook, I will use AMI Corpus."
   ]
  },
  {
   "cell_type": "code",
   "execution_count": null,
   "metadata": {
    "colab": {
     "autoexec": {
      "startup": false,
      "wait_interval": 0
     }
    },
    "colab_type": "code",
    "id": "TiSISS4EutkF"
   },
   "outputs": [],
   "source": [
    "# To get shell script to download AMI Corpus. Also, you can create new script from\n",
    "# http://groups.inf.ed.ac.uk/ami/download/ Please select all meetings and headset\n",
    "# mix for this example.\n",
    "\n",
    "\n",
    "!wget http://groups.inf.ed.ac.uk/ami/download/temp/amiBuild-9938-Thu-Jul-19-2018.wget.sh"
   ]
  },
  {
   "cell_type": "code",
   "execution_count": null,
   "metadata": {
    "colab": {
     "autoexec": {
      "startup": false,
      "wait_interval": 0
     }
    },
    "colab_type": "code",
    "id": "ev_8iyPLvaQW"
   },
   "outputs": [],
   "source": [
    "# Give permission to AMI Corpus script\n",
    "\n",
    "!chmod +x amiBuild-9938-Thu-Jul-19-2018.wget.sh"
   ]
  },
  {
   "cell_type": "code",
   "execution_count": null,
   "metadata": {
    "colab": {
     "autoexec": {
      "startup": false,
      "wait_interval": 0
     }
    },
    "colab_type": "code",
    "id": "oWSmO_zgvd2w"
   },
   "outputs": [],
   "source": [
    "# Run the shell script to download datas.\n",
    "\n",
    "! ./amiBuild-9938-Thu-Jul-19-2018.wget.sh"
   ]
  },
  {
   "cell_type": "code",
   "execution_count": null,
   "metadata": {},
   "outputs": [],
   "source": [
    "# Create new folder to create db.yml inside of that folder.\n",
    "\n",
    "!mkdir .pyannote"
   ]
  },
  {
   "cell_type": "code",
   "execution_count": null,
   "metadata": {
    "colab": {
     "autoexec": {
      "startup": false,
      "wait_interval": 0
     }
    },
    "colab_type": "code",
    "id": "OCIXzEN6z2Y_"
   },
   "outputs": [],
   "source": [
    "! cat ./.pyannote/db.yml | grep AMI\n"
   ]
  },
  {
   "cell_type": "markdown",
   "metadata": {
    "colab_type": "text",
    "id": "Ow_8ILSRraQo"
   },
   "source": [
    "I am trying to create db.yml via cat command, however, with Google Colab, I can not do that. So that, I just download this file from my Google Drive. To create, you own db.yml, you can use any text editor. We should write the directory of AMI Corpus. In this case, it is  **AMI: ../pyannote-audio/amicorpus/*/audio/{uri}.wav**\n"
   ]
  },
  {
   "cell_type": "code",
   "execution_count": null,
   "metadata": {
    "colab": {
     "autoexec": {
      "startup": false,
      "wait_interval": 0
     }
    },
    "colab_type": "code",
    "id": "B4OABq_Iz588"
   },
   "outputs": [],
   "source": [
    "!cat ./.pyannote/db.yml | grep AMI "
   ]
  },
  {
   "cell_type": "code",
   "execution_count": null,
   "metadata": {},
   "outputs": [],
   "source": [
    "!ls"
   ]
  },
  {
   "cell_type": "code",
   "execution_count": null,
   "metadata": {},
   "outputs": [],
   "source": [
    "cd pyannote-audio"
   ]
  },
  {
   "cell_type": "markdown",
   "metadata": {
    "colab_type": "text",
    "id": "JwfIFrR31L27"
   },
   "source": [
    "Now, time for the tutorials. In this notebook, I will provide codes for training and validation. For further information, please check the [repository.](github.com/pyannote/pyannote-audio/tree/master/tutorials)"
   ]
  },
  {
   "cell_type": "markdown",
   "metadata": {
    "colab_type": "text",
    "id": "FTbxbxaK0q-0"
   },
   "source": [
    "## **Feature Extraction**"
   ]
  },
  {
   "cell_type": "code",
   "execution_count": null,
   "metadata": {
    "colab": {
     "autoexec": {
      "startup": false,
      "wait_interval": 0
     }
    },
    "colab_type": "code",
    "id": "dH1Xk-iS9MWW"
   },
   "outputs": [],
   "source": [
    "!cat tutorials/feature-extraction/config.yml"
   ]
  },
  {
   "cell_type": "code",
   "execution_count": null,
   "metadata": {
    "colab": {
     "autoexec": {
      "startup": false,
      "wait_interval": 0
     }
    },
    "colab_type": "code",
    "id": "U4MbNH3Y0kiM"
   },
   "outputs": [],
   "source": [
    "!pyannote-speech-feature tutorials/feature-extraction AMI.SpeakerDiarization.MixHeadset"
   ]
  },
  {
   "cell_type": "code",
   "execution_count": null,
   "metadata": {
    "colab": {
     "autoexec": {
      "startup": false,
      "wait_interval": 0
     }
    },
    "colab_type": "code",
    "id": "rzPcp6iZ5NnS"
   },
   "outputs": [],
   "source": [
    "!ls tutorials/feature-extraction/AMI | head -n 5"
   ]
  },
  {
   "cell_type": "markdown",
   "metadata": {
    "colab_type": "text",
    "id": "bJ8O4jBy0zow"
   },
   "source": [
    "## *Speech activity detection*"
   ]
  },
  {
   "cell_type": "code",
   "execution_count": null,
   "metadata": {
    "colab": {
     "autoexec": {
      "startup": false,
      "wait_interval": 0
     }
    },
    "colab_type": "code",
    "id": "9rp02Sia09p2"
   },
   "outputs": [],
   "source": [
    "cat tutorials/speech-activity-detection/config.yml"
   ]
  },
  {
   "cell_type": "markdown",
   "metadata": {
    "colab_type": "text",
    "id": "pWVKFrHEKk9z"
   },
   "source": [
    "If you want to use tensorboard, you can check [this](https://stackoverflow.com/questions/47818822/can-i-use-tensorboard-with-google-colab)"
   ]
  },
  {
   "cell_type": "code",
   "execution_count": null,
   "metadata": {
    "colab": {
     "autoexec": {
      "startup": false,
      "wait_interval": 0
     }
    },
    "colab_type": "code",
    "id": "xw5OUJrU09vy"
   },
   "outputs": [],
   "source": [
    "# Training.\n",
    "\n",
    "!pyannote-speech-detection train --to=5 tutorials/speech-activity-detection AMI.SpeakerDiarization.MixHeadset"
   ]
  },
  {
   "cell_type": "code",
   "execution_count": null,
   "metadata": {
    "colab": {
     "autoexec": {
      "startup": false,
      "wait_interval": 0
     }
    },
    "colab_type": "code",
    "id": "zR_6KqPF1mDi"
   },
   "outputs": [],
   "source": [
    "# Validation.\n",
    "\n",
    "!pyannote-speech-detection validate tutorials/speech-activity-detection/train/AMI.SpeakerDiarization.MixHeadset.train AMI.SpeakerDiarization.MixHeadset"
   ]
  },
  {
   "cell_type": "markdown",
   "metadata": {
    "colab_type": "text",
    "id": "-m9fqmqP2A5a"
   },
   "source": [
    "## *Speaker Change Detection*"
   ]
  },
  {
   "cell_type": "markdown",
   "metadata": {},
   "source": [
    "Yes. /path/to/scd should be replaced by /absolute/path/to/tutorials/pipeline/scd.\n",
    "\n",
    "https://github.com/pyannote/pyannote-audio/issues/105"
   ]
  },
  {
   "cell_type": "code",
   "execution_count": null,
   "metadata": {
    "colab": {
     "autoexec": {
      "startup": false,
      "wait_interval": 0
     }
    },
    "colab_type": "code",
    "id": "B9u6ouxvNc2i"
   },
   "outputs": [],
   "source": [
    "cat tutorials/change-detection/config.yml"
   ]
  },
  {
   "cell_type": "code",
   "execution_count": null,
   "metadata": {
    "colab": {
     "autoexec": {
      "startup": false,
      "wait_interval": 0
     }
    },
    "colab_type": "code",
    "id": "GvqZLMbiaTvx"
   },
   "outputs": [],
   "source": [
    "!pyannote-speech-detection -h"
   ]
  },
  {
   "cell_type": "code",
   "execution_count": null,
   "metadata": {
    "colab": {
     "autoexec": {
      "startup": false,
      "wait_interval": 0
     }
    },
    "colab_type": "code",
    "id": "deLQKULvNocb"
   },
   "outputs": [],
   "source": [
    "# Training.\n",
    "\n",
    "!pyannote-speech-detection train --to=5  tutorials/change-detection AMI.SpeakerDiarization.MixHeadset\n",
    "\n"
   ]
  },
  {
   "cell_type": "code",
   "execution_count": null,
   "metadata": {
    "colab": {
     "autoexec": {
      "startup": false,
      "wait_interval": 0
     }
    },
    "colab_type": "code",
    "id": "Vyd5zt0Fm-Hb"
   },
   "outputs": [],
   "source": [
    "# Validation\n",
    "!pyannote-change-detection validate --purity=0.8 --to=5 tutorials/change-detection/train/AMI.SpeakerDiarization.MixHeadset.train AMI.SpeakerDiarization.MixHeadset\n"
   ]
  },
  {
   "cell_type": "code",
   "execution_count": null,
   "metadata": {},
   "outputs": [],
   "source": [
    "cd .."
   ]
  },
  {
   "cell_type": "code",
   "execution_count": null,
   "metadata": {
    "colab": {
     "autoexec": {
      "startup": false,
      "wait_interval": 0
     }
    },
    "colab_type": "code",
    "id": "TToLCBQ6CSha"
   },
   "outputs": [],
   "source": [
    "mkdir raw_scores"
   ]
  },
  {
   "cell_type": "code",
   "execution_count": null,
   "metadata": {
    "colab": {
     "autoexec": {
      "startup": false,
      "wait_interval": 0
     }
    },
    "colab_type": "code",
    "id": "kI4Ryep6qhmT"
   },
   "outputs": [],
   "source": [
    "!pyannote-change-detection apply tutorials/change-detection/train/AMI.SpeakerDiarization.MixHeadset.train/weights/0005.pt   AMI.SpeakerDiarization.MixHeadset raw_scores"
   ]
  },
  {
   "cell_type": "code",
   "execution_count": null,
   "metadata": {},
   "outputs": [],
   "source": [
    "#AMI Protocol\n",
    "from pyannote.database import get_protocol\n",
    "protocol = get_protocol('AMI.SpeakerDiarization.MixHeadset')"
   ]
  },
  {
   "cell_type": "code",
   "execution_count": null,
   "metadata": {},
   "outputs": [],
   "source": [
    "# Precomputed Scores\n",
    "from pyannote.audio.features import Precomputed\n",
    "precomputed = Precomputed('raw_scores')"
   ]
  },
  {
   "cell_type": "code",
   "execution_count": null,
   "metadata": {},
   "outputs": [],
   "source": [
    "precomputed"
   ]
  },
  {
   "cell_type": "code",
   "execution_count": null,
   "metadata": {},
   "outputs": [],
   "source": [
    "precomputed.shape"
   ]
  },
  {
   "cell_type": "code",
   "execution_count": null,
   "metadata": {},
   "outputs": [],
   "source": [
    "# Peak Detection\n",
    "from pyannote.audio.signal import Peak\n",
    "peak = Peak(alpha=0.5, min_duration=1.0, log_scale=True)"
   ]
  },
  {
   "cell_type": "code",
   "execution_count": null,
   "metadata": {},
   "outputs": [],
   "source": [
    "# Evaluation Metric\n",
    "from pyannote.metrics.diarization import DiarizationPurityCoverageFMeasure\n",
    "metric = DiarizationPurityCoverageFMeasure()"
   ]
  },
  {
   "cell_type": "code",
   "execution_count": null,
   "metadata": {},
   "outputs": [],
   "source": [
    "# Loop on Test Files\n",
    "from pyannote.database import get_annotated\n",
    "for test_file in protocol.test():\n",
    "    # print (test_file)\n",
    "    # load reference annotation\n",
    "    reference = test_file['annotation']\n",
    "    uem = get_annotated(test_file)\n",
    "\n",
    "    # load precomputed change scores as pyannote.core.SlidingWindowFeature\n",
    "    scd_scores = precomputed(test_file)\n",
    "\n",
    "    # binarize scores to obtain speech regions as pyannote.core.Timeline\n",
    "    hypothesis = peak.apply(scd_scores, dimension=1)\n",
    "\n",
    "    # evaluate speech activity detection\n",
    "    metric(reference, hypothesis.to_annotation(), uem=uem)\n",
    "\n",
    "purity, coverage, fmeasure = metric.compute_metrics()\n",
    "print(f'Purity = {100*purity:.1f}% / Coverage = {100*coverage:.1f}%')"
   ]
  },
  {
   "cell_type": "code",
   "execution_count": null,
   "metadata": {},
   "outputs": [],
   "source": [
    "reference"
   ]
  },
  {
   "cell_type": "code",
   "execution_count": null,
   "metadata": {},
   "outputs": [],
   "source": [
    "hypothesis.to_annotation()"
   ]
  },
  {
   "cell_type": "code",
   "execution_count": null,
   "metadata": {},
   "outputs": [],
   "source": []
  }
 ],
 "metadata": {
  "accelerator": "GPU",
  "colab": {
   "collapsed_sections": [],
   "default_view": {},
   "name": "pyannote_reproduce.ipynb",
   "provenance": [],
   "version": "0.3.2",
   "views": {}
  },
  "kernelspec": {
   "display_name": "Python 3",
   "language": "python",
   "name": "python3"
  },
  "language_info": {
   "codemirror_mode": {
    "name": "ipython",
    "version": 3
   },
   "file_extension": ".py",
   "mimetype": "text/x-python",
   "name": "python",
   "nbconvert_exporter": "python",
   "pygments_lexer": "ipython3",
   "version": "3.6.5"
  }
 },
 "nbformat": 4,
 "nbformat_minor": 2
}
