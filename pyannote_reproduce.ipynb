{
 "cells": [
  {
   "cell_type": "markdown",
   "metadata": {
    "colab_type": "text",
    "id": "ZwGrVuHYpi09"
   },
   "source": [
    "I am trying to reproduce [pyannote.audio](https://github.com/pyannote/pyannote-audio) library."
   ]
  },
  {
   "cell_type": "code",
   "execution_count": 3,
   "metadata": {
    "colab": {
     "autoexec": {
      "startup": false,
      "wait_interval": 0
     }
    },
    "colab_type": "code",
    "id": "orlt463Qufgg"
   },
   "outputs": [
    {
     "name": "stdout",
     "output_type": "stream",
     "text": [
      "Cloning into 'pyannote-audio'...\n",
      "remote: Counting objects: 6916, done.\u001b[K\n",
      "remote: Compressing objects: 100% (108/108), done.\u001b[K\n",
      "remote: Total 6916 (delta 83), reused 118 (delta 57), pack-reused 6751\u001b[K\n",
      "Receiving objects: 100% (6916/6916), 3.35 MiB | 3.24 MiB/s, done.\n",
      "Resolving deltas: 100% (4385/4385), done.\n",
      "Checking connectivity... done.\n"
     ]
    }
   ],
   "source": [
    "# Clone the repository to access .yml files.\n",
    "\n",
    "!git clone https://github.com/pyannote/pyannote-audio.git"
   ]
  },
  {
   "cell_type": "code",
   "execution_count": 4,
   "metadata": {},
   "outputs": [
    {
     "name": "stdout",
     "output_type": "stream",
     "text": [
      "Python 3.6.5 :: Anaconda custom (64-bit)\n"
     ]
    }
   ],
   "source": [
    "!python --version"
   ]
  },
  {
   "cell_type": "code",
   "execution_count": 5,
   "metadata": {
    "colab": {
     "autoexec": {
      "startup": false,
      "wait_interval": 0
     }
    },
    "colab_type": "code",
    "id": "QeAuyxg4ukQH"
   },
   "outputs": [
    {
     "name": "stdout",
     "output_type": "stream",
     "text": [
      "# The MIT License (MIT)\n",
      "#\n",
      "# Copyright (c) 2018 CNRS\n",
      "#\n",
      "# Permission is hereby granted, free of charge, to any person obtaining a copy\n",
      "# of this software and associated documentation files (the \"Software\"), to deal\n",
      "# in the Software without restriction, including without limitation the rights\n",
      "# to use, copy, modify, merge, publish, distribute, sublicense, and/or sell\n",
      "# copies of the Software, and to permit persons to whom the Software is\n",
      "# furnished to do so, subject to the following conditions:\n",
      "#\n",
      "# The above copyright notice and this permission notice shall be included in all\n",
      "# copies or substantial portions of the Software.\n",
      "#\n",
      "# THE SOFTWARE IS PROVIDED \"AS IS\", WITHOUT WARRANTY OF ANY KIND, EXPRESS OR\n",
      "# IMPLIED, INCLUDING BUT NOT LIMITED TO THE WARRANTIES OF MERCHANTABILITY,\n",
      "# FITNESS FOR A PARTICULAR PURPOSE AND NONINFRINGEMENT. IN NO EVENT SHALL THE\n",
      "# AUTHORS OR COPYRIGHT HOLDERS BE LIABLE FOR ANY CLAIM, DAMAGES OR OTHER\n",
      "# LIABILITY, WHETHER IN AN ACTION OF CONTRACT, TORT OR OTHERWISE, ARISING FROM,\n",
      "# OUT OF OR IN CONNECTION WITH THE SOFTWARE OR THE USE OR OTHER DEALINGS IN THE\n",
      "# SOFTWARE.\n",
      "#\n",
      "# AUTHOR\n",
      "# Hervé Bredin - http://herve.niderb.fr\n",
      "\n",
      "# train the network for speaker change detection\n",
      "# see pyannote.audio.labeling.tasks for more details\n",
      "task:\n",
      "   name: SpeakerChangeDetection\n",
      "   params:\n",
      "      duration: 3.2     # sub-sequence duration\n",
      "      per_epoch: 36000  # 10 hours of audio per epoch\n",
      "      collar: 0.200     # upsampling collar\n",
      "      batch_size: 32    # number of sub-sequences per batch\n",
      "      parallel: 4       # number of background generators\n",
      "\n",
      "# use precomputed features (see feature extraction tutorial)\n",
      "feature_extraction:\n",
      "   name: Precomputed\n",
      "   params:\n",
      "      root_dir: tutorials/feature-extraction\n",
      "\n",
      "# use the StackedRNN architecture.\n",
      "# see pyannote.audio.labeling.models for more details\n",
      "architecture:\n",
      "   name: StackedRNN\n",
      "   params:\n",
      "     rnn: LSTM\n",
      "     recurrent: [32, 20]\n",
      "     bidirectional: True\n",
      "     linear: [40, 10]\n",
      "\n",
      "# use cyclic learning rate scheduler\n",
      "scheduler:\n",
      "   name: CyclicScheduler\n",
      "   params:\n",
      "       learning_rate: auto\n"
     ]
    }
   ],
   "source": [
    "# Read the config.yml file to reproduce exact result. \n",
    "\n",
    "!cat ./pyannote-audio/tutorials/change-detection/config.yml"
   ]
  },
  {
   "cell_type": "code",
   "execution_count": 6,
   "metadata": {
    "colab": {
     "autoexec": {
      "startup": false,
      "wait_interval": 0
     }
    },
    "colab_type": "code",
    "id": "KfnpDwkovCF4"
   },
   "outputs": [],
   "source": [
    "from pyannote.database import get_protocol"
   ]
  },
  {
   "cell_type": "markdown",
   "metadata": {
    "colab_type": "text",
    "id": "RxYyi29Aqn8y"
   },
   "source": [
    "In this notebook, I will use AMI Corpus."
   ]
  },
  {
   "cell_type": "code",
   "execution_count": null,
   "metadata": {
    "colab": {
     "autoexec": {
      "startup": false,
      "wait_interval": 0
     }
    },
    "colab_type": "code",
    "id": "TiSISS4EutkF"
   },
   "outputs": [],
   "source": [
    "# To get shell script to download AMI Corpus. Also, you can create new script from\n",
    "# http://groups.inf.ed.ac.uk/ami/download/ Please select all meetings and headset\n",
    "# mix for this example.\n",
    "\n",
    "\n",
    "!wget http://groups.inf.ed.ac.uk/ami/download/temp/amiBuild-9938-Thu-Jul-19-2018.wget.sh"
   ]
  },
  {
   "cell_type": "code",
   "execution_count": null,
   "metadata": {
    "colab": {
     "autoexec": {
      "startup": false,
      "wait_interval": 0
     }
    },
    "colab_type": "code",
    "id": "ev_8iyPLvaQW"
   },
   "outputs": [],
   "source": [
    "# Give permission to AMI Corpus script\n",
    "\n",
    "!chmod +x amiBuild-9938-Thu-Jul-19-2018.wget.sh"
   ]
  },
  {
   "cell_type": "code",
   "execution_count": null,
   "metadata": {
    "colab": {
     "autoexec": {
      "startup": false,
      "wait_interval": 0
     }
    },
    "colab_type": "code",
    "id": "oWSmO_zgvd2w"
   },
   "outputs": [],
   "source": [
    "# Run the shell script to download datas.\n",
    "\n",
    "! ./amiBuild-9938-Thu-Jul-19-2018.wget.sh"
   ]
  },
  {
   "cell_type": "code",
   "execution_count": null,
   "metadata": {},
   "outputs": [],
   "source": [
    "mkdir .pyannote"
   ]
  },
  {
   "cell_type": "code",
   "execution_count": null,
   "metadata": {
    "colab": {
     "autoexec": {
      "startup": false,
      "wait_interval": 0
     }
    },
    "colab_type": "code",
    "id": "PwcVsAbH1zja"
   },
   "outputs": [],
   "source": [
    "cd .."
   ]
  },
  {
   "cell_type": "code",
   "execution_count": 7,
   "metadata": {
    "colab": {
     "autoexec": {
      "startup": false,
      "wait_interval": 0
     }
    },
    "colab_type": "code",
    "id": "OCIXzEN6z2Y_"
   },
   "outputs": [
    {
     "name": "stdout",
     "output_type": "stream",
     "text": [
      "AMI: /home/herdogan/Desktop/SpChangeDetect/amicorpus/*/audio/{uri}.wav\n"
     ]
    }
   ],
   "source": [
    "# Create new folder to create db.yml inside of that folder.\n",
    "\n",
    "! cat ./.pyannote/db.yml | grep AMI\n"
   ]
  },
  {
   "cell_type": "markdown",
   "metadata": {
    "colab_type": "text",
    "id": "Ow_8ILSRraQo"
   },
   "source": [
    "I am trying to create db.yml via cat command, however, with Google Colab, I can not do that. So that, I just download this file from my Google Drive. To create, you own db.yml, you can use any text editor. We should write the directory of AMI Corpus. In this case, it is  **AMI: /home/herdogan/Desktop/SpChangeDetect/pyannote-audio/amicorpus/*/audio/{uri}.wav**\n"
   ]
  },
  {
   "cell_type": "code",
   "execution_count": 8,
   "metadata": {
    "colab": {
     "autoexec": {
      "startup": false,
      "wait_interval": 0
     }
    },
    "colab_type": "code",
    "id": "B4OABq_Iz588"
   },
   "outputs": [
    {
     "name": "stdout",
     "output_type": "stream",
     "text": [
      "AMI: /home/herdogan/Desktop/SpChangeDetect/amicorpus/*/audio/{uri}.wav\n"
     ]
    }
   ],
   "source": [
    "!cat /home/herdogan/Desktop/SpChangeDetect/.pyannote/db.yml | grep AMI "
   ]
  },
  {
   "cell_type": "code",
   "execution_count": 9,
   "metadata": {
    "colab": {
     "autoexec": {
      "startup": false,
      "wait_interval": 0
     }
    },
    "colab_type": "code",
    "id": "fBMca-WePY77"
   },
   "outputs": [
    {
     "name": "stdout",
     "output_type": "stream",
     "text": [
      "/home/herdogan/Desktop/SpChangeDetect/pyannote-audio\n"
     ]
    }
   ],
   "source": [
    "cd /home/herdogan/Desktop/SpChangeDetect/pyannote-audio"
   ]
  },
  {
   "cell_type": "code",
   "execution_count": 10,
   "metadata": {},
   "outputs": [
    {
     "name": "stdout",
     "output_type": "stream",
     "text": [
      "CHANGELOG.md  MANIFEST.in  README.md  setup.cfg  tutorials\n",
      "LICENSE       pyannote\t   scripts    setup.py\t versioneer.py\n"
     ]
    }
   ],
   "source": [
    "!ls"
   ]
  },
  {
   "cell_type": "markdown",
   "metadata": {
    "colab_type": "text",
    "id": "JwfIFrR31L27"
   },
   "source": [
    "Now, time for the tutorials. In this notebook, I will provide codes for training and validation. For further information, please check the [repository.](github.com/pyannote/pyannote-audio/tree/master/tutorials)"
   ]
  },
  {
   "cell_type": "markdown",
   "metadata": {
    "colab_type": "text",
    "id": "FTbxbxaK0q-0"
   },
   "source": [
    "## **Feature Extraction**"
   ]
  },
  {
   "cell_type": "code",
   "execution_count": 11,
   "metadata": {
    "colab": {
     "autoexec": {
      "startup": false,
      "wait_interval": 0
     }
    },
    "colab_type": "code",
    "id": "dH1Xk-iS9MWW"
   },
   "outputs": [
    {
     "name": "stdout",
     "output_type": "stream",
     "text": [
      "# The MIT License (MIT)\n",
      "#\n",
      "# Copyright (c) 2018 CNRS\n",
      "#\n",
      "# Permission is hereby granted, free of charge, to any person obtaining a copy\n",
      "# of this software and associated documentation files (the \"Software\"), to deal\n",
      "# in the Software without restriction, including without limitation the rights\n",
      "# to use, copy, modify, merge, publish, distribute, sublicense, and/or sell\n",
      "# copies of the Software, and to permit persons to whom the Software is\n",
      "# furnished to do so, subject to the following conditions:\n",
      "#\n",
      "# The above copyright notice and this permission notice shall be included in all\n",
      "# copies or substantial portions of the Software.\n",
      "#\n",
      "# THE SOFTWARE IS PROVIDED \"AS IS\", WITHOUT WARRANTY OF ANY KIND, EXPRESS OR\n",
      "# IMPLIED, INCLUDING BUT NOT LIMITED TO THE WARRANTIES OF MERCHANTABILITY,\n",
      "# FITNESS FOR A PARTICULAR PURPOSE AND NONINFRINGEMENT. IN NO EVENT SHALL THE\n",
      "# AUTHORS OR COPYRIGHT HOLDERS BE LIABLE FOR ANY CLAIM, DAMAGES OR OTHER\n",
      "# LIABILITY, WHETHER IN AN ACTION OF CONTRACT, TORT OR OTHERWISE, ARISING FROM,\n",
      "# OUT OF OR IN CONNECTION WITH THE SOFTWARE OR THE USE OR OTHER DEALINGS IN THE\n",
      "# SOFTWARE.\n",
      "#\n",
      "# AUTHOR\n",
      "# Hervé Bredin - http://herve.niderb.fr\n",
      "\n",
      "\n",
      "feature_extraction:\n",
      "   name: YaafeMFCC                  # extract MFCCs using Yaafe\n",
      "   params:\n",
      "      e: False                      # no energy\n",
      "      De: True                      # energy 1st derivative\n",
      "      DDe: True                     # energy 2nd derivative\n",
      "      coefs: 19                     # 19 coefficients\n",
      "      D: True                       # with 1st derivatives\n",
      "      DD: True                      # and 2nd derivatives\n",
      "      duration: 0.025               # one 25ms-long windows\n",
      "      step: 0.010                   # and a step of 10ms\n",
      "      sample_rate: 16000\n",
      "\n",
      "normalization:\n",
      "   name: ShortTermStandardization   # apply short term standardization\n",
      "   params:\n",
      "      duration: 3                   # using a 3s-long sliding window\n"
     ]
    }
   ],
   "source": [
    "!cat tutorials/feature-extraction/config.yml"
   ]
  },
  {
   "cell_type": "code",
   "execution_count": 12,
   "metadata": {
    "colab": {
     "autoexec": {
      "startup": false,
      "wait_interval": 0
     }
    },
    "colab_type": "code",
    "id": "U4MbNH3Y0kiM"
   },
   "outputs": [
    {
     "name": "stdout",
     "output_type": "stream",
     "text": [
      "Development set: 21it [01:15,  3.61s/it]\n",
      "Test set: 22it [01:33,  4.27s/it]\n",
      "Training set: 115it [07:53,  4.12s/it]\n"
     ]
    }
   ],
   "source": [
    "!pyannote-speech-feature tutorials/feature-extraction AMI.SpeakerDiarization.MixHeadset"
   ]
  },
  {
   "cell_type": "code",
   "execution_count": 13,
   "metadata": {
    "colab": {
     "autoexec": {
      "startup": false,
      "wait_interval": 0
     }
    },
    "colab_type": "code",
    "id": "rzPcp6iZ5NnS"
   },
   "outputs": [
    {
     "name": "stdout",
     "output_type": "stream",
     "text": [
      "EN2001a.Mix-Headset.npy\n",
      "EN2001b.Mix-Headset.npy\n",
      "EN2001d.Mix-Headset.npy\n",
      "EN2001e.Mix-Headset.npy\n",
      "EN2002b.Mix-Headset.npy\n"
     ]
    }
   ],
   "source": [
    "!ls tutorials/feature-extraction/AMI | head -n 5"
   ]
  },
  {
   "cell_type": "markdown",
   "metadata": {
    "colab_type": "text",
    "id": "bJ8O4jBy0zow"
   },
   "source": [
    "## *Speech activity detection*"
   ]
  },
  {
   "cell_type": "code",
   "execution_count": 14,
   "metadata": {
    "colab": {
     "autoexec": {
      "startup": false,
      "wait_interval": 0
     }
    },
    "colab_type": "code",
    "id": "9rp02Sia09p2"
   },
   "outputs": [
    {
     "name": "stdout",
     "output_type": "stream",
     "text": [
      "# The MIT License (MIT)\n",
      "#\n",
      "# Copyright (c) 2018 CNRS\n",
      "#\n",
      "# Permission is hereby granted, free of charge, to any person obtaining a copy\n",
      "# of this software and associated documentation files (the \"Software\"), to deal\n",
      "# in the Software without restriction, including without limitation the rights\n",
      "# to use, copy, modify, merge, publish, distribute, sublicense, and/or sell\n",
      "# copies of the Software, and to permit persons to whom the Software is\n",
      "# furnished to do so, subject to the following conditions:\n",
      "#\n",
      "# The above copyright notice and this permission notice shall be included in all\n",
      "# copies or substantial portions of the Software.\n",
      "#\n",
      "# THE SOFTWARE IS PROVIDED \"AS IS\", WITHOUT WARRANTY OF ANY KIND, EXPRESS OR\n",
      "# IMPLIED, INCLUDING BUT NOT LIMITED TO THE WARRANTIES OF MERCHANTABILITY,\n",
      "# FITNESS FOR A PARTICULAR PURPOSE AND NONINFRINGEMENT. IN NO EVENT SHALL THE\n",
      "# AUTHORS OR COPYRIGHT HOLDERS BE LIABLE FOR ANY CLAIM, DAMAGES OR OTHER\n",
      "# LIABILITY, WHETHER IN AN ACTION OF CONTRACT, TORT OR OTHERWISE, ARISING FROM,\n",
      "# OUT OF OR IN CONNECTION WITH THE SOFTWARE OR THE USE OR OTHER DEALINGS IN THE\n",
      "# SOFTWARE.\n",
      "#\n",
      "# AUTHOR\n",
      "# Hervé Bredin - http://herve.niderb.fr\n",
      "\n",
      "# train the network for speech activity detection\n",
      "# see pyannote.audio.labeling.tasks for more details\n",
      "task:\n",
      "   name: SpeechActivityDetection\n",
      "   params:\n",
      "      duration: 3.2     # sub-sequence duration\n",
      "      per_epoch: 36000  # 10 hours of audio per epoch\n",
      "      batch_size: 32    # number of sub-sequences per batch\n",
      "      parallel: 4       # number of background generators\n",
      "\n",
      "# use precomputed features (see feature extraction tutorial)\n",
      "feature_extraction:\n",
      "   name: Precomputed\n",
      "   params:\n",
      "      root_dir: tutorials/feature-extraction\n",
      "\n",
      "# use the StackedRNN architecture.\n",
      "# see pyannote.audio.labeling.models for more details\n",
      "architecture:\n",
      "   name: StackedRNN\n",
      "   params:\n",
      "     rnn: LSTM\n",
      "     recurrent: [16, 16]\n",
      "     bidirectional: True\n",
      "\n",
      "# use cyclic learning rate scheduler\n",
      "scheduler:\n",
      "   name: CyclicScheduler\n",
      "   params:\n",
      "       learning_rate: auto\n"
     ]
    }
   ],
   "source": [
    "cat tutorials/speech-activity-detection/config.yml"
   ]
  },
  {
   "cell_type": "markdown",
   "metadata": {
    "colab_type": "text",
    "id": "pWVKFrHEKk9z"
   },
   "source": [
    "If you want to use tensorboard, you can check [this](https://stackoverflow.com/questions/47818822/can-i-use-tensorboard-with-google-colab)"
   ]
  },
  {
   "cell_type": "code",
   "execution_count": 15,
   "metadata": {
    "colab": {
     "autoexec": {
      "startup": false,
      "wait_interval": 0
     }
    },
    "colab_type": "code",
    "id": "xw5OUJrU09vy"
   },
   "outputs": [
    {
     "name": "stdout",
     "output_type": "stream",
     "text": [
      "Training set: 115it [00:01, 98.54it/s]\n",
      "Training set: 115it [00:15,  7.22it/s]\n",
      "Auto LR:   0%|         | 2/500 [00:02<11:12,  1.35s/it, loss=0.532, lr=1.04e-06]^C\n"
     ]
    }
   ],
   "source": [
    "# Training.\n",
    "\n",
    "!pyannote-speech-detection train tutorials/speech-activity-detection AMI.SpeakerDiarization.MixHeadset"
   ]
  },
  {
   "cell_type": "code",
   "execution_count": null,
   "metadata": {
    "colab": {
     "autoexec": {
      "startup": false,
      "wait_interval": 0
     }
    },
    "colab_type": "code",
    "id": "zR_6KqPF1mDi"
   },
   "outputs": [],
   "source": [
    "# Validation.\n",
    "\n",
    "!pyannote-speech-detection validate tutorials/speech-activity-detection/train/AMI.SpeakerDiarization.MixHeadset.train AMI.SpeakerDiarization.MixHeadset"
   ]
  },
  {
   "cell_type": "markdown",
   "metadata": {
    "colab_type": "text",
    "id": "-m9fqmqP2A5a"
   },
   "source": [
    "## *Speaker Change Detection*"
   ]
  },
  {
   "cell_type": "markdown",
   "metadata": {},
   "source": [
    "Yes. /path/to/scd should be replaced by /absolute/path/to/tutorials/pipeline/scd.\n",
    "\n",
    "https://github.com/pyannote/pyannote-audio/issues/105"
   ]
  },
  {
   "cell_type": "code",
   "execution_count": 16,
   "metadata": {
    "colab": {
     "autoexec": {
      "startup": false,
      "wait_interval": 0
     }
    },
    "colab_type": "code",
    "id": "B9u6ouxvNc2i"
   },
   "outputs": [
    {
     "name": "stdout",
     "output_type": "stream",
     "text": [
      "# The MIT License (MIT)\n",
      "#\n",
      "# Copyright (c) 2018 CNRS\n",
      "#\n",
      "# Permission is hereby granted, free of charge, to any person obtaining a copy\n",
      "# of this software and associated documentation files (the \"Software\"), to deal\n",
      "# in the Software without restriction, including without limitation the rights\n",
      "# to use, copy, modify, merge, publish, distribute, sublicense, and/or sell\n",
      "# copies of the Software, and to permit persons to whom the Software is\n",
      "# furnished to do so, subject to the following conditions:\n",
      "#\n",
      "# The above copyright notice and this permission notice shall be included in all\n",
      "# copies or substantial portions of the Software.\n",
      "#\n",
      "# THE SOFTWARE IS PROVIDED \"AS IS\", WITHOUT WARRANTY OF ANY KIND, EXPRESS OR\n",
      "# IMPLIED, INCLUDING BUT NOT LIMITED TO THE WARRANTIES OF MERCHANTABILITY,\n",
      "# FITNESS FOR A PARTICULAR PURPOSE AND NONINFRINGEMENT. IN NO EVENT SHALL THE\n",
      "# AUTHORS OR COPYRIGHT HOLDERS BE LIABLE FOR ANY CLAIM, DAMAGES OR OTHER\n",
      "# LIABILITY, WHETHER IN AN ACTION OF CONTRACT, TORT OR OTHERWISE, ARISING FROM,\n",
      "# OUT OF OR IN CONNECTION WITH THE SOFTWARE OR THE USE OR OTHER DEALINGS IN THE\n",
      "# SOFTWARE.\n",
      "#\n",
      "# AUTHOR\n",
      "# Hervé Bredin - http://herve.niderb.fr\n",
      "\n",
      "# train the network for speaker change detection\n",
      "# see pyannote.audio.labeling.tasks for more details\n",
      "task:\n",
      "   name: SpeakerChangeDetection\n",
      "   params:\n",
      "      duration: 3.2     # sub-sequence duration\n",
      "      per_epoch: 36000  # 10 hours of audio per epoch\n",
      "      collar: 0.200     # upsampling collar\n",
      "      batch_size: 32    # number of sub-sequences per batch\n",
      "      parallel: 4       # number of background generators\n",
      "\n",
      "# use precomputed features (see feature extraction tutorial)\n",
      "feature_extraction:\n",
      "   name: Precomputed\n",
      "   params:\n",
      "      root_dir: tutorials/feature-extraction\n",
      "\n",
      "# use the StackedRNN architecture.\n",
      "# see pyannote.audio.labeling.models for more details\n",
      "architecture:\n",
      "   name: StackedRNN\n",
      "   params:\n",
      "     rnn: LSTM\n",
      "     recurrent: [32, 20]\n",
      "     bidirectional: True\n",
      "     linear: [40, 10]\n",
      "\n",
      "# use cyclic learning rate scheduler\n",
      "scheduler:\n",
      "   name: CyclicScheduler\n",
      "   params:\n",
      "       learning_rate: auto\n"
     ]
    }
   ],
   "source": [
    "cat tutorials/change-detection/config.yml"
   ]
  },
  {
   "cell_type": "code",
   "execution_count": null,
   "metadata": {
    "colab": {
     "autoexec": {
      "startup": false,
      "wait_interval": 0
     }
    },
    "colab_type": "code",
    "id": "GvqZLMbiaTvx"
   },
   "outputs": [],
   "source": [
    "# !pyannote-speech-detection -h"
   ]
  },
  {
   "cell_type": "code",
   "execution_count": null,
   "metadata": {
    "colab": {
     "autoexec": {
      "startup": false,
      "wait_interval": 0
     }
    },
    "colab_type": "code",
    "id": "deLQKULvNocb"
   },
   "outputs": [],
   "source": [
    "# Training.\n",
    "\n",
    "!pyannote-speech-detection train --to=5  tutorials/change-detection AMI.SpeakerDiarization.MixHeadset"
   ]
  },
  {
   "cell_type": "code",
   "execution_count": null,
   "metadata": {},
   "outputs": [],
   "source": []
  },
  {
   "cell_type": "code",
   "execution_count": null,
   "metadata": {
    "colab": {
     "autoexec": {
      "startup": false,
      "wait_interval": 0
     }
    },
    "colab_type": "code",
    "id": "Vyd5zt0Fm-Hb"
   },
   "outputs": [],
   "source": [
    "# Validation\n",
    "\n",
    "!pyannote-change-detection validate --purity=0.8 --gpu  --to=5 tutorials/change-detection/train/AMI.SpeakerDiarization.MixHeadset.train AMI.SpeakerDiarization.MixHeadset"
   ]
  },
  {
   "cell_type": "code",
   "execution_count": null,
   "metadata": {
    "colab": {
     "autoexec": {
      "startup": false,
      "wait_interval": 0
     }
    },
    "colab_type": "code",
    "id": "TToLCBQ6CSha"
   },
   "outputs": [],
   "source": [
    "mkdir raw_scores"
   ]
  },
  {
   "cell_type": "code",
   "execution_count": null,
   "metadata": {
    "colab": {
     "autoexec": {
      "startup": false,
      "wait_interval": 0
     }
    },
    "colab_type": "code",
    "id": "kI4Ryep6qhmT"
   },
   "outputs": [],
   "source": [
    "!pyannote-change-detection apply tutorials/change-detection/train/AMI.SpeakerDiarization.MixHeadset.train/weights/0005.pt   AMI.SpeakerDiarization.MixHeadset raw_scores"
   ]
  },
  {
   "cell_type": "code",
   "execution_count": null,
   "metadata": {},
   "outputs": [],
   "source": [
    "!pyannote-change-detection apply tutorials/change-detection/train/AMI.SpeakerDiarization.MixHeadset.train/weights/0005.pt   AMI.SpeakerDiarization.MixHeadset path/to/scd"
   ]
  },
  {
   "cell_type": "code",
   "execution_count": 1,
   "metadata": {},
   "outputs": [],
   "source": [
    "#AMI Protocol\n",
    "from pyannote.database import get_protocol\n",
    "protocol = get_protocol('AMI.SpeakerDiarization.MixHeadset')"
   ]
  },
  {
   "cell_type": "code",
   "execution_count": 2,
   "metadata": {},
   "outputs": [
    {
     "ename": "ValueError",
     "evalue": "Either directory /home/herdogan/Desktop/SpChangeDetect/raw_scores does not exist or it does not contain precomputed features. In case it exists and this was done on purpose, please provide both `sliding_window` and `dimension` parameters when instantianting `Precomputed`.",
     "output_type": "error",
     "traceback": [
      "\u001b[0;31m---------------------------------------------------------------------------\u001b[0m",
      "\u001b[0;31mValueError\u001b[0m                                Traceback (most recent call last)",
      "\u001b[0;32m<ipython-input-2-f1c64b48b2d0>\u001b[0m in \u001b[0;36m<module>\u001b[0;34m()\u001b[0m\n\u001b[1;32m      1\u001b[0m \u001b[0;31m# Precomputed Scores\u001b[0m\u001b[0;34m\u001b[0m\u001b[0;34m\u001b[0m\u001b[0m\n\u001b[1;32m      2\u001b[0m \u001b[0;32mfrom\u001b[0m \u001b[0mpyannote\u001b[0m\u001b[0;34m.\u001b[0m\u001b[0maudio\u001b[0m\u001b[0;34m.\u001b[0m\u001b[0mfeatures\u001b[0m \u001b[0;32mimport\u001b[0m \u001b[0mPrecomputed\u001b[0m\u001b[0;34m\u001b[0m\u001b[0m\n\u001b[0;32m----> 3\u001b[0;31m \u001b[0mprecomputed\u001b[0m \u001b[0;34m=\u001b[0m \u001b[0mPrecomputed\u001b[0m\u001b[0;34m(\u001b[0m\u001b[0;34m'raw_scores'\u001b[0m\u001b[0;34m)\u001b[0m\u001b[0;34m\u001b[0m\u001b[0m\n\u001b[0m",
      "\u001b[0;32m~/anaconda3/envs/pyannote/lib/python3.6/site-packages/pyannote/audio/features/utils.py\u001b[0m in \u001b[0;36m__init__\u001b[0;34m(self, root_dir, use_memmap, sliding_window, dimension)\u001b[0m\n\u001b[1;32m    245\u001b[0m                     \u001b[0;34mf'`sliding_window` and `dimension` parameters when '\u001b[0m\u001b[0;34m\u001b[0m\u001b[0m\n\u001b[1;32m    246\u001b[0m                     f'instantianting `Precomputed`.')\n\u001b[0;32m--> 247\u001b[0;31m                 \u001b[0;32mraise\u001b[0m \u001b[0mValueError\u001b[0m\u001b[0;34m(\u001b[0m\u001b[0mmsg\u001b[0m\u001b[0;34m)\u001b[0m\u001b[0;34m\u001b[0m\u001b[0m\n\u001b[0m\u001b[1;32m    248\u001b[0m \u001b[0;34m\u001b[0m\u001b[0m\n\u001b[1;32m    249\u001b[0m             \u001b[0;31m# create parent directory\u001b[0m\u001b[0;34m\u001b[0m\u001b[0;34m\u001b[0m\u001b[0m\n",
      "\u001b[0;31mValueError\u001b[0m: Either directory /home/herdogan/Desktop/SpChangeDetect/raw_scores does not exist or it does not contain precomputed features. In case it exists and this was done on purpose, please provide both `sliding_window` and `dimension` parameters when instantianting `Precomputed`."
     ]
    }
   ],
   "source": [
    "# Precomputed Scores\n",
    "from pyannote.audio.features import Precomputed\n",
    "precomputed = Precomputed('raw_scores')"
   ]
  },
  {
   "cell_type": "code",
   "execution_count": null,
   "metadata": {},
   "outputs": [],
   "source": [
    "precomputed"
   ]
  },
  {
   "cell_type": "code",
   "execution_count": null,
   "metadata": {},
   "outputs": [],
   "source": [
    "precomputed.shape"
   ]
  },
  {
   "cell_type": "code",
   "execution_count": null,
   "metadata": {},
   "outputs": [],
   "source": [
    "# Peak Detection\n",
    "from pyannote.audio.signal import Peak\n",
    "peak = Peak(alpha=0.5, min_duration=1.0, log_scale=True)"
   ]
  },
  {
   "cell_type": "code",
   "execution_count": null,
   "metadata": {},
   "outputs": [],
   "source": [
    "# Evaluation Metric\n",
    "from pyannote.metrics.diarization import DiarizationPurityCoverageFMeasure\n",
    "metric = DiarizationPurityCoverageFMeasure()"
   ]
  },
  {
   "cell_type": "code",
   "execution_count": null,
   "metadata": {},
   "outputs": [],
   "source": [
    "# Loop on Test Files\n",
    "from pyannote.database import get_annotated\n",
    "for test_file in protocol.test():\n",
    "    print (test_file)\n",
    "    # load reference annotation\n",
    "    reference = test_file['annotation']\n",
    "    uem = get_annotated(test_file)\n",
    "\n",
    "    # load precomputed change scores as pyannote.core.SlidingWindowFeature\n",
    "    scd_scores = precomputed(test_file)\n",
    "\n",
    "    # binarize scores to obtain speech regions as pyannote.core.Timeline\n",
    "    hypothesis = peak.apply(scd_scores, dimension=1)\n",
    "\n",
    "    # evaluate speech activity detection\n",
    "    metric(reference, hypothesis.to_annotation(), uem=uem)\n",
    "\n",
    "purity, coverage, fmeasure = metric.compute_metrics()\n",
    "print(f'Purity = {100*purity:.1f}% / Coverage = {100*coverage:.1f}%')"
   ]
  },
  {
   "cell_type": "code",
   "execution_count": null,
   "metadata": {},
   "outputs": [],
   "source": []
  }
 ],
 "metadata": {
  "accelerator": "GPU",
  "colab": {
   "collapsed_sections": [],
   "default_view": {},
   "name": "pyannote_reproduce.ipynb",
   "provenance": [],
   "version": "0.3.2",
   "views": {}
  },
  "kernelspec": {
   "display_name": "Python 3",
   "language": "python",
   "name": "python3"
  },
  "language_info": {
   "codemirror_mode": {
    "name": "ipython",
    "version": 3
   },
   "file_extension": ".py",
   "mimetype": "text/x-python",
   "name": "python",
   "nbconvert_exporter": "python",
   "pygments_lexer": "ipython3",
   "version": "3.6.5"
  }
 },
 "nbformat": 4,
 "nbformat_minor": 2
}
