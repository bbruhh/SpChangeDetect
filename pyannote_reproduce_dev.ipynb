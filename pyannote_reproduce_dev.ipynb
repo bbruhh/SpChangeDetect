{
 "cells": [
  {
   "cell_type": "markdown",
   "metadata": {
    "colab_type": "text",
    "id": "ZwGrVuHYpi09"
   },
   "source": [
    "# DRAFT VERSION. \n",
    "\n",
    "### It is based on my local folders. I will refactor whole code asap. :)\n",
    "\n",
    "I am trying to reproduce [pyannote.audio](https://github.com/pyannote/pyannote-audio) tutorials."
   ]
  },
  {
   "cell_type": "code",
   "execution_count": null,
   "metadata": {
    "colab": {
     "autoexec": {
      "startup": false,
      "wait_interval": 0
     }
    },
    "colab_type": "code",
    "id": "orlt463Qufgg"
   },
   "outputs": [],
   "source": [
    "# Clone the repository to access .yml files.\n",
    "\n",
    "!git clone https://github.com/pyannote/pyannote-audio.git"
   ]
  },
  {
   "cell_type": "code",
   "execution_count": 2,
   "metadata": {},
   "outputs": [],
   "source": [
    "import numpy as np"
   ]
  },
  {
   "cell_type": "code",
   "execution_count": 3,
   "metadata": {},
   "outputs": [
    {
     "name": "stdout",
     "output_type": "stream",
     "text": [
      "Python 3.6.5 :: Anaconda custom (64-bit)\n"
     ]
    }
   ],
   "source": [
    "!python --version"
   ]
  },
  {
   "cell_type": "code",
   "execution_count": 4,
   "metadata": {},
   "outputs": [],
   "source": [
    "from pyannote.database import *"
   ]
  },
  {
   "cell_type": "code",
   "execution_count": null,
   "metadata": {
    "colab": {
     "autoexec": {
      "startup": false,
      "wait_interval": 0
     }
    },
    "colab_type": "code",
    "id": "QeAuyxg4ukQH"
   },
   "outputs": [],
   "source": [
    "# Read the config.yml file to reproduce exact result. \n",
    "\n",
    "# !cat ./pyannote-audio/tutorials/change-detection/config.yml"
   ]
  },
  {
   "cell_type": "markdown",
   "metadata": {
    "colab_type": "text",
    "id": "RxYyi29Aqn8y"
   },
   "source": [
    "In this notebook, I will use AMI Corpus."
   ]
  },
  {
   "cell_type": "code",
   "execution_count": null,
   "metadata": {
    "colab": {
     "autoexec": {
      "startup": false,
      "wait_interval": 0
     }
    },
    "colab_type": "code",
    "id": "TiSISS4EutkF"
   },
   "outputs": [],
   "source": [
    "# To get shell script to download AMI Corpus. Also, you can create new script from\n",
    "# http://groups.inf.ed.ac.uk/ami/download/ Please select all meetings and headset\n",
    "# mix for this example.\n",
    "\n",
    "\n",
    "!wget http://groups.inf.ed.ac.uk/ami/download/temp/amiBuild-9938-Thu-Jul-19-2018.wget.sh"
   ]
  },
  {
   "cell_type": "code",
   "execution_count": null,
   "metadata": {
    "colab": {
     "autoexec": {
      "startup": false,
      "wait_interval": 0
     }
    },
    "colab_type": "code",
    "id": "ev_8iyPLvaQW"
   },
   "outputs": [],
   "source": [
    "# Give permission to AMI Corpus script\n",
    "\n",
    "!chmod +x amiBuild-9938-Thu-Jul-19-2018.wget.sh"
   ]
  },
  {
   "cell_type": "code",
   "execution_count": null,
   "metadata": {
    "colab": {
     "autoexec": {
      "startup": false,
      "wait_interval": 0
     }
    },
    "colab_type": "code",
    "id": "oWSmO_zgvd2w"
   },
   "outputs": [],
   "source": [
    "# Run the shell script to download datas.\n",
    "\n",
    "! ./amiBuild-9938-Thu-Jul-19-2018.wget.sh"
   ]
  },
  {
   "cell_type": "code",
   "execution_count": null,
   "metadata": {},
   "outputs": [],
   "source": [
    "# Create new folder to create db.yml inside of that folder.\n",
    "\n",
    "!mkdir .pyannote"
   ]
  },
  {
   "cell_type": "code",
   "execution_count": 5,
   "metadata": {
    "colab": {
     "autoexec": {
      "startup": false,
      "wait_interval": 0
     }
    },
    "colab_type": "code",
    "id": "OCIXzEN6z2Y_"
   },
   "outputs": [
    {
     "name": "stdout",
     "output_type": "stream",
     "text": [
      "AMI: ../pyannote-audio/amicorpus/*/audio/{uri}.wav\n"
     ]
    }
   ],
   "source": [
    "! cat ./.pyannote/db.yml | grep AMI\n"
   ]
  },
  {
   "cell_type": "markdown",
   "metadata": {
    "colab_type": "text",
    "id": "Ow_8ILSRraQo"
   },
   "source": [
    "I am trying to create db.yml via cat command, however, with Google Colab, I can not do that. So that, I just download this file from my Google Drive. To create, you own db.yml, you can use any text editor. We should write the directory of AMI Corpus. In this case, it is  **AMI: ../pyannote-audio/amicorpus/*/audio/{uri}.wav**\n"
   ]
  },
  {
   "cell_type": "code",
   "execution_count": 6,
   "metadata": {
    "colab": {
     "autoexec": {
      "startup": false,
      "wait_interval": 0
     }
    },
    "colab_type": "code",
    "id": "B4OABq_Iz588"
   },
   "outputs": [
    {
     "name": "stdout",
     "output_type": "stream",
     "text": [
      "AMI: ../pyannote-audio/amicorpus/*/audio/{uri}.wav\n"
     ]
    }
   ],
   "source": [
    "!cat ./.pyannote/db.yml | grep AMI "
   ]
  },
  {
   "cell_type": "code",
   "execution_count": null,
   "metadata": {},
   "outputs": [],
   "source": [
    "!ls"
   ]
  },
  {
   "cell_type": "code",
   "execution_count": 7,
   "metadata": {},
   "outputs": [
    {
     "name": "stdout",
     "output_type": "stream",
     "text": [
      "/home/herdogan/Desktop/SpChangeDetect/pyannote-audio\n"
     ]
    }
   ],
   "source": [
    "cd pyannote-audio"
   ]
  },
  {
   "cell_type": "markdown",
   "metadata": {
    "colab_type": "text",
    "id": "JwfIFrR31L27"
   },
   "source": [
    "Now, time for the tutorials. In this notebook, I will provide codes for training and validation. For further information, please check the [repository.](github.com/pyannote/pyannote-audio/tree/master/tutorials)"
   ]
  },
  {
   "cell_type": "markdown",
   "metadata": {
    "colab_type": "text",
    "id": "FTbxbxaK0q-0"
   },
   "source": [
    "## **Feature Extraction**"
   ]
  },
  {
   "cell_type": "code",
   "execution_count": 51,
   "metadata": {
    "colab": {
     "autoexec": {
      "startup": false,
      "wait_interval": 0
     }
    },
    "colab_type": "code",
    "id": "dH1Xk-iS9MWW"
   },
   "outputs": [
    {
     "name": "stdout",
     "output_type": "stream",
     "text": [
      "# The MIT License (MIT)\n",
      "#\n",
      "# Copyright (c) 2018 CNRS\n",
      "#\n",
      "# Permission is hereby granted, free of charge, to any person obtaining a copy\n",
      "# of this software and associated documentation files (the \"Software\"), to deal\n",
      "# in the Software without restriction, including without limitation the rights\n",
      "# to use, copy, modify, merge, publish, distribute, sublicense, and/or sell\n",
      "# copies of the Software, and to permit persons to whom the Software is\n",
      "# furnished to do so, subject to the following conditions:\n",
      "#\n",
      "# The above copyright notice and this permission notice shall be included in all\n",
      "# copies or substantial portions of the Software.\n",
      "#\n",
      "# THE SOFTWARE IS PROVIDED \"AS IS\", WITHOUT WARRANTY OF ANY KIND, EXPRESS OR\n",
      "# IMPLIED, INCLUDING BUT NOT LIMITED TO THE WARRANTIES OF MERCHANTABILITY,\n",
      "# FITNESS FOR A PARTICULAR PURPOSE AND NONINFRINGEMENT. IN NO EVENT SHALL THE\n",
      "# AUTHORS OR COPYRIGHT HOLDERS BE LIABLE FOR ANY CLAIM, DAMAGES OR OTHER\n",
      "# LIABILITY, WHETHER IN AN ACTION OF CONTRACT, TORT OR OTHERWISE, ARISING FROM,\n",
      "# OUT OF OR IN CONNECTION WITH THE SOFTWARE OR THE USE OR OTHER DEALINGS IN THE\n",
      "# SOFTWARE.\n",
      "#\n",
      "# AUTHOR\n",
      "# Hervé Bredin - http://herve.niderb.fr\n",
      "\n",
      "\n",
      "feature_extraction:\n",
      "   name: YaafeMFCC                  # extract MFCCs using Yaafe\n",
      "   params:\n",
      "      e: False                      # no energy\n",
      "      De: True                      # energy 1st derivative\n",
      "      DDe: True                     # energy 2nd derivative\n",
      "      coefs: 19                     # 19 coefficients\n",
      "      D: True                       # with 1st derivatives\n",
      "      DD: True                      # and 2nd derivatives\n",
      "      duration: 0.025               # one 25ms-long windows\n",
      "      step: 0.010                   # and a step of 10ms\n",
      "      sample_rate: 16000\n",
      "\n",
      "normalization:\n",
      "   name: ShortTermStandardization   # apply short term standardization\n",
      "   params:\n",
      "      duration: 3                   # using a 3s-long sliding window\n"
     ]
    }
   ],
   "source": [
    "!cat tutorials/feature-extraction/config.yml"
   ]
  },
  {
   "cell_type": "code",
   "execution_count": null,
   "metadata": {
    "colab": {
     "autoexec": {
      "startup": false,
      "wait_interval": 0
     }
    },
    "colab_type": "code",
    "id": "U4MbNH3Y0kiM"
   },
   "outputs": [],
   "source": [
    "!pyannote-speech-feature tutorials/feature-extraction AMI.SpeakerDiarization.MixHeadset"
   ]
  },
  {
   "cell_type": "code",
   "execution_count": 8,
   "metadata": {
    "colab": {
     "autoexec": {
      "startup": false,
      "wait_interval": 0
     }
    },
    "colab_type": "code",
    "id": "rzPcp6iZ5NnS"
   },
   "outputs": [
    {
     "name": "stdout",
     "output_type": "stream",
     "text": [
      "EN2001a.Mix-Headset.npy\n",
      "EN2001b.Mix-Headset.npy\n",
      "EN2001d.Mix-Headset.npy\n",
      "EN2001e.Mix-Headset.npy\n",
      "EN2002b.Mix-Headset.npy\n"
     ]
    }
   ],
   "source": [
    "!ls tutorials/feature-extraction/AMI | head -n 5"
   ]
  },
  {
   "cell_type": "code",
   "execution_count": 9,
   "metadata": {},
   "outputs": [],
   "source": [
    "import numpy as np\n",
    "en2001a_mfcc_arr = np.load(\"tutorials/feature-extraction/AMI/EN2001a.Mix-Headset.npy\")"
   ]
  },
  {
   "cell_type": "code",
   "execution_count": 22,
   "metadata": {},
   "outputs": [
    {
     "name": "stdout",
     "output_type": "stream",
     "text": [
      "[[ -3.16715514e-01  -7.47933961e-01  -9.93278409e-01 ...,  -2.70448411e-01\n",
      "   -1.42360869e+00  -1.23996292e+00]\n",
      " [ -7.96380726e-01  -5.10487394e-01  -3.46103068e-01 ...,  -4.07018459e-01\n",
      "   -9.66524316e-01  -2.69279566e-01]\n",
      " [ -7.14847742e-01  -5.48703170e-01   3.07691222e-01 ...,  -8.75023210e-01\n",
      "   -1.18645686e+00   7.01381883e-01]\n",
      " ..., \n",
      " [  3.29586336e-01  -3.70435481e-01   1.13449076e+00 ...,  -9.28153764e-01\n",
      "   -8.55219348e-01   3.16716919e-02]\n",
      " [  6.39457512e-01   2.34515717e-01   2.15653531e-01 ...,   1.30292371e-01\n",
      "   -1.07649605e+00   9.33838105e-01]\n",
      " [  2.32059163e+00   1.05582310e+00  -1.28162703e-03 ...,   7.68826486e-01\n",
      "   -5.50655204e-01   9.26367304e-01]]\n",
      "(525025, 59)\n",
      "8.62752434527\n",
      "-5.92959569305e-05\n",
      "-8.47691247896\n"
     ]
    }
   ],
   "source": [
    "print (en2001a_mfcc_arr)\n",
    "print (en2001a_mfcc_arr.shape)\n",
    "print (en2001a_mfcc_arr.max())\n",
    "print (en2001a_mfcc_arr.mean())\n",
    "print (en2001a_mfcc_arr.min())\n",
    "# en2201a -> 5223 seconds"
   ]
  },
  {
   "cell_type": "code",
   "execution_count": 53,
   "metadata": {},
   "outputs": [
    {
     "data": {
      "image/png": "[encoded data removed]",
      "text/plain": [
       "<Figure size 432x288 with 1 Axes>"
      ]
     },
     "metadata": {},
     "output_type": "display_data"
    }
   ],
   "source": [
    "import matplotlib.pyplot as pp\n",
    "\n",
    "pp.plot(en2001a_mfcc_arr[:,:19])\n",
    "pp.axhline(y=0.5, color='r', linestyle='-')\n",
    "pp.show()"
   ]
  },
  {
   "cell_type": "code",
   "execution_count": 54,
   "metadata": {},
   "outputs": [
    {
     "data": {
      "image/png": "[encoded data removed]",
      "text/plain": [
       "<Figure size 432x288 with 1 Axes>"
      ]
     },
     "metadata": {},
     "output_type": "display_data"
    }
   ],
   "source": [
    "pp.plot(en2001a_mfcc_arr[:,19:38])\n",
    "pp.axhline(y=0.5, color='r', linestyle='-')\n",
    "pp.show()"
   ]
  },
  {
   "cell_type": "code",
   "execution_count": 55,
   "metadata": {},
   "outputs": [
    {
     "data": {
      "image/png": "[encoded data removed]",
      "text/plain": [
       "<Figure size 432x288 with 1 Axes>"
      ]
     },
     "metadata": {},
     "output_type": "display_data"
    }
   ],
   "source": [
    "pp.plot(en2001a_mfcc_arr[:,38:57])\n",
    "pp.axhline(y=0.5, color='r', linestyle='-')\n",
    "pp.show()"
   ]
  },
  {
   "cell_type": "code",
   "execution_count": 56,
   "metadata": {},
   "outputs": [
    {
     "data": {
      "image/png": "[encoded data removed]",
      "text/plain": [
       "<Figure size 432x288 with 1 Axes>"
      ]
     },
     "metadata": {},
     "output_type": "display_data"
    }
   ],
   "source": [
    "pp.plot(en2001a_mfcc_arr[:,57:])\n",
    "pp.axhline(y=0.5, color='r', linestyle='-')\n",
    "pp.show()"
   ]
  },
  {
   "cell_type": "code",
   "execution_count": 33,
   "metadata": {},
   "outputs": [
    {
     "name": "stdout",
     "output_type": "stream",
     "text": [
      "Max: 4.67206868511\n",
      "Mean: -0.00327771745769\n",
      "Min: -7.74807435455\n",
      "Max: 4.57660569986\n",
      "Mean: -0.000983523128763\n",
      "Min: -7.33326009641\n",
      "Max: 5.39570936237\n",
      "Mean: -0.00330197009278\n",
      "Min: -4.185999869\n",
      "Max: 4.99002169622\n",
      "Mean: -0.000856544064635\n",
      "Min: -5.58428046028\n",
      "Max: 4.82868298607\n",
      "Mean: -0.000221723936696\n",
      "Min: -5.23961234547\n",
      "Max: 5.21797588506\n",
      "Mean: 0.00164615713234\n",
      "Min: -5.02888891841\n",
      "Max: 4.57997270817\n",
      "Mean: 0.00072336037809\n",
      "Min: -5.08302256156\n",
      "Max: 4.94139822765\n",
      "Mean: 0.000149291968946\n",
      "Min: -5.24390618137\n",
      "Max: 4.50409551512\n",
      "Mean: 0.00117772806268\n",
      "Min: -5.43074925107\n",
      "Max: 5.76988764399\n",
      "Mean: -0.000295187012373\n",
      "Min: -4.85479746705\n",
      "Max: 6.21332888256\n",
      "Mean: 0.000260009497128\n",
      "Min: -5.40605210013\n",
      "Max: 4.98522373772\n",
      "Mean: 5.34734744025e-05\n",
      "Min: -5.63080686578\n",
      "Max: 5.56045420215\n",
      "Mean: -0.000400448340405\n",
      "Min: -5.03981662682\n",
      "Max: 5.57365160497\n",
      "Mean: 0.000150022046868\n",
      "Min: -5.19976914671\n",
      "Max: 5.20332094895\n",
      "Mean: -0.000180634217416\n",
      "Min: -5.15845756689\n",
      "Max: 5.87784753345\n",
      "Mean: 0.000452236675565\n",
      "Min: -5.59880222731\n",
      "Max: 4.45319401366\n",
      "Mean: 1.47280476614e-06\n",
      "Min: -5.26032750509\n",
      "Max: 5.10693291239\n",
      "Mean: 0.000199452723333\n",
      "Min: -5.56705479017\n",
      "Max: 4.8830606108\n",
      "Mean: 0.000215089564865\n",
      "Min: -5.32041025415\n",
      "Max: 7.74412313865\n",
      "Mean: 0.000376702269531\n",
      "Min: -7.55540695347\n",
      "Max: 6.2194613856\n",
      "Mean: 0.000193590683008\n",
      "Min: -5.18108511284\n",
      "Max: 5.54004772653\n",
      "Mean: 0.000215492667239\n",
      "Min: -6.22703073351\n",
      "Max: 5.4871065014\n",
      "Mean: 0.000164086161465\n",
      "Min: -5.83609072599\n",
      "Max: 5.20363459458\n",
      "Mean: 0.000113252913531\n",
      "Min: -5.14228725016\n",
      "Max: 5.01561448977\n",
      "Mean: 4.16494002367e-05\n",
      "Min: -4.84896518912\n",
      "Max: 5.06296237471\n",
      "Mean: -6.62394757983e-05\n",
      "Min: -4.86860747524\n",
      "Max: 5.25164852808\n",
      "Mean: -9.27880393372e-05\n",
      "Min: -5.50772994374\n",
      "Max: 5.21814351193\n",
      "Mean: -1.6738793113e-05\n",
      "Min: -4.95366080458\n",
      "Max: 5.23119067075\n",
      "Mean: -1.23109719435e-05\n",
      "Min: -5.60941628596\n",
      "Max: 5.21234601069\n",
      "Mean: 1.93597730824e-05\n",
      "Min: -5.57248489127\n",
      "Max: 5.09862926751\n",
      "Mean: -5.85796124766e-05\n",
      "Min: -5.46318215129\n",
      "Max: 5.03327125038\n",
      "Mean: 0.00010007813791\n",
      "Min: -4.67553858616\n",
      "Max: 4.9338306293\n",
      "Mean: 3.2402509369e-05\n",
      "Min: -5.32690703137\n",
      "Max: 4.74192695728\n",
      "Mean: 1.89963481861e-06\n",
      "Min: -5.45589660118\n",
      "Max: 5.06493569244\n",
      "Mean: -3.97946009372e-05\n",
      "Min: -5.23431078819\n",
      "Max: 5.61128859753\n",
      "Mean: 3.76530906761e-05\n",
      "Min: -4.89709893131\n",
      "Max: 4.90722167877\n",
      "Mean: -4.86051172915e-06\n",
      "Min: -5.50315618172\n",
      "Max: 5.04932751124\n",
      "Mean: -1.36376062918e-05\n",
      "Min: -5.46285577012\n",
      "Max: 5.22499634531\n",
      "Mean: -2.00787395647e-07\n",
      "Min: -4.76494898166\n",
      "Max: 8.62752434527\n",
      "Mean: -8.90907185495e-05\n",
      "Min: -8.47691247896\n",
      "Max: 6.88158247409\n",
      "Mean: 1.14126547761e-05\n",
      "Min: -6.01251585079\n",
      "Max: 5.29212560712\n",
      "Mean: 3.61299486844e-06\n",
      "Min: -6.05095280665\n",
      "Max: 5.69132457817\n",
      "Mean: -9.03085030374e-05\n",
      "Min: -6.27105815602\n",
      "Max: 6.47300921407\n",
      "Mean: 3.35839223945e-05\n",
      "Min: -5.96554567383\n",
      "Max: 5.09050886094\n",
      "Mean: -7.12259574968e-06\n",
      "Min: -5.17524930411\n",
      "Max: 5.43936473831\n",
      "Mean: 3.81787366311e-06\n",
      "Min: -5.19179672488\n",
      "Max: 5.64219671594\n",
      "Mean: 9.91740016647e-06\n",
      "Min: -5.09421717396\n",
      "Max: 5.69759902234\n",
      "Mean: 3.30122142434e-05\n",
      "Min: -6.97483008548\n",
      "Max: 5.32220755561\n",
      "Mean: 3.28128152742e-05\n",
      "Min: -5.11969588647\n",
      "Max: 4.90986177804\n",
      "Mean: -1.79559674705e-05\n",
      "Min: -5.21368288191\n",
      "Max: 4.99017218308\n",
      "Mean: 2.50478962744e-05\n",
      "Min: -4.87501302117\n",
      "Max: 4.98679635976\n",
      "Mean: 1.20952112978e-05\n",
      "Min: -5.03258183444\n",
      "Max: 4.76364102907\n",
      "Mean: -1.83540229793e-05\n",
      "Min: -4.87501988858\n",
      "Max: 5.22206093709\n",
      "Mean: -3.93538182745e-07\n",
      "Min: -4.79288719351\n",
      "Max: 4.68056424463\n",
      "Mean: -8.45381421156e-06\n",
      "Min: -4.92785372622\n",
      "Max: 5.39336753257\n",
      "Mean: 3.32567642152e-05\n",
      "Min: -5.13890116897\n",
      "Max: 5.34923728543\n",
      "Mean: 6.64697893402e-06\n",
      "Min: -4.75179424952\n",
      "Max: 5.47807935235\n",
      "Mean: 2.92352069233e-06\n",
      "Min: -4.86909930764\n",
      "Max: 5.48524751488\n",
      "Mean: 2.35145344004e-05\n",
      "Min: -4.6213372148\n"
     ]
    }
   ],
   "source": [
    "en2001a_mfcc_arr_sw = np.swapaxes(en2001a_mfcc_arr,0,1)\n",
    "\n",
    "for single_arr in en2001a_mfcc_arr_sw:\n",
    "    print (\"Max:\", single_arr.max())\n",
    "    print (\"Mean:\", single_arr.mean())\n",
    "    print (\"Min:\", single_arr.min())"
   ]
  },
  {
   "cell_type": "code",
   "execution_count": 16,
   "metadata": {},
   "outputs": [
    {
     "data": {
      "text/plain": [
       "8.6275243452728443"
      ]
     },
     "execution_count": 16,
     "metadata": {},
     "output_type": "execute_result"
    }
   ],
   "source": [
    "en2001a_mfcc_arr.max()"
   ]
  },
  {
   "cell_type": "markdown",
   "metadata": {},
   "source": [
    "In the paper, they use 13 coefficients for mfcc and mfcc´s derivatives. However, in code, they use 19 coefficients for these features."
   ]
  },
  {
   "cell_type": "markdown",
   "metadata": {
    "colab_type": "text",
    "id": "bJ8O4jBy0zow"
   },
   "source": [
    "## *Speech activity detection*"
   ]
  },
  {
   "cell_type": "code",
   "execution_count": null,
   "metadata": {
    "colab": {
     "autoexec": {
      "startup": false,
      "wait_interval": 0
     }
    },
    "colab_type": "code",
    "id": "9rp02Sia09p2"
   },
   "outputs": [],
   "source": [
    "cat tutorials/speech-activity-detection/config.yml"
   ]
  },
  {
   "cell_type": "markdown",
   "metadata": {
    "colab_type": "text",
    "id": "pWVKFrHEKk9z"
   },
   "source": [
    "If you want to use tensorboard, you can check [this](https://stackoverflow.com/questions/47818822/can-i-use-tensorboard-with-google-colab)"
   ]
  },
  {
   "cell_type": "code",
   "execution_count": null,
   "metadata": {
    "colab": {
     "autoexec": {
      "startup": false,
      "wait_interval": 0
     }
    },
    "colab_type": "code",
    "id": "xw5OUJrU09vy"
   },
   "outputs": [],
   "source": [
    "# Training.\n",
    "\n",
    "!pyannote-speech-detection train --to=5 tutorials/speech-activity-detection AMI.SpeakerDiarization.MixHeadset"
   ]
  },
  {
   "cell_type": "code",
   "execution_count": null,
   "metadata": {
    "colab": {
     "autoexec": {
      "startup": false,
      "wait_interval": 0
     }
    },
    "colab_type": "code",
    "id": "zR_6KqPF1mDi"
   },
   "outputs": [],
   "source": [
    "# Validation.\n",
    "\n",
    "!pyannote-speech-detection validate tutorials/speech-activity-detection/train/AMI.SpeakerDiarization.MixHeadset.train AMI.SpeakerDiarization.MixHeadset"
   ]
  },
  {
   "cell_type": "markdown",
   "metadata": {
    "colab_type": "text",
    "id": "-m9fqmqP2A5a"
   },
   "source": [
    "## *Speaker Change Detection*"
   ]
  },
  {
   "cell_type": "code",
   "execution_count": null,
   "metadata": {
    "colab": {
     "autoexec": {
      "startup": false,
      "wait_interval": 0
     }
    },
    "colab_type": "code",
    "id": "B9u6ouxvNc2i"
   },
   "outputs": [],
   "source": [
    "cat tutorials/change-detection/config.yml"
   ]
  },
  {
   "cell_type": "code",
   "execution_count": 1,
   "metadata": {
    "colab": {
     "autoexec": {
      "startup": false,
      "wait_interval": 0
     }
    },
    "colab_type": "code",
    "id": "GvqZLMbiaTvx"
   },
   "outputs": [
    {
     "name": "stdout",
     "output_type": "stream",
     "text": [
      "Speech activity detection\n",
      "\n",
      "Usage:\n",
      "  pyannote-speech-detection train [options] <experiment_dir> <database.task.protocol>\n",
      "  pyannote-speech-detection validate [options] [--every=<epoch> --chronological] <train_dir> <database.task.protocol>\n",
      "  pyannote-speech-detection apply [options] [--step=<step>] <model.pt> <database.task.protocol> <output_dir>\n",
      "  pyannote-speech-detection -h | --help\n",
      "  pyannote-speech-detection --version\n",
      "\n",
      "Common options:\n",
      "  <database.task.protocol>   Experimental protocol (e.g. \"AMI.SpeakerDiarization.MixHeadset\")\n",
      "  --database=<db.yml>        Path to database configuration file.\n",
      "                             [default: ~/.pyannote/db.yml]\n",
      "  --subset=<subset>          Set subset (train|developement|test).\n",
      "                             Defaults to \"train\" in \"train\" mode. Defaults to\n",
      "                             \"development\" in \"validate\" mode. Not used in\n",
      "                             \"apply\" mode.\n",
      "  --gpu                      Run on GPUs. Defaults to using CPUs.\n",
      "  --batch=<size>             Set batch size. Has no effect in \"train\" mode.\n",
      "                             [default: 32]\n",
      "  --from=<epoch>             Start {train|validat}ing at epoch <epoch>. Has no\n",
      "                             effect in \"apply\" mode. [default: 0]\n",
      "  --to=<epochs>              End {train|validat}ing at epoch <epoch>.\n",
      "                             Defaults to keep going forever.\n",
      "\n",
      "\"train\" mode:\n",
      "  <experiment_dir>           Set experiment root directory. This script expects\n",
      "                             a configuration file called \"config.yml\" to live\n",
      "                             in this directory. See \"Configuration file\"\n",
      "                             section below for more details.\n",
      "\n",
      "\"validation\" mode:\n",
      "  --every=<epoch>            Validate model every <epoch> epochs [default: 1].\n",
      "  --chronological            Force validation in chronological order.\n",
      "  <train_dir>                Path to the directory containing pre-trained\n",
      "                             models (i.e. the output of \"train\" mode).\n",
      "\n",
      "\"apply\" mode:\n",
      "  <model.pt>                 Path to the pretrained model.\n",
      "  --step=<step>              Sliding window step, in seconds.\n",
      "                             Defaults to 25% of window duration.\n",
      "\n",
      "Database configuration file <db.yml>:\n",
      "    The database configuration provides details as to where actual files are\n",
      "    stored. See `pyannote.database.util.FileFinder` docstring for more\n",
      "    information on the expected format.\n",
      "\n",
      "Configuration file:\n",
      "    The configuration of each experiment is described in a file called\n",
      "    <experiment_dir>/config.yml, that describes the feature extraction process,\n",
      "    the neural network architecture, and the task addressed.\n",
      "\n",
      "    ................... <experiment_dir>/config.yml ...................\n",
      "    # train the network for speech activity detection\n",
      "    # see pyannote.audio.labeling.tasks for more details\n",
      "    task:\n",
      "       name: SpeechActivityDetection\n",
      "       params:\n",
      "          duration: 3.2     # sub-sequence duration\n",
      "          per_epoch: 36000  # 10 hours of audio per epoch\n",
      "          batch_size: 32    # number of sub-sequences per batch\n",
      "          parallel: 4       # number of background generators\n",
      "\n",
      "    # use precomputed features (see feature extraction tutorial)\n",
      "    feature_extraction:\n",
      "       name: Precomputed\n",
      "       params:\n",
      "          root_dir: tutorials/feature-extraction\n",
      "\n",
      "    # use the StackedRNN architecture.\n",
      "    # see pyannote.audio.labeling.models for more details\n",
      "    architecture:\n",
      "       name: StackedRNN\n",
      "       params:\n",
      "         rnn: LSTM\n",
      "         recurrent: [16, 16]\n",
      "         bidirectional: True\n",
      "\n",
      "    # use cyclic learning rate scheduler\n",
      "    scheduler:\n",
      "       name: CyclicScheduler\n",
      "       params:\n",
      "           learning_rate: auto\n",
      "    ...................................................................\n",
      "\n",
      "\"train\" mode:\n",
      "    This will create the following directory that contains the pre-trained\n",
      "    neural network weights after each epoch:\n",
      "\n",
      "        <experiment_dir>/train/<database.task.protocol>.<subset>\n",
      "\n",
      "    This means that the network was trained on the <subset> subset of the\n",
      "    <database.task.protocol> protocol. By default, <subset> is \"train\".\n",
      "    This directory is called <train_dir> in the subsequent \"validate\" mode.\n",
      "\n",
      "    A bunch of values (loss, learning rate, ...) are sent to and can be\n",
      "    visualized with tensorboard with the following command:\n",
      "\n",
      "        $ tensorboard --logdir=<experiment_dir>\n",
      "\n",
      "\"validate\" mode:\n",
      "    Use the \"validate\" mode to run validation in parallel to training.\n",
      "    \"validate\" mode will watch the <train_dir> directory, and run validation\n",
      "    experiments every time a new epoch has ended. This will create the\n",
      "    following directory that contains validation results:\n",
      "\n",
      "        <train_dir>/validate/<database.task.protocol>.<subset>\n",
      "\n",
      "    You can run multiple \"validate\" in parallel (e.g. for every subset,\n",
      "    protocol, task, or database).\n",
      "\n",
      "    In practice, for each epoch, \"validate\" mode will look for the detection\n",
      "    threshold that minimizes the detection error rate. Both values (best\n",
      "    threshold and corresponding error rate) are sent to tensorboard.\n",
      "\n",
      "\"apply\" mode:\n",
      "    Use the \"apply\" mode to extract speech activity detection raw scores.\n",
      "    Resulting files can then be used in the following way:\n",
      "\n",
      "    >>> from pyannote.audio.features import Precomputed\n",
      "    >>> precomputed = Precomputed('<output_dir>')\n",
      "\n",
      "    >>> from pyannote.database import get_protocol\n",
      "    >>> protocol = get_protocol('<database.task.protocol>')\n",
      "    >>> first_test_file = next(protocol.test())\n",
      "\n",
      "    >>> from pyannote.audio.signal import Binarize\n",
      "    >>> binarizer = Binarize()\n",
      "\n",
      "    >>> raw_scores = precomputed(first_test_file)\n",
      "    >>> speech_regions = binarizer.apply(raw_scores, dimension=1)\n"
     ]
    }
   ],
   "source": [
    "!pyannote-speech-detection -h "
   ]
  },
  {
   "cell_type": "code",
   "execution_count": null,
   "metadata": {
    "colab": {
     "autoexec": {
      "startup": false,
      "wait_interval": 0
     }
    },
    "colab_type": "code",
    "id": "deLQKULvNocb"
   },
   "outputs": [],
   "source": [
    "# Training.\n",
    "\n",
    "!pyannote-change-detection train --to=10  tutorials/change-detection AMI.SpeakerDiarization.MixHeadset "
   ]
  },
  {
   "cell_type": "code",
   "execution_count": null,
   "metadata": {
    "colab": {
     "autoexec": {
      "startup": false,
      "wait_interval": 0
     }
    },
    "colab_type": "code",
    "id": "Vyd5zt0Fm-Hb"
   },
   "outputs": [],
   "source": [
    "# Validation\n",
    "!pyannote-change-detection validate --purity=0.8 --to=5 tutorials/change-detection/train/AMI.SpeakerDiarization.MixHeadset.train AMI.SpeakerDiarization.MixHeadset"
   ]
  },
  {
   "cell_type": "code",
   "execution_count": null,
   "metadata": {},
   "outputs": [],
   "source": [
    "cd .."
   ]
  },
  {
   "cell_type": "code",
   "execution_count": null,
   "metadata": {},
   "outputs": [],
   "source": [
    "!ls"
   ]
  },
  {
   "cell_type": "code",
   "execution_count": null,
   "metadata": {
    "colab": {
     "autoexec": {
      "startup": false,
      "wait_interval": 0
     }
    },
    "colab_type": "code",
    "id": "TToLCBQ6CSha"
   },
   "outputs": [],
   "source": [
    "mkdir raw_scores"
   ]
  },
  {
   "cell_type": "code",
   "execution_count": null,
   "metadata": {},
   "outputs": [],
   "source": [
    "cd pyannote-audio/"
   ]
  },
  {
   "cell_type": "code",
   "execution_count": null,
   "metadata": {
    "colab": {
     "autoexec": {
      "startup": false,
      "wait_interval": 0
     }
    },
    "colab_type": "code",
    "id": "kI4Ryep6qhmT"
   },
   "outputs": [],
   "source": [
    "!pyannote-change-detection apply tutorials/change-detection/train/AMI.SpeakerDiarization.MixHeadset.train/weights/0005.pt   AMI.SpeakerDiarization.MixHeadset raw_scores"
   ]
  },
  {
   "cell_type": "code",
   "execution_count": 34,
   "metadata": {},
   "outputs": [],
   "source": [
    "#AMI Protocol\n",
    "from pyannote.database import get_protocol\n",
    "protocol = get_protocol('AMI.SpeakerDiarization.MixHeadset')"
   ]
  },
  {
   "cell_type": "code",
   "execution_count": 37,
   "metadata": {},
   "outputs": [],
   "source": [
    "# Precomputed Scores\n",
    "from pyannote.audio.features import Precomputed\n",
    "precomputed = Precomputed('raw_scores')"
   ]
  },
  {
   "cell_type": "code",
   "execution_count": 38,
   "metadata": {},
   "outputs": [
    {
     "data": {
      "text/plain": [
       "<pyannote.audio.features.utils.Precomputed at 0x7f25154983c8>"
      ]
     },
     "execution_count": 38,
     "metadata": {},
     "output_type": "execute_result"
    }
   ],
   "source": [
    "precomputed"
   ]
  },
  {
   "cell_type": "code",
   "execution_count": 39,
   "metadata": {},
   "outputs": [
    {
     "data": {
      "text/plain": [
       "<bound method Precomputed.shape of <pyannote.audio.features.utils.Precomputed object at 0x7f25154983c8>>"
      ]
     },
     "execution_count": 39,
     "metadata": {},
     "output_type": "execute_result"
    }
   ],
   "source": [
    "precomputed.shape"
   ]
  },
  {
   "cell_type": "code",
   "execution_count": 40,
   "metadata": {},
   "outputs": [],
   "source": [
    "# Peak Detection\n",
    "from pyannote.audio.signal import Peak\n",
    "peak = Peak(alpha=0.5, min_duration=1.0, log_scale=True)"
   ]
  },
  {
   "cell_type": "code",
   "execution_count": 41,
   "metadata": {},
   "outputs": [],
   "source": [
    "en2001a_out = np.load(\"./raw_scores/AMI/EN2001a.Mix-Headset.npy\")"
   ]
  },
  {
   "cell_type": "code",
   "execution_count": 42,
   "metadata": {},
   "outputs": [
    {
     "data": {
      "text/plain": [
       "(525025, 2)"
      ]
     },
     "execution_count": 42,
     "metadata": {},
     "output_type": "execute_result"
    }
   ],
   "source": [
    "en2001a_out.shape\n",
    "# Why it is 2 dimensional?"
   ]
  },
  {
   "cell_type": "code",
   "execution_count": 43,
   "metadata": {},
   "outputs": [
    {
     "name": "stdout",
     "output_type": "stream",
     "text": [
      "[[-0.1005969  -2.34651065]\n",
      " [-0.10032313 -2.34910131]\n",
      " [-0.10025888 -2.34971023]\n",
      " ..., \n",
      " [ 0.          0.        ]\n",
      " [ 0.          0.        ]\n",
      " [ 0.          0.        ]]\n",
      "0.0\n",
      "-1.22235\n"
     ]
    }
   ],
   "source": [
    "print (en2001a_out)\n",
    "print (en2001a_out.max())\n",
    "print (en2001a_out.mean())"
   ]
  },
  {
   "cell_type": "code",
   "execution_count": 45,
   "metadata": {},
   "outputs": [
    {
     "data": {
      "image/png": "[encoded data removed]",
      "text/plain": [
       "<Figure size 432x288 with 1 Axes>"
      ]
     },
     "metadata": {},
     "output_type": "display_data"
    }
   ],
   "source": [
    "import matplotlib.pyplot as pp\n",
    "\n",
    "pp.plot(en2001a_out)\n",
    "# pp.axhline(y=0.21, color='r', linestyle='-')\n",
    "pp.show()"
   ]
  },
  {
   "cell_type": "code",
   "execution_count": 17,
   "metadata": {},
   "outputs": [
    {
     "name": "stdout",
     "output_type": "stream",
     "text": [
      "[-2.34651065 -2.34910131 -2.34971023 ...,  0.          0.          0.        ]\n",
      "0.0\n",
      "-2.34386\n"
     ]
    }
   ],
   "source": [
    "print(en2001a_out[:,1])\n",
    "print(en2001a_out[:,1].max())\n",
    "print(en2001a_out[:,1].mean())"
   ]
  },
  {
   "cell_type": "code",
   "execution_count": 22,
   "metadata": {},
   "outputs": [],
   "source": [
    "output = .5 * (en2001a_out[:, 0] + en2001a_out[:, 1])"
   ]
  },
  {
   "cell_type": "code",
   "execution_count": 23,
   "metadata": {},
   "outputs": [
    {
     "name": "stdout",
     "output_type": "stream",
     "text": [
      "[-1.22355378 -1.22471225 -1.22498453 ...,  0.          0.          0.        ]\n",
      "0.0\n",
      "-1.22235\n"
     ]
    }
   ],
   "source": [
    "print (output)\n",
    "print (output.max())\n",
    "print (output.mean())"
   ]
  },
  {
   "cell_type": "code",
   "execution_count": 46,
   "metadata": {},
   "outputs": [],
   "source": [
    "en2001a_out_exp = np.exp(en2001a_out)"
   ]
  },
  {
   "cell_type": "code",
   "execution_count": 47,
   "metadata": {},
   "outputs": [
    {
     "name": "stdout",
     "output_type": "stream",
     "text": [
      "[[ 0.90429747  0.09570252]\n",
      " [ 0.90454507  0.09545491]\n",
      " [ 0.90460318  0.0953968 ]\n",
      " ..., \n",
      " [ 1.          1.        ]\n",
      " [ 1.          1.        ]\n",
      " [ 1.          1.        ]]\n",
      "1.0\n",
      "0.500062\n"
     ]
    }
   ],
   "source": [
    "print ()\n",
    "print (en2001a_out_exp.max())\n",
    "print (en2001a_out_exp.mean())"
   ]
  },
  {
   "cell_type": "code",
   "execution_count": 49,
   "metadata": {},
   "outputs": [
    {
     "data": {
      "image/png": "[encoded data removed]",
      "text/plain": [
       "<Figure size 432x288 with 1 Axes>"
      ]
     },
     "metadata": {},
     "output_type": "display_data"
    }
   ],
   "source": [
    "import matplotlib.pyplot as pp\n",
    "\n",
    "pp.plot(en2001a_out_exp)\n",
    "pp.axhline(y=0.5, color='r', linestyle='-')\n",
    "pp.show()"
   ]
  },
  {
   "cell_type": "code",
   "execution_count": 20,
   "metadata": {},
   "outputs": [
    {
     "name": "stdout",
     "output_type": "stream",
     "text": [
      "[ 0.09570252  0.09545491  0.0953968  ...,  1.          1.          1.        ]\n",
      "1.0\n",
      "0.0960464\n"
     ]
    }
   ],
   "source": [
    "print(en2001a_out_exp[:,1])\n",
    "print(en2001a_out_exp[:,1].max())\n",
    "print(en2001a_out_exp[:,1].mean())"
   ]
  },
  {
   "cell_type": "code",
   "execution_count": 24,
   "metadata": {},
   "outputs": [],
   "source": [
    "# Evaluation Metric\n",
    "from pyannote.metrics.diarization import DiarizationPurityCoverageFMeasure\n",
    "metric = DiarizationPurityCoverageFMeasure()"
   ]
  },
  {
   "cell_type": "code",
   "execution_count": 25,
   "metadata": {},
   "outputs": [
    {
     "name": "stdout",
     "output_type": "stream",
     "text": [
      "Purity = 39.2% / Coverage = 100.0%\n",
      "Purity = 35.7% / Coverage = 100.0%\n",
      "Purity = 36.6% / Coverage = 100.0%\n",
      "Purity = 35.6% / Coverage = 100.0%\n",
      "Purity = 35.5% / Coverage = 100.0%\n",
      "Purity = 34.7% / Coverage = 100.0%\n",
      "Purity = 36.5% / Coverage = 100.0%\n",
      "Purity = 37.1% / Coverage = 100.0%\n",
      "Purity = 36.9% / Coverage = 100.0%\n",
      "Purity = 37.8% / Coverage = 100.0%\n",
      "Purity = 38.5% / Coverage = 100.0%\n",
      "Purity = 37.7% / Coverage = 100.0%\n",
      "Purity = 37.5% / Coverage = 100.0%\n",
      "Purity = 37.7% / Coverage = 100.0%\n",
      "Purity = 39.2% / Coverage = 100.0%\n",
      "Purity = 39.3% / Coverage = 100.0%\n",
      "Purity = 39.2% / Coverage = 100.0%\n",
      "Purity = 39.9% / Coverage = 100.0%\n",
      "Purity = 40.4% / Coverage = 100.0%\n",
      "Purity = 39.7% / Coverage = 100.0%\n",
      "Purity = 38.9% / Coverage = 100.0%\n",
      "Purity = 38.6% / Coverage = 100.0%\n",
      "Purity = 38.6% / Coverage = 100.0%\n"
     ]
    }
   ],
   "source": [
    "# Loop on Test Files\n",
    "from pyannote.database import get_annotated\n",
    "for test_file in protocol.test():\n",
    "    # print (test_file)\n",
    "    # load reference annotation\n",
    "    reference = test_file['annotation']\n",
    "    uem = get_annotated(test_file)\n",
    "\n",
    "    # load precomputed change scores as pyannote.core.SlidingWindowFeature\n",
    "    scd_scores = precomputed(test_file)\n",
    "\n",
    "    # binarize scores to obtain speech regions as pyannote.core.Timeline\n",
    "    hypothesis = peak.apply(scd_scores, dimension=1)\n",
    "\n",
    "    # evaluate speech activity detection\n",
    "    metric(reference, hypothesis.to_annotation(), uem=uem)\n",
    "    purity, coverage, fmeasure = metric.compute_metrics()\n",
    "    print(f'Purity = {100*purity:.1f}% / Coverage = {100*coverage:.1f}%')\n",
    "\n",
    "purity, coverage, fmeasure = metric.compute_metrics()\n",
    "print(f'Purity = {100*purity:.1f}% / Coverage = {100*coverage:.1f}%')"
   ]
  },
  {
   "cell_type": "code",
   "execution_count": 28,
   "metadata": {},
   "outputs": [
    {
     "name": "stdout",
     "output_type": "stream",
     "text": [
      "[ 00:01:39.500 -->  00:01:54.062] 0 MTD025PM\n",
      "[ 00:01:42.940 -->  00:01:44.295] 1 MTD026UID\n",
      "[ 00:01:43.189 -->  00:01:45.239] 2 MTD028ME\n",
      "[ 00:01:54.300 -->  00:01:54.796] 3 MTD027ID\n",
      "[ 00:01:54.668 -->  00:01:57.685] 4 MTD026UID\n",
      "[ 00:01:55.212 -->  00:01:57.659] 5 MTD025PM\n",
      "[ 00:01:55.840 -->  00:01:56.170] 6 MTD027ID\n",
      "[ 00:01:56.300 -->  00:01:57.784] 7 MTD028ME\n",
      "[ 00:01:58.930 -->  00:02:16.508] 8 MTD025PM\n",
      "[ 00:02:01.200 -->  00:02:01.959] 9 MTD026UID\n",
      "[ 00:02:01.810 -->  00:02:03.079] 10 MTD028ME\n",
      "[ 00:02:01.850 -->  00:02:03.420] 11 MTD027ID\n",
      "[ 00:02:03.575 -->  00:02:04.310] 12 MTD026UID\n",
      "[ 00:02:09.592 -->  00:02:10.488] 13 MTD027ID\n",
      "[ 00:02:17.220 -->  00:02:17.480] 14 MTD028ME\n",
      "[ 00:02:17.820 -->  00:03:04.601] 15 MTD025PM\n",
      "[ 00:02:23.440 -->  00:02:23.989] 16 MTD028ME\n",
      "[ 00:02:27.240 -->  00:02:27.789] 17 MTD028ME\n",
      "[ 00:02:28.332 -->  00:02:30.049] 18 MTD027ID\n",
      "[ 00:02:29.333 -->  00:02:31.338] 19 MTD028ME\n",
      "[ 00:02:30.340 -->  00:02:32.580] 20 MTD026UID\n",
      "[ 00:02:32.892 -->  00:02:35.483] 21 MTD028ME\n",
      "[ 00:02:33.950 -->  00:02:35.477] 22 MTD027ID\n",
      "[ 00:02:41.400 -->  00:02:42.720] 23 MTD027ID\n",
      "[ 00:02:59.210 -->  00:03:00.360] 24 MTD027ID\n",
      "[ 00:03:03.540 -->  00:03:05.963] 25 MTD027ID\n",
      "[ 00:03:06.670 -->  00:03:07.290] 26 MTD026UID\n",
      "[ 00:03:07.130 -->  00:03:07.750] 27 MTD028ME\n",
      "[ 00:03:07.570 -->  00:03:07.910] 28 MTD027ID\n",
      "[ 00:03:07.840 -->  00:03:08.449] 29 MTD025PM\n",
      "[ 00:03:09.596 -->  00:03:12.129] 30 MTD027ID\n",
      "[ 00:03:09.960 -->  00:03:10.629] 31 MTD028ME\n",
      "[ 00:03:10.964 -->  00:03:11.416] 32 MTD025PM\n",
      "[ 00:03:13.920 -->  00:03:15.339] 33 MTD028ME\n",
      "[ 00:03:15.090 -->  00:03:15.289] 34 MTD026UID\n",
      "[ 00:03:15.550 -->  00:03:16.199] 35 MTD027ID\n",
      "[ 00:03:17.644 -->  00:03:19.851] 36 MTD025PM\n",
      "[ 00:03:19.047 -->  00:03:19.481] 37 MTD028ME\n",
      "[ 00:03:23.200 -->  00:03:51.106] 38 MTD027ID\n",
      "[ 00:03:40.478 -->  00:03:40.925] 39 MTD026UID\n",
      "[ 00:03:50.724 -->  00:03:52.415] 40 MTD028ME\n",
      "[ 00:03:51.900 -->  00:03:52.614] 41 MTD025PM\n",
      "[ 00:03:52.150 -->  00:03:55.269] 42 MTD027ID\n",
      "[ 00:03:55.708 -->  00:03:56.043] 43 MTD025PM\n",
      "[ 00:03:57.210 -->  00:04:14.116] 44 MTD027ID\n",
      "[ 00:04:10.111 -->  00:04:10.335] 45 MTD025PM\n",
      "[ 00:04:11.695 -->  00:04:11.955] 46 MTD025PM\n",
      "[ 00:04:13.838 -->  00:04:14.136] 47 MTD025PM\n",
      "[ 00:04:15.500 -->  00:04:17.810] 48 MTD027ID\n",
      "[ 00:04:17.750 -->  00:05:40.250] 49 MTD026UID\n",
      "[ 00:04:50.307 -->  00:04:50.940] 50 MTD028ME\n",
      "[ 00:04:50.844 -->  00:04:51.440] 51 MTD025PM\n",
      "[ 00:04:59.859 -->  00:05:02.028] 52 MTD025PM\n",
      "[ 00:05:09.920 -->  00:05:10.109] 53 MTD028ME\n",
      "[ 00:05:20.800 -->  00:05:20.970] 54 MTD025PM\n",
      "[ 00:05:39.860 -->  00:05:43.000] 55 MTD027ID\n",
      "[ 00:05:42.970 -->  00:05:43.359] 56 MTD026UID\n",
      "[ 00:05:44.350 -->  00:05:48.350] 57 MTD027ID\n",
      "[ 00:05:48.850 -->  00:05:49.120] 58 MTD028ME\n",
      "[ 00:05:49.060 -->  00:05:49.640] 59 MTD025PM\n",
      "[ 00:05:50.260 -->  00:06:04.737] 60 MTD026UID\n",
      "[ 00:05:58.780 -->  00:05:59.120] 61 MTD028ME\n",
      "[ 00:06:00.970 -->  00:06:01.389] 62 MTD027ID\n",
      "[ 00:06:04.370 -->  00:06:28.276] 63 MTD027ID\n",
      "[ 00:06:17.320 -->  00:06:17.650] 64 MTD028ME\n",
      "[ 00:06:24.220 -->  00:06:24.409] 65 MTD028ME\n",
      "[ 00:06:26.463 -->  00:06:26.798] 66 MTD026UID\n",
      "[ 00:06:28.920 -->  00:06:31.724] 67 MTD026UID\n",
      "[ 00:06:31.810 -->  00:06:32.049] 68 MTD027ID\n",
      "[ 00:06:33.110 -->  00:06:46.110] 69 MTD026UID\n",
      "[ 00:06:45.340 -->  00:06:47.629] 70 MTD028ME\n",
      "[ 00:06:47.300 -->  00:06:53.210] 71 MTD026UID\n",
      "[ 00:06:47.630 -->  00:06:48.099] 72 MTD027ID\n",
      "[ 00:06:51.168 -->  00:06:52.026] 73 MTD028ME\n",
      "[ 00:06:53.180 -->  00:06:55.539] 74 MTD025PM\n",
      "[ 00:06:54.514 -->  00:07:11.217] 75 MTD026UID\n",
      "[ 00:06:55.430 -->  00:06:55.970] 76 MTD028ME\n",
      "[ 00:06:56.820 -->  00:06:57.309] 77 MTD025PM\n",
      "[ 00:06:59.116 -->  00:06:59.832] 78 MTD027ID\n",
      "[ 00:07:00.748 -->  00:07:04.638] 79 MTD028ME\n",
      "[ 00:07:01.046 -->  00:07:01.791] 80 MTD025PM\n",
      "[ 00:07:01.330 -->  00:07:01.884] 81 MTD027ID\n",
      "[ 00:07:03.579 -->  00:07:05.492] 82 MTD025PM\n",
      "[ 00:07:03.967 -->  00:07:04.376] 83 MTD027ID\n",
      "[ 00:07:11.510 -->  00:07:11.889] 84 MTD028ME\n",
      "[ 00:07:11.560 -->  00:07:12.810] 85 MTD025PM\n",
      "[ 00:07:12.373 -->  00:07:23.568] 86 MTD026UID\n",
      "[ 00:07:22.590 -->  00:07:49.606] 87 MTD027ID\n",
      "[ 00:07:31.620 -->  00:07:32.749] 88 MTD026UID\n",
      "[ 00:07:43.470 -->  00:07:43.709] 89 MTD028ME\n",
      "[ 00:07:48.040 -->  00:07:54.879] 90 MTD028ME\n",
      "[ 00:07:52.270 -->  00:07:52.699] 91 MTD027ID\n",
      "[ 00:07:54.130 -->  00:08:07.161] 92 MTD027ID\n",
      "[ 00:07:57.240 -->  00:07:58.480] 93 MTD028ME\n",
      "[ 00:08:01.890 -->  00:08:02.939] 94 MTD028ME\n",
      "[ 00:08:06.690 -->  00:09:03.315] 95 MTD025PM\n",
      "[ 00:08:07.640 -->  00:08:07.990] 96 MTD028ME\n",
      "[ 00:08:37.600 -->  00:08:38.089] 97 MTD027ID\n",
      "[ 00:08:42.030 -->  00:08:43.490] 98 MTD027ID\n",
      "[ 00:08:43.871 -->  00:08:45.179] 99 MTD026UID\n",
      "[ 00:08:49.480 -->  00:08:49.800] 100 MTD027ID\n",
      "[ 00:08:53.360 -->  00:08:53.670] 101 MTD026UID\n",
      "[ 00:08:57.770 -->  00:08:58.060] 102 MTD027ID\n",
      "[ 00:08:59.580 -->  00:09:00.009] 103 MTD027ID\n",
      "[ 00:09:00.030 -->  00:09:00.239] 104 MTD028ME\n",
      "[ 00:09:02.410 -->  00:09:08.550] 105 MTD026UID\n",
      "[ 00:09:08.900 -->  00:09:09.589] 106 MTD027ID\n",
      "[ 00:09:08.980 -->  00:09:19.332] 107 MTD028ME\n",
      "[ 00:09:16.640 -->  00:09:16.950] 108 MTD025PM\n",
      "[ 00:09:19.130 -->  00:09:19.420] 109 MTD025PM\n",
      "[ 00:09:19.830 -->  00:09:36.892] 110 MTD027ID\n",
      "[ 00:09:22.508 -->  00:09:22.796] 111 MTD025PM\n",
      "[ 00:09:25.450 -->  00:09:25.780] 112 MTD025PM\n",
      "[ 00:09:25.530 -->  00:09:25.840] 113 MTD028ME\n",
      "[ 00:09:25.580 -->  00:09:26.370] 114 MTD026UID\n",
      "[ 00:09:30.290 -->  00:09:32.329] 115 MTD028ME\n",
      "[ 00:09:35.850 -->  00:09:36.820] 116 MTD028ME\n",
      "[ 00:09:36.460 -->  00:09:49.601] 117 MTD025PM\n",
      "[ 00:09:37.650 -->  00:09:39.089] 118 MTD028ME\n",
      "[ 00:09:45.560 -->  00:09:46.569] 119 MTD027ID\n",
      "[ 00:09:47.330 -->  00:09:51.501] 120 MTD026UID\n",
      "[ 00:09:47.870 -->  00:09:48.040] 121 MTD027ID\n",
      "[ 00:09:50.820 -->  00:09:52.839] 122 MTD027ID\n",
      "[ 00:09:52.124 -->  00:09:52.805] 123 MTD028ME\n",
      "[ 00:09:52.220 -->  00:09:52.720] 124 MTD026UID\n",
      "[ 00:09:52.840 -->  00:09:58.230] 125 MTD025PM\n",
      "[ 00:09:54.580 -->  00:10:00.091] 126 MTD028ME\n",
      "[ 00:09:54.690 -->  00:09:56.208] 127 MTD026UID\n",
      "[ 00:09:59.090 -->  00:09:59.329] 128 MTD025PM\n",
      "[ 00:10:00.160 -->  00:10:00.740] 129 MTD027ID\n",
      "[ 00:10:00.190 -->  00:10:00.500] 130 MTD025PM\n",
      "[ 00:10:00.420 -->  00:10:04.998] 131 MTD026UID\n",
      "[ 00:10:02.990 -->  00:10:03.350] 132 MTD025PM\n",
      "[ 00:10:03.570 -->  00:10:03.940] 133 MTD027ID\n",
      "[ 00:10:05.090 -->  00:10:05.350] 134 MTD025PM\n",
      "[ 00:10:06.400 -->  00:10:07.449] 135 MTD028ME\n",
      "[ 00:10:07.840 -->  00:10:08.610] 136 MTD027ID\n",
      "[ 00:10:08.812 -->  00:10:09.666] 137 MTD026UID\n",
      "[ 00:10:10.898 -->  00:10:12.053] 138 MTD028ME\n",
      "[ 00:10:12.350 -->  00:10:13.449] 139 MTD025PM\n",
      "[ 00:10:13.655 -->  00:10:14.363] 140 MTD028ME\n",
      "[ 00:10:13.920 -->  00:10:14.359] 141 MTD026UID\n",
      "[ 00:10:18.268 -->  00:10:18.492] 142 MTD025PM\n",
      "[ 00:10:21.070 -->  00:10:23.081] 143 MTD026UID\n",
      "[ 00:10:21.710 -->  00:10:22.060] 144 MTD028ME\n",
      "[ 00:10:23.740 -->  00:10:25.788] 145 MTD027ID\n",
      "[ 00:10:24.386 -->  00:10:26.622] 146 MTD026UID\n",
      "[ 00:10:24.680 -->  00:10:25.739] 147 MTD028ME\n",
      "[ 00:10:27.360 -->  00:10:28.693] 148 MTD028ME\n",
      "[ 00:10:27.724 -->  00:10:32.325] 149 MTD026UID\n",
      "[ 00:10:27.825 -->  00:10:28.732] 150 MTD027ID\n",
      "[ 00:10:29.670 -->  00:10:34.150] 151 MTD028ME\n",
      "[ 00:10:30.695 -->  00:10:32.929] 152 MTD025PM\n",
      "[ 00:10:30.804 -->  00:10:31.836] 153 MTD027ID\n",
      "[ 00:10:36.100 -->  00:10:46.358] 154 MTD028ME\n",
      "[ 00:10:47.780 -->  00:11:00.608] 155 MTD028ME\n",
      "[ 00:11:02.720 -->  00:11:04.540] 156 MTD028ME\n",
      "[ 00:11:12.600 -->  00:11:12.850] 157 MTD028ME\n",
      "[ 00:11:16.270 -->  00:11:21.699] 158 MTD028ME\n",
      "[ 00:11:23.090 -->  00:11:23.630] 159 MTD028ME\n",
      "[ 00:11:27.310 -->  00:11:34.970] 160 MTD028ME\n",
      "[ 00:11:33.870 -->  00:11:37.440] 161 MTD025PM\n",
      "[ 00:11:36.540 -->  00:11:39.829] 162 MTD028ME\n",
      "[ 00:11:38.310 -->  00:11:40.970] 163 MTD025PM\n",
      "[ 00:11:40.880 -->  00:11:45.258] 164 MTD028ME\n",
      "[ 00:11:46.940 -->  00:11:48.150] 165 MTD025PM\n",
      "[ 00:11:47.788 -->  00:11:48.161] 166 MTD028ME\n",
      "[ 00:11:49.320 -->  00:11:50.320] 167 MTD028ME\n",
      "[ 00:11:49.324 -->  00:11:49.717] 168 MTD027ID\n",
      "[ 00:11:49.960 -->  00:11:51.950] 169 MTD025PM\n",
      "[ 00:11:51.650 -->  00:11:52.747] 170 MTD028ME\n",
      "[ 00:11:54.210 -->  00:11:55.339] 171 MTD025PM\n",
      "[ 00:11:55.880 -->  00:11:56.440] 172 MTD028ME\n",
      "[ 00:11:56.130 -->  00:12:02.891] 173 MTD026UID\n",
      "[ 00:11:57.820 -->  00:11:58.349] 174 MTD027ID\n",
      "[ 00:12:02.270 -->  00:12:07.848] 175 MTD028ME\n",
      "[ 00:12:02.900 -->  00:12:03.359] 176 MTD025PM\n",
      "[ 00:12:02.930 -->  00:12:03.389] 177 MTD027ID\n",
      "[ 00:12:03.610 -->  00:12:03.874] 178 MTD026UID\n",
      "[ 00:12:05.470 -->  00:12:09.149] 179 MTD027ID\n",
      "[ 00:12:07.340 -->  00:12:19.762] 180 MTD026UID\n",
      "[ 00:12:12.680 -->  00:12:13.269] 181 MTD025PM\n",
      "[ 00:12:18.500 -->  00:12:19.129] 182 MTD028ME\n",
      "[ 00:12:20.020 -->  00:12:20.489] 183 MTD028ME\n",
      "[ 00:12:20.900 -->  00:12:22.069] 184 MTD026UID\n",
      "[ 00:12:21.790 -->  00:12:27.790] 185 MTD027ID\n",
      "[ 00:12:22.490 -->  00:12:22.850] 186 MTD025PM\n",
      "[ 00:12:22.770 -->  00:12:22.959] 187 MTD028ME\n",
      "[ 00:12:24.252 -->  00:12:24.540] 188 MTD025PM\n",
      "[ 00:12:25.930 -->  00:12:26.180] 189 MTD028ME\n",
      "[ 00:12:27.170 -->  00:12:31.119] 190 MTD028ME\n",
      "[ 00:12:31.250 -->  00:12:33.519] 191 MTD027ID\n",
      "[ 00:12:32.001 -->  00:12:32.908] 192 MTD026UID\n",
      "[ 00:12:32.257 -->  00:12:34.475] 193 MTD025PM\n",
      "[ 00:12:33.563 -->  00:12:36.475] 194 MTD028ME\n",
      "[ 00:12:33.694 -->  00:12:34.699] 195 MTD026UID\n",
      "[ 00:12:36.396 -->  00:12:37.789] 196 MTD026UID\n",
      "[ 00:12:36.533 -->  00:12:41.818] 197 MTD027ID\n",
      "[ 00:12:36.712 -->  00:12:39.245] 198 MTD025PM\n",
      "[ 00:12:38.690 -->  00:12:39.398] 199 MTD026UID\n",
      "[ 00:12:39.500 -->  00:12:40.359] 200 MTD028ME\n",
      "[ 00:12:39.827 -->  00:12:40.170] 201 MTD026UID\n",
      "[ 00:12:41.630 -->  00:12:47.520] 202 MTD028ME\n",
      "[ 00:12:46.900 -->  00:12:47.109] 203 MTD027ID\n",
      "[ 00:12:47.855 -->  00:12:48.228] 204 MTD025PM\n",
      "[ 00:12:48.100 -->  00:12:49.479] 205 MTD027ID\n",
      "[ 00:12:48.970 -->  00:12:51.630] 206 MTD028ME\n",
      "[ 00:12:52.060 -->  00:12:52.330] 207 MTD026UID\n",
      "[ 00:12:52.220 -->  00:12:52.470] 208 MTD025PM\n",
      "[ 00:12:52.770 -->  00:12:56.389] 209 MTD027ID\n",
      "[ 00:12:53.460 -->  00:12:53.689] 210 MTD028ME\n",
      "[ 00:12:54.060 -->  00:12:54.289] 211 MTD026UID\n",
      "[ 00:12:54.180 -->  00:12:54.399] 212 MTD025PM\n",
      "[ 00:12:56.350 -->  00:13:01.049] 213 MTD028ME\n",
      "[ 00:13:01.260 -->  00:13:01.610] 214 MTD027ID\n",
      "[ 00:13:03.650 -->  00:13:05.702] 215 MTD027ID\n",
      "[ 00:13:04.776 -->  00:13:07.660] 216 MTD026UID\n",
      "[ 00:13:05.550 -->  00:13:05.959] 217 MTD025PM\n",
      "[ 00:13:07.090 -->  00:13:07.519] 218 MTD028ME\n",
      "[ 00:13:07.120 -->  00:13:09.352] 219 MTD027ID\n",
      "[ 00:13:08.960 -->  00:13:12.170] 220 MTD028ME\n",
      "[ 00:13:12.240 -->  00:13:16.310] 221 MTD027ID\n",
      "[ 00:13:12.810 -->  00:13:15.339] 222 MTD025PM\n",
      "[ 00:13:15.520 -->  00:13:15.939] 223 MTD028ME\n",
      "[ 00:13:15.950 -->  00:13:16.700] 224 MTD026UID\n",
      "[ 00:13:18.860 -->  00:13:20.360] 225 MTD027ID\n",
      "[ 00:13:19.070 -->  00:13:19.989] 226 MTD028ME\n",
      "[ 00:13:20.030 -->  00:13:20.889] 227 MTD025PM\n",
      "[ 00:13:21.060 -->  00:13:21.469] 228 MTD028ME\n",
      "[ 00:13:22.180 -->  00:13:23.130] 229 MTD026UID\n",
      "[ 00:13:23.020 -->  00:13:23.850] 230 MTD028ME\n",
      "[ 00:13:24.508 -->  00:13:25.340] 231 MTD025PM\n",
      "[ 00:13:24.980 -->  00:13:27.899] 232 MTD026UID\n",
      "[ 00:13:25.490 -->  00:13:34.818] 233 MTD027ID\n",
      "[ 00:13:26.680 -->  00:13:27.619] 234 MTD025PM\n",
      "[ 00:13:28.620 -->  00:13:28.809] 235 MTD028ME\n",
      "[ 00:13:30.720 -->  00:13:30.870] 236 MTD028ME\n",
      "[ 00:13:31.890 -->  00:13:32.150] 237 MTD028ME\n",
      "[ 00:13:34.040 -->  00:13:34.264] 238 MTD025PM\n",
      "[ 00:13:34.450 -->  00:13:44.661] 239 MTD026UID\n",
      "[ 00:13:34.818 -->  00:13:35.414] 240 MTD028ME\n",
      "[ 00:13:36.830 -->  00:13:38.843] 241 MTD028ME\n",
      "[ 00:13:39.680 -->  00:13:39.789] 242 MTD028ME\n",
      "[ 00:13:43.080 -->  00:13:44.940] 243 MTD027ID\n",
      "[ 00:13:44.630 -->  00:13:45.820] 244 MTD028ME\n",
      "[ 00:13:45.910 -->  00:13:48.910] 245 MTD026UID\n",
      "[ 00:13:46.940 -->  00:13:48.180] 246 MTD028ME\n",
      "[ 00:13:47.840 -->  00:13:49.240] 247 MTD025PM\n",
      "[ 00:13:50.172 -->  00:13:50.977] 248 MTD028ME\n",
      "[ 00:13:50.520 -->  00:13:52.090] 249 MTD025PM\n",
      "[ 00:13:50.900 -->  00:13:50.959] 250 MTD026UID\n",
      "[ 00:13:53.340 -->  00:13:53.769] 251 MTD026UID\n",
      "[ 00:13:53.809 -->  00:13:56.342] 252 MTD028ME\n",
      "[ 00:13:53.830 -->  00:13:56.499] 253 MTD027ID\n",
      "[ 00:13:55.068 -->  00:13:58.923] 254 MTD025PM\n",
      "[ 00:13:56.044 -->  00:13:56.315] 255 MTD026UID\n",
      "[ 00:13:57.724 -->  00:13:58.214] 256 MTD026UID\n",
      "[ 00:13:58.780 -->  00:14:02.699] 257 MTD027ID\n",
      "[ 00:13:59.212 -->  00:13:59.468] 258 MTD026UID\n",
      "[ 00:13:59.530 -->  00:14:02.910] 259 MTD028ME\n",
      "[ 00:13:59.574 -->  00:13:59.983] 260 MTD025PM\n",
      "[ 00:14:04.820 -->  00:14:06.789] 261 MTD028ME\n",
      "[ 00:14:07.010 -->  00:14:13.201] 262 MTD027ID\n",
      "[ 00:14:09.692 -->  00:14:16.481] 263 MTD025PM\n",
      "[ 00:14:09.994 -->  00:14:15.650] 264 MTD028ME\n",
      "[ 00:14:11.080 -->  00:14:17.357] 265 MTD026UID\n",
      "[ 00:14:16.150 -->  00:14:21.556] 266 MTD027ID\n",
      "[ 00:14:17.739 -->  00:14:18.744] 267 MTD028ME\n",
      "[ 00:14:19.880 -->  00:14:32.278] 268 MTD028ME\n",
      "[ 00:14:31.757 -->  00:14:38.749] 269 MTD027ID\n",
      "[ 00:14:38.710 -->  00:14:40.040] 270 MTD028ME\n",
      "[ 00:14:39.870 -->  00:14:41.270] 271 MTD027ID\n",
      "[ 00:14:40.370 -->  00:14:46.709] 272 MTD025PM\n",
      "[ 00:14:41.580 -->  00:14:41.930] 273 MTD028ME\n",
      "[ 00:14:42.370 -->  00:14:42.524] 274 MTD027ID\n",
      "[ 00:14:42.810 -->  00:14:43.019] 275 MTD028ME\n",
      "[ 00:14:44.028 -->  00:14:47.110] 276 MTD027ID\n",
      "[ 00:14:44.300 -->  00:14:44.623] 277 MTD028ME\n",
      "[ 00:14:46.000 -->  00:14:52.070] 278 MTD028ME\n",
      "[ 00:14:52.420 -->  00:14:58.830] 279 MTD026UID\n",
      "[ 00:14:54.190 -->  00:14:54.530] 280 MTD028ME\n",
      "[ 00:14:58.020 -->  00:14:59.270] 281 MTD027ID\n",
      "[ 00:14:59.228 -->  00:15:03.626] 282 MTD028ME\n",
      "[ 00:14:59.980 -->  00:15:00.989] 284 MTD026UID\n",
      "[ 00:14:59.980 -->  00:15:01.960] 283 MTD025PM\n",
      "[ 00:15:03.050 -->  00:15:13.378] 285 MTD025PM\n",
      "[ 00:15:03.640 -->  00:15:03.950] 286 MTD026UID\n",
      "[ 00:15:08.960 -->  00:15:09.409] 287 MTD027ID\n",
      "[ 00:15:09.890 -->  00:15:10.180] 288 MTD028ME\n",
      "[ 00:15:10.234 -->  00:15:10.717] 289 MTD026UID\n",
      "[ 00:15:11.080 -->  00:15:11.410] 290 MTD027ID\n",
      "[ 00:15:13.140 -->  00:15:14.840] 291 MTD026UID\n",
      "[ 00:15:13.540 -->  00:15:13.769] 292 MTD027ID\n",
      "[ 00:15:14.210 -->  00:15:15.600] 293 MTD028ME\n",
      "[ 00:15:14.740 -->  00:15:18.450] 294 MTD027ID\n",
      "[ 00:15:15.020 -->  00:15:17.090] 295 MTD025PM\n",
      "[ 00:15:18.460 -->  00:15:24.557] 296 MTD025PM\n",
      "[ 00:15:22.530 -->  00:15:29.701] 297 MTD028ME\n",
      "[ 00:15:25.730 -->  00:15:25.990] 298 MTD025PM\n",
      "[ 00:15:30.380 -->  00:15:31.988] 299 MTD027ID\n",
      "[ 00:15:31.580 -->  00:15:38.138] 300 MTD028ME\n",
      "[ 00:15:31.621 -->  00:15:32.108] 301 MTD026UID\n",
      "[ 00:15:32.849 -->  00:15:33.385] 302 MTD025PM\n",
      "[ 00:15:37.230 -->  00:15:37.790] 303 MTD025PM\n",
      "[ 00:15:37.250 -->  00:15:38.941] 304 MTD027ID\n",
      "[ 00:15:38.170 -->  00:15:47.849] 305 MTD026UID\n",
      "[ 00:15:43.724 -->  00:15:49.157] 306 MTD025PM\n",
      "[ 00:15:44.243 -->  00:15:52.930] 307 MTD028ME\n",
      "[ 00:15:44.370 -->  00:15:47.772] 308 MTD027ID\n",
      "[ 00:15:49.070 -->  00:15:49.486] 309 MTD026UID\n",
      "[ 00:15:49.260 -->  00:15:51.291] 310 MTD027ID\n",
      "[ 00:15:52.650 -->  00:15:54.108] 311 MTD025PM\n",
      "[ 00:15:52.650 -->  00:15:59.888] 312 MTD027ID\n",
      "[ 00:15:53.162 -->  00:15:53.614] 313 MTD026UID\n",
      "[ 00:15:56.060 -->  00:15:58.729] 314 MTD028ME\n",
      "[ 00:15:57.890 -->  00:15:58.230] 315 MTD026UID\n",
      "[ 00:16:00.420 -->  00:16:02.380] 316 MTD028ME\n",
      "[ 00:16:02.173 -->  00:16:02.847] 317 MTD025PM\n",
      "[ 00:16:02.930 -->  00:16:03.389] 318 MTD027ID\n",
      "[ 00:16:03.060 -->  00:16:04.430] 319 MTD026UID\n",
      "[ 00:16:04.350 -->  00:16:07.330] 320 MTD027ID\n",
      "[ 00:16:04.610 -->  00:16:06.639] 321 MTD025PM\n",
      "[ 00:16:06.940 -->  00:16:07.230] 322 MTD028ME\n",
      "[ 00:16:08.010 -->  00:16:08.590] 323 MTD025PM\n",
      "[ 00:16:08.770 -->  00:16:08.959] 324 MTD027ID\n",
      "[ 00:16:10.530 -->  00:16:13.100] 325 MTD027ID\n",
      "[ 00:16:11.450 -->  00:16:12.560] 326 MTD025PM\n",
      "[ 00:16:12.910 -->  00:16:13.669] 327 MTD028ME\n",
      "[ 00:16:13.570 -->  00:16:15.374] 328 MTD025PM\n",
      "[ 00:16:14.590 -->  00:16:17.441] 329 MTD026UID\n",
      "[ 00:16:16.790 -->  00:16:20.209] 330 MTD028ME\n",
      "[ 00:16:18.240 -->  00:16:18.626] 331 MTD026UID\n",
      "[ 00:16:19.710 -->  00:16:32.116] 332 MTD027ID\n",
      "[ 00:16:19.850 -->  00:16:20.284] 333 MTD026UID\n",
      "[ 00:16:21.810 -->  00:16:22.749] 334 MTD028ME\n",
      "[ 00:16:23.730 -->  00:16:24.350] 335 MTD026UID\n",
      "[ 00:16:24.000 -->  00:16:26.599] 336 MTD028ME\n",
      "[ 00:16:27.820 -->  00:16:28.810] 337 MTD026UID\n",
      "[ 00:16:28.220 -->  00:16:28.530] 338 MTD025PM\n",
      "[ 00:16:32.140 -->  00:16:36.210] 339 MTD028ME\n",
      "[ 00:16:34.050 -->  00:16:34.246] 340 MTD027ID\n",
      "[ 00:16:35.060 -->  00:16:39.239] 341 MTD027ID\n",
      "[ 00:16:37.342 -->  00:16:42.193] 342 MTD025PM\n",
      "[ 00:16:37.370 -->  00:16:37.690] 343 MTD028ME\n",
      "[ 00:16:38.865 -->  00:16:39.498] 344 MTD028ME\n",
      "[ 00:16:40.220 -->  00:16:44.059] 345 MTD028ME\n",
      "[ 00:16:40.920 -->  00:16:41.553] 346 MTD026UID\n",
      "[ 00:16:40.959 -->  00:16:41.271] 347 MTD027ID\n",
      "[ 00:16:43.260 -->  00:16:47.693] 348 MTD026UID\n",
      "[ 00:16:43.560 -->  00:16:43.740] 349 MTD027ID\n",
      "[ 00:16:45.210 -->  00:16:45.550] 350 MTD028ME\n",
      "[ 00:16:45.870 -->  00:16:46.900] 351 MTD027ID\n",
      "[ 00:16:45.930 -->  00:16:47.609] 352 MTD025PM\n",
      "[ 00:16:48.460 -->  00:16:50.379] 353 MTD028ME\n",
      "[ 00:16:52.020 -->  00:16:54.397] 354 MTD028ME\n",
      "[ 00:16:54.380 -->  00:16:57.870] 355 MTD027ID\n",
      "[ 00:17:00.190 -->  00:17:05.209] 356 MTD025PM\n",
      "[ 00:17:02.580 -->  00:17:04.759] 357 MTD027ID\n",
      "[ 00:17:04.990 -->  00:17:09.439] 358 MTD028ME\n",
      "[ 00:17:06.875 -->  00:17:07.771] 359 MTD025PM\n",
      "[ 00:17:09.870 -->  00:17:10.249] 360 MTD025PM\n",
      "[ 00:17:10.010 -->  00:17:11.510] 361 MTD027ID\n",
      "[ 00:17:10.370 -->  00:17:10.640] 362 MTD026UID\n",
      "[ 00:17:12.210 -->  00:17:14.379] 363 MTD028ME\n",
      "[ 00:17:12.360 -->  00:17:13.259] 364 MTD025PM\n",
      "[ 00:17:14.770 -->  00:17:19.398] 365 MTD025PM\n",
      "[ 00:17:17.100 -->  00:17:21.228] 366 MTD028ME\n",
      "[ 00:17:18.333 -->  00:17:19.563] 367 MTD026UID\n",
      "[ 00:17:20.200 -->  00:17:21.680] 368 MTD027ID\n",
      "[ 00:17:22.870 -->  00:17:24.539] 369 MTD027ID\n",
      "[ 00:17:26.240 -->  00:17:26.459] 370 MTD027ID\n",
      "[ 00:17:26.460 -->  00:17:30.756] 371 MTD025PM\n",
      "[ 00:17:27.400 -->  00:17:32.450] 372 MTD028ME\n",
      "[ 00:17:32.070 -->  00:17:32.736] 373 MTD026UID\n",
      "[ 00:17:32.080 -->  00:17:32.529] 374 MTD025PM\n",
      "[ 00:17:33.780 -->  00:17:35.889] 375 MTD027ID\n",
      "[ 00:17:35.900 -->  00:17:37.669] 376 MTD028ME\n",
      "[ 00:17:37.670 -->  00:17:37.940] 377 MTD027ID\n",
      "[ 00:17:37.900 -->  00:17:38.220] 378 MTD025PM\n",
      "[ 00:17:39.100 -->  00:17:44.439] 379 MTD027ID\n",
      "[ 00:17:43.760 -->  00:17:45.439] 380 MTD025PM\n",
      "[ 00:17:45.230 -->  00:17:46.260] 381 MTD026UID\n",
      "[ 00:17:46.230 -->  00:17:46.429] 382 MTD028ME\n",
      "[ 00:17:46.250 -->  00:17:46.930] 383 MTD027ID\n",
      "[ 00:17:47.740 -->  00:17:48.280] 384 MTD026UID\n",
      "[ 00:17:47.954 -->  00:17:57.391] 385 MTD025PM\n",
      "[ 00:17:48.680 -->  00:17:56.555] 386 MTD028ME\n",
      "[ 00:17:50.858 -->  00:18:00.889] 387 MTD026UID\n",
      "[ 00:17:53.330 -->  00:17:54.039] 388 MTD027ID\n",
      "[ 00:17:58.640 -->  00:17:59.804] 389 MTD025PM\n",
      "[ 00:17:58.721 -->  00:18:01.379] 390 MTD028ME\n",
      "[ 00:18:00.830 -->  00:18:02.379] 391 MTD027ID\n",
      "[ 00:18:01.920 -->  00:18:02.000] 392 MTD026UID\n",
      "[ 00:18:02.750 -->  00:18:03.399] 393 MTD028ME\n",
      "[ 00:18:03.550 -->  00:18:06.456] 394 MTD026UID\n",
      "[ 00:18:04.550 -->  00:18:05.179] 395 MTD027ID\n",
      "[ 00:18:07.170 -->  00:18:08.170] 396 MTD027ID\n",
      "[ 00:18:08.650 -->  00:18:10.790] 397 MTD028ME\n",
      "[ 00:18:13.550 -->  00:18:14.070] 398 MTD027ID\n",
      "[ 00:18:13.800 -->  00:18:15.099] 399 MTD028ME\n",
      "[ 00:18:15.470 -->  00:18:16.369] 400 MTD027ID\n",
      "[ 00:18:16.230 -->  00:18:16.959] 401 MTD028ME\n",
      "[ 00:18:17.210 -->  00:18:17.960] 402 MTD025PM\n",
      "[ 00:18:19.816 -->  00:18:20.821] 403 MTD028ME\n",
      "[ 00:18:20.213 -->  00:18:21.173] 404 MTD025PM\n",
      "[ 00:18:22.684 -->  00:18:23.830] 405 MTD025PM\n",
      "[ 00:18:26.990 -->  00:18:27.160] 406 MTD027ID\n",
      "[ 00:18:33.180 -->  00:18:33.260] 407 MTD025PM\n",
      "[ 00:18:48.190 -->  00:19:09.487] 408 MTD025PM\n",
      "[ 00:19:06.780 -->  00:19:08.329] 409 MTD027ID\n",
      "[ 00:19:10.600 -->  00:19:10.940] 410 MTD025PM\n",
      "[ 00:19:12.570 -->  00:19:31.211] 411 MTD025PM\n",
      "[ 00:19:12.770 -->  00:19:14.529] 412 MTD027ID\n",
      "[ 00:19:13.420 -->  00:19:14.157] 413 MTD026UID\n",
      "[ 00:19:33.780 -->  00:19:50.405] 414 MTD025PM\n",
      "[ 00:19:50.040 -->  00:19:50.370] 415 MTD026UID\n",
      "[ 00:19:51.480 -->  00:19:52.200] 416 MTD025PM\n",
      "[ 00:19:51.690 -->  00:19:51.899] 417 MTD026UID\n",
      "[ 00:19:54.420 -->  00:19:57.080] 418 MTD027ID\n",
      "[ 00:19:54.740 -->  00:19:56.299] 419 MTD026UID\n",
      "[ 00:19:55.210 -->  00:19:57.160] 420 MTD025PM\n",
      "[ 00:19:58.520 -->  00:20:00.350] 421 MTD027ID\n",
      "[ 00:19:59.010 -->  00:20:06.580] 422 MTD025PM\n",
      "[ 00:19:59.170 -->  00:20:00.109] 423 MTD026UID\n",
      "[ 00:20:02.113 -->  00:20:02.522] 424 MTD027ID\n",
      "[ 00:20:02.140 -->  00:20:02.480] 425 MTD026UID\n",
      "[ 00:20:04.160 -->  00:20:05.620] 426 MTD026UID\n",
      "[ 00:20:05.550 -->  00:20:05.710] 427 MTD028ME\n",
      "[ 00:20:07.890 -->  00:20:08.749] 428 MTD028ME\n",
      "[ 00:20:08.020 -->  00:20:08.320] 429 MTD026UID\n",
      "[ 00:20:08.040 -->  00:20:12.098] 430 MTD025PM\n",
      "[ 00:20:08.450 -->  00:20:08.790] 431 MTD027ID\n",
      "[ 00:20:09.460 -->  00:20:09.610] 432 MTD026UID\n",
      "[ 00:20:11.960 -->  00:20:14.454] 433 MTD027ID\n",
      "[ 00:20:12.210 -->  00:20:12.470] 434 MTD026UID\n",
      "[ 00:20:12.830 -->  00:20:14.370] 435 MTD028ME\n",
      "[ 00:20:15.810 -->  00:20:16.130] 436 MTD025PM\n",
      "[ 00:20:15.970 -->  00:20:17.149] 437 MTD028ME\n",
      "[ 00:20:17.070 -->  00:20:17.380] 438 MTD027ID\n",
      "[ 00:20:17.070 -->  00:20:18.743] 439 MTD026UID\n",
      "[ 00:20:17.210 -->  00:20:23.588] 440 MTD025PM\n",
      "[ 00:20:19.020 -->  00:20:20.140] 441 MTD028ME\n",
      "[ 00:20:20.092 -->  00:20:20.581] 442 MTD026UID\n",
      "[ 00:20:21.710 -->  00:20:22.799] 443 MTD026UID\n",
      "[ 00:20:21.790 -->  00:20:22.239] 444 MTD028ME\n",
      "[ 00:20:23.940 -->  00:20:27.279] 445 MTD026UID\n",
      "[ 00:20:25.040 -->  00:20:26.610] 446 MTD028ME\n",
      "[ 00:20:25.930 -->  00:20:27.920] 447 MTD027ID\n",
      "[ 00:20:26.730 -->  00:20:27.489] 448 MTD025PM\n",
      "[ 00:20:28.900 -->  00:20:45.041] 449 MTD025PM\n",
      "[ 00:20:31.700 -->  00:20:31.960] 450 MTD027ID\n",
      "[ 00:20:31.900 -->  00:20:32.440] 451 MTD028ME\n",
      "[ 00:20:31.990 -->  00:20:32.439] 452 MTD026UID\n",
      "[ 00:20:34.330 -->  00:20:34.549] 453 MTD028ME\n",
      "[ 00:20:34.370 -->  00:20:35.349] 454 MTD027ID\n",
      "[ 00:20:37.120 -->  00:20:37.870] 455 MTD026UID\n",
      "[ 00:20:38.260 -->  00:20:39.212] 456 MTD028ME\n",
      "[ 00:20:45.200 -->  00:20:45.419] 457 MTD026UID\n",
      "[ 00:20:45.530 -->  00:20:47.260] 458 MTD028ME\n",
      "[ 00:20:45.950 -->  00:20:52.176] 459 MTD027ID\n",
      "[ 00:20:50.960 -->  00:20:57.659] 460 MTD025PM\n",
      "[ 00:20:54.924 -->  00:20:55.363] 461 MTD026UID\n",
      "[ 00:20:57.280 -->  00:21:00.323] 462 MTD027ID\n",
      "[ 00:20:58.690 -->  00:21:00.319] 463 MTD028ME\n",
      "[ 00:20:58.979 -->  00:20:59.352] 464 MTD026UID\n",
      "[ 00:20:59.630 -->  00:21:01.074] 465 MTD025PM\n",
      "[ 00:21:00.420 -->  00:21:03.869] 466 MTD026UID\n",
      "[ 00:21:04.190 -->  00:21:04.629] 467 MTD025PM\n",
      "[ 00:21:05.170 -->  00:21:08.170] 468 MTD027ID\n",
      "[ 00:21:06.220 -->  00:21:06.550] 469 MTD028ME\n",
      "[ 00:21:09.160 -->  00:21:09.490] 470 MTD028ME\n",
      "[ 00:21:09.780 -->  00:21:11.180] 471 MTD025PM\n",
      "[ 00:21:10.870 -->  00:21:11.297] 472 MTD027ID\n",
      "[ 00:21:12.400 -->  00:21:12.670] 473 MTD025PM\n",
      "[ 00:21:12.500 -->  00:21:13.069] 474 MTD026UID\n",
      "[ 00:21:13.220 -->  00:21:13.869] 475 MTD027ID\n",
      "[ 00:21:13.230 -->  00:21:14.955] 476 MTD025PM\n",
      "[ 00:21:14.900 -->  00:21:18.419] 477 MTD027ID\n",
      "[ 00:21:16.050 -->  00:21:16.840] 478 MTD025PM\n",
      "[ 00:21:17.480 -->  00:21:24.753] 479 MTD026UID\n",
      "[ 00:21:18.380 -->  00:21:18.720] 480 MTD028ME\n",
      "[ 00:21:19.661 -->  00:21:26.450] 481 MTD025PM\n",
      "[ 00:21:19.720 -->  00:21:29.509] 482 MTD027ID\n",
      "[ 00:21:20.222 -->  00:21:22.679] 483 MTD028ME\n",
      "[ 00:21:26.744 -->  00:21:27.117] 484 MTD028ME\n",
      "[ 00:21:28.500 -->  00:21:34.351] 485 MTD028ME\n",
      "[ 00:21:29.264 -->  00:21:30.410] 486 MTD026UID\n",
      "[ 00:21:30.790 -->  00:21:31.510] 487 MTD025PM\n",
      "[ 00:21:35.660 -->  00:21:36.189] 488 MTD028ME\n",
      "[ 00:21:36.480 -->  00:21:36.939] 489 MTD027ID\n",
      "[ 00:21:37.940 -->  00:21:42.381] 490 MTD025PM\n",
      "[ 00:21:41.830 -->  00:21:45.939] 491 MTD027ID\n",
      "[ 00:21:41.840 -->  00:21:44.500] 492 MTD028ME\n",
      "[ 00:21:45.510 -->  00:21:47.399] 493 MTD025PM\n",
      "[ 00:21:47.510 -->  00:21:49.059] 494 MTD027ID\n",
      "[ 00:21:48.890 -->  00:21:49.899] 495 MTD025PM\n",
      "[ 00:21:50.092 -->  00:21:51.079] 496 MTD027ID\n",
      "[ 00:21:51.020 -->  00:22:06.348] 497 MTD025PM\n",
      "[ 00:21:52.878 -->  00:21:53.255] 498 MTD027ID\n",
      "[ 00:21:54.260 -->  00:21:54.869] 499 MTD027ID\n",
      "[ 00:21:56.770 -->  00:21:57.070] 500 MTD026UID\n",
      "[ 00:21:57.120 -->  00:21:59.940] 501 MTD027ID\n",
      "[ 00:21:58.560 -->  00:21:58.890] 502 MTD026UID\n",
      "[ 00:22:00.060 -->  00:22:00.469] 503 MTD028ME\n",
      "[ 00:22:00.090 -->  00:22:03.179] 504 MTD026UID\n",
      "[ 00:22:02.620 -->  00:22:03.108] 505 MTD027ID\n",
      "[ 00:22:06.500 -->  00:22:07.430] 506 MTD027ID\n",
      "[ 00:22:06.500 -->  00:22:09.990] 507 MTD026UID\n",
      "[ 00:22:10.300 -->  00:22:10.470] 508 MTD028ME\n",
      "[ 00:22:10.330 -->  00:22:23.689] 509 MTD025PM\n",
      "[ 00:22:10.430 -->  00:22:12.660] 510 MTD027ID\n",
      "[ 00:22:13.230 -->  00:22:15.384] 511 MTD028ME\n",
      "[ 00:22:14.380 -->  00:22:14.619] 512 MTD027ID\n",
      "[ 00:22:17.080 -->  00:22:21.072] 513 MTD027ID\n",
      "[ 00:22:19.940 -->  00:22:20.910] 514 MTD026UID\n",
      "[ 00:22:23.290 -->  00:22:26.709] 515 MTD027ID\n",
      "[ 00:22:24.260 -->  00:22:24.530] 516 MTD028ME\n",
      "[ 00:22:25.860 -->  00:22:44.422] 517 MTD028ME\n",
      "[ 00:22:26.060 -->  00:22:30.130] 518 MTD025PM\n",
      "[ 00:22:33.060 -->  00:22:33.370] 519 MTD025PM\n",
      "[ 00:22:41.930 -->  00:22:42.230] 520 MTD025PM\n",
      "[ 00:22:45.690 -->  00:22:49.342] 521 MTD028ME\n",
      "[ 00:22:47.890 -->  00:22:48.319] 522 MTD025PM\n",
      "[ 00:22:48.380 -->  00:22:53.551] 523 MTD027ID\n",
      "[ 00:22:51.980 -->  00:22:58.128] 524 MTD025PM\n",
      "[ 00:22:52.620 -->  00:22:53.559] 525 MTD028ME\n",
      "[ 00:22:55.030 -->  00:22:56.390] 526 MTD028ME\n",
      "[ 00:22:56.080 -->  00:22:57.660] 527 MTD027ID\n",
      "[ 00:22:56.140 -->  00:22:56.689] 528 MTD026UID\n",
      "[ 00:22:59.340 -->  00:23:00.310] 529 MTD025PM\n",
      "[ 00:23:00.700 -->  00:23:01.273] 530 MTD027ID\n",
      "[ 00:23:01.000 -->  00:23:04.300] 531 MTD026UID\n",
      "[ 00:23:01.670 -->  00:23:02.645] 532 MTD025PM\n",
      "[ 00:23:04.810 -->  00:23:05.669] 533 MTD028ME\n",
      "[ 00:23:06.020 -->  00:23:07.720] 534 MTD026UID\n",
      "[ 00:23:08.030 -->  00:23:13.483] 535 MTD025PM\n",
      "[ 00:23:08.290 -->  00:23:10.860] 536 MTD027ID\n",
      "[ 00:23:10.980 -->  00:23:11.150] 537 MTD026UID\n",
      "[ 00:23:13.000 -->  00:23:15.115] 538 MTD026UID\n",
      "[ 00:23:13.240 -->  00:23:18.825] 539 MTD027ID\n",
      "[ 00:23:18.260 -->  00:23:22.498] 540 MTD025PM\n",
      "[ 00:23:18.750 -->  00:23:20.030] 541 MTD026UID\n",
      "[ 00:23:19.946 -->  00:23:22.086] 542 MTD027ID\n",
      "[ 00:23:20.320 -->  00:23:20.509] 543 MTD028ME\n",
      "[ 00:23:21.404 -->  00:23:22.071] 544 MTD026UID\n",
      "[ 00:23:23.800 -->  00:23:31.651] 545 MTD025PM\n",
      "[ 00:23:26.020 -->  00:23:26.816] 546 MTD028ME\n",
      "[ 00:23:27.637 -->  00:23:28.120] 547 MTD028ME\n",
      "[ 00:23:30.740 -->  00:23:35.990] 548 MTD027ID\n",
      "[ 00:23:33.570 -->  00:23:34.539] 549 MTD026UID\n",
      "[ 00:23:35.860 -->  00:23:39.100] 550 MTD025PM\n",
      "[ 00:23:36.230 -->  00:23:36.480] 551 MTD028ME\n",
      "[ 00:23:38.700 -->  00:23:40.719] 552 MTD027ID\n",
      "[ 00:23:40.270 -->  00:23:43.709] 553 MTD025PM\n",
      "[ 00:23:43.150 -->  00:23:43.579] 554 MTD027ID\n",
      "[ 00:23:43.560 -->  00:23:49.474] 555 MTD028ME\n",
      "[ 00:23:47.980 -->  00:23:48.260] 556 MTD025PM\n",
      "[ 00:23:50.670 -->  00:23:53.349] 557 MTD025PM\n",
      "[ 00:23:53.470 -->  00:23:53.899] 558 MTD028ME\n",
      "[ 00:23:53.740 -->  00:23:56.075] 559 MTD027ID\n",
      "[ 00:23:54.510 -->  00:23:56.740] 560 MTD025PM\n",
      "[ 00:23:55.148 -->  00:23:55.474] 561 MTD026UID\n",
      "[ 00:23:56.742 -->  00:23:57.524] 562 MTD026UID\n",
      "[ 00:23:56.800 -->  00:23:57.520] 563 MTD028ME\n",
      "[ 00:23:57.890 -->  00:24:04.030] 564 MTD025PM\n",
      "[ 00:24:04.900 -->  00:24:08.769] 565 MTD027ID\n",
      "[ 00:24:07.813 -->  00:24:11.965] 566 MTD025PM\n",
      "[ 00:24:11.660 -->  00:24:12.669] 567 MTD027ID\n",
      "[ 00:24:12.560 -->  00:24:15.337] 568 MTD025PM\n",
      "[ 00:24:13.070 -->  00:24:13.299] 569 MTD028ME\n",
      "[ 00:24:13.580 -->  00:24:14.029] 570 MTD027ID\n",
      "[ 00:24:14.900 -->  00:24:18.985] 571 MTD027ID\n",
      "[ 00:24:18.660 -->  00:24:22.339] 572 MTD026UID\n",
      "[ 00:24:20.240 -->  00:24:20.560] 573 MTD027ID\n",
      "[ 00:24:20.540 -->  00:24:31.024] 574 MTD028ME\n",
      "[ 00:24:29.140 -->  00:24:31.690] 575 MTD027ID\n",
      "[ 00:24:32.350 -->  00:24:32.950] 576 MTD028ME\n",
      "[ 00:24:34.470 -->  00:24:40.059] 577 MTD028ME\n",
      "[ 00:24:37.380 -->  00:24:37.799] 578 MTD026UID\n",
      "[ 00:24:38.400 -->  00:24:38.920] 579 MTD027ID\n",
      "[ 00:24:39.680 -->  00:24:42.703] 580 MTD026UID\n",
      "[ 00:24:40.230 -->  00:24:43.839] 581 MTD027ID\n",
      "[ 00:24:41.490 -->  00:24:41.800] 582 MTD028ME\n",
      "[ 00:24:43.360 -->  00:24:45.690] 583 MTD025PM\n",
      "[ 00:24:44.100 -->  00:24:45.149] 584 MTD028ME\n",
      "[ 00:24:46.420 -->  00:24:51.240] 585 MTD028ME\n",
      "[ 00:24:53.550 -->  00:24:54.956] 586 MTD028ME\n",
      "[ 00:24:56.350 -->  00:25:00.389] 587 MTD028ME\n",
      "[ 00:25:01.260 -->  00:25:18.932] 588 MTD026UID\n",
      "[ 00:25:01.480 -->  00:25:03.180] 589 MTD025PM\n",
      "[ 00:25:01.500 -->  00:25:03.160] 590 MTD028ME\n",
      "[ 00:25:04.830 -->  00:25:05.860] 591 MTD025PM\n",
      "[ 00:25:04.880 -->  00:25:05.299] 592 MTD027ID\n",
      "[ 00:25:05.120 -->  00:25:06.639] 593 MTD028ME\n",
      "[ 00:25:19.120 -->  00:25:19.460] 594 MTD028ME\n",
      "[ 00:25:19.150 -->  00:25:24.778] 595 MTD025PM\n",
      "[ 00:25:21.050 -->  00:25:21.940] 596 MTD028ME\n",
      "[ 00:25:23.480 -->  00:25:32.300] 597 MTD026UID\n",
      "[ 00:25:27.419 -->  00:25:29.250] 598 MTD025PM\n",
      "[ 00:25:28.980 -->  00:25:29.340] 599 MTD027ID\n",
      "[ 00:25:30.180 -->  00:25:30.450] 600 MTD028ME\n",
      "[ 00:25:31.880 -->  00:25:36.821] 601 MTD028ME\n",
      "[ 00:25:32.020 -->  00:25:32.350] 602 MTD027ID\n",
      "[ 00:25:35.990 -->  00:25:39.017] 603 MTD027ID\n",
      "[ 00:25:36.814 -->  00:25:37.516] 604 MTD026UID\n",
      "[ 00:25:38.700 -->  00:25:41.276] 605 MTD028ME\n",
      "[ 00:25:39.950 -->  00:25:40.230] 606 MTD026UID\n",
      "[ 00:25:43.140 -->  00:25:44.059] 607 MTD028ME\n",
      "[ 00:25:44.670 -->  00:25:48.070] 608 MTD027ID\n",
      "[ 00:25:45.360 -->  00:25:45.680] 609 MTD025PM\n",
      "[ 00:25:47.690 -->  00:25:57.878] 610 MTD025PM\n",
      "[ 00:25:48.347 -->  00:25:48.906] 611 MTD028ME\n",
      "[ 00:25:57.670 -->  00:25:58.069] 612 MTD027ID\n",
      "[ 00:25:58.420 -->  00:25:58.680] 613 MTD028ME\n",
      "[ 00:25:58.820 -->  00:25:59.080] 614 MTD025PM\n",
      "[ 00:26:00.670 -->  00:26:04.240] 615 MTD025PM\n",
      "[ 00:26:04.860 -->  00:26:06.732] 616 MTD028ME\n",
      "[ 00:26:05.310 -->  00:26:17.630] 617 MTD025PM\n",
      "[ 00:26:07.280 -->  00:26:10.268] 618 MTD027ID\n",
      "[ 00:26:11.729 -->  00:26:12.102] 619 MTD026UID\n",
      "[ 00:26:15.852 -->  00:26:17.178] 620 MTD026UID\n",
      "[ 00:26:16.207 -->  00:26:17.661] 621 MTD028ME\n",
      "[ 00:26:18.800 -->  00:26:24.620] 622 MTD025PM\n",
      "[ 00:26:22.010 -->  00:26:22.340] 623 MTD028ME\n",
      "[ 00:26:23.620 -->  00:26:27.036] 624 MTD027ID\n",
      "[ 00:26:27.000 -->  00:26:35.031] 625 MTD025PM\n",
      "[ 00:26:32.070 -->  00:26:32.539] 626 MTD028ME\n",
      "[ 00:26:33.010 -->  00:26:35.830] 627 MTD027ID\n",
      "[ 00:26:36.900 -->  00:26:37.230] 628 MTD025PM\n",
      "[ 00:26:37.180 -->  00:26:38.315] 629 MTD027ID\n",
      "[ 00:26:38.260 -->  00:26:45.674] 630 MTD026UID\n",
      "[ 00:26:43.110 -->  00:26:43.410] 631 MTD027ID\n",
      "[ 00:26:45.660 -->  00:26:46.780] 632 MTD025PM\n",
      "[ 00:26:48.290 -->  00:26:49.564] 633 MTD025PM\n",
      "[ 00:26:50.320 -->  00:26:53.609] 634 MTD028ME\n",
      "[ 00:26:54.844 -->  00:26:55.260] 635 MTD025PM\n",
      "[ 00:26:55.180 -->  00:26:55.735] 636 MTD026UID\n",
      "[ 00:26:55.380 -->  00:26:57.099] 637 MTD028ME\n",
      "[ 00:26:58.720 -->  00:27:02.682] 638 MTD028ME\n",
      "[ 00:26:59.392 -->  00:27:03.323] 639 MTD026UID\n",
      "[ 00:27:01.318 -->  00:27:02.056] 640 MTD027ID\n",
      "[ 00:27:02.120 -->  00:27:07.065] 641 MTD025PM\n",
      "[ 00:27:04.660 -->  00:27:04.940] 642 MTD028ME\n",
      "[ 00:27:05.410 -->  00:27:09.449] 643 MTD027ID\n",
      "[ 00:27:06.050 -->  00:27:07.370] 644 MTD028ME\n",
      "[ 00:27:08.600 -->  00:27:24.741] 645 MTD025PM\n",
      "[ 00:27:22.200 -->  00:27:23.075] 646 MTD027ID\n",
      "[ 00:27:22.270 -->  00:27:22.630] 647 MTD028ME\n",
      "[ 00:27:24.980 -->  00:27:44.574] 648 MTD028ME\n",
      "[ 00:27:35.490 -->  00:27:35.780] 649 MTD025PM\n",
      "[ 00:27:40.320 -->  00:27:40.650] 650 MTD025PM\n",
      "[ 00:27:43.390 -->  00:27:47.518] 651 MTD025PM\n",
      "[ 00:27:48.270 -->  00:27:58.059] 652 MTD026UID\n",
      "[ 00:27:56.920 -->  00:27:57.149] 653 MTD028ME\n",
      "[ 00:27:57.230 -->  00:27:58.739] 654 MTD025PM\n",
      "[ 00:27:59.330 -->  00:28:03.900] 655 MTD027ID\n",
      "[ 00:27:59.410 -->  00:28:00.509] 656 MTD026UID\n",
      "[ 00:28:03.920 -->  00:28:05.889] 657 MTD025PM\n",
      "[ 00:28:04.320 -->  00:28:04.570] 658 MTD028ME\n",
      "[ 00:28:06.650 -->  00:28:13.618] 659 MTD026UID\n",
      "[ 00:28:12.920 -->  00:28:13.220] 660 MTD025PM\n",
      "[ 00:28:13.830 -->  00:28:15.249] 661 MTD028ME\n",
      "[ 00:28:15.650 -->  00:28:19.644] 662 MTD025PM\n",
      "[ 00:28:18.300 -->  00:28:19.837] 663 MTD027ID\n",
      "[ 00:28:19.170 -->  00:28:20.309] 664 MTD026UID\n",
      "[ 00:28:19.900 -->  00:28:21.489] 665 MTD028ME\n",
      "[ 00:28:21.436 -->  00:28:22.869] 666 MTD027ID\n",
      "[ 00:28:21.656 -->  00:28:32.758] 667 MTD026UID\n",
      "[ 00:28:21.789 -->  00:28:22.364] 668 MTD025PM\n",
      "[ 00:28:24.876 -->  00:28:29.739] 669 MTD027ID\n",
      "[ 00:28:24.906 -->  00:28:26.759] 670 MTD028ME\n",
      "[ 00:28:25.056 -->  00:28:31.872] 671 MTD025PM\n",
      "[ 00:28:28.428 -->  00:28:31.910] 672 MTD028ME\n",
      "[ 00:28:30.836 -->  00:28:34.070] 673 MTD027ID\n",
      "[ 00:28:33.820 -->  00:28:35.329] 674 MTD028ME\n",
      "[ 00:28:35.500 -->  00:28:36.459] 675 MTD027ID\n",
      "[ 00:28:36.320 -->  00:28:58.211] 676 MTD028ME\n",
      "[ 00:28:36.540 -->  00:28:37.240] 677 MTD026UID\n",
      "[ 00:28:41.380 -->  00:28:42.310] 678 MTD025PM\n",
      "[ 00:28:46.782 -->  00:28:47.751] 679 MTD026UID\n",
      "[ 00:28:46.790 -->  00:28:47.796] 680 MTD025PM\n",
      "[ 00:28:50.060 -->  00:28:50.330] 681 MTD025PM\n",
      "[ 00:28:54.610 -->  00:28:56.516] 682 MTD027ID\n",
      "[ 00:28:55.800 -->  00:28:56.080] 683 MTD025PM\n",
      "[ 00:28:56.204 -->  00:28:56.666] 684 MTD026UID\n",
      "[ 00:28:57.090 -->  00:29:03.269] 685 MTD025PM\n",
      "[ 00:29:03.500 -->  00:29:06.310] 686 MTD028ME\n",
      "[ 00:29:04.300 -->  00:29:10.878] 687 MTD025PM\n",
      "[ 00:29:05.005 -->  00:29:05.564] 688 MTD026UID\n",
      "[ 00:29:09.350 -->  00:29:12.543] 689 MTD028ME\n",
      "[ 00:29:09.390 -->  00:29:13.216] 690 MTD026UID\n",
      "[ 00:29:12.780 -->  00:29:21.498] 691 MTD025PM\n",
      "[ 00:29:14.540 -->  00:29:15.900] 692 MTD028ME\n",
      "[ 00:29:19.370 -->  00:29:24.088] 693 MTD027ID\n",
      "[ 00:29:20.900 -->  00:29:21.070] 694 MTD028ME\n",
      "[ 00:29:22.500 -->  00:29:23.690] 695 MTD028ME\n",
      "[ 00:29:23.420 -->  00:29:31.080] 696 MTD025PM\n",
      "[ 00:29:30.300 -->  00:29:35.776] 697 MTD027ID\n",
      "[ 00:29:32.320 -->  00:29:32.600] 698 MTD025PM\n",
      "[ 00:29:34.220 -->  00:29:40.571] 699 MTD025PM\n",
      "[ 00:29:34.800 -->  00:29:35.806] 700 MTD028ME\n",
      "[ 00:29:37.870 -->  00:29:38.954] 701 MTD027ID\n",
      "[ 00:29:41.050 -->  00:29:41.610] 702 MTD028ME\n",
      "[ 00:29:41.120 -->  00:29:42.200] 703 MTD027ID\n",
      "[ 00:29:42.380 -->  00:29:43.069] 704 MTD025PM\n",
      "[ 00:29:42.420 -->  00:29:45.955] 705 MTD026UID\n",
      "[ 00:29:44.020 -->  00:29:44.229] 706 MTD025PM\n",
      "[ 00:29:44.604 -->  00:29:47.955] 707 MTD027ID\n",
      "[ 00:29:45.580 -->  00:29:46.510] 708 MTD025PM\n",
      "[ 00:29:47.000 -->  00:29:50.142] 709 MTD026UID\n",
      "[ 00:29:47.820 -->  00:29:48.261] 710 MTD025PM\n",
      "[ 00:29:49.940 -->  00:29:52.760] 711 MTD025PM\n",
      "[ 00:29:52.880 -->  00:30:01.512] 712 MTD027ID\n",
      "[ 00:29:53.240 -->  00:29:54.207] 713 MTD026UID\n",
      "[ 00:29:56.270 -->  00:29:56.689] 714 MTD026UID\n",
      "[ 00:29:59.244 -->  00:29:59.532] 715 MTD026UID\n",
      "[ 00:29:59.350 -->  00:29:59.749] 716 MTD025PM\n",
      "[ 00:30:06.940 -->  00:30:10.670] 717 MTD027ID\n",
      "[ 00:30:11.820 -->  00:30:13.900] 718 MTD025PM\n",
      "[ 00:30:12.280 -->  00:30:18.268] 719 MTD027ID\n",
      "[ 00:30:17.880 -->  00:30:22.071] 720 MTD025PM\n",
      "[ 00:30:22.540 -->  00:30:24.179] 721 MTD027ID\n",
      "[ 00:30:23.858 -->  00:30:25.230] 722 MTD026UID\n",
      "[ 00:30:24.950 -->  00:30:40.622] 723 MTD025PM\n",
      "[ 00:30:26.668 -->  00:30:30.000] 724 MTD026UID\n",
      "[ 00:30:26.833 -->  00:30:28.273] 725 MTD027ID\n",
      "[ 00:30:30.140 -->  00:30:30.500] 726 MTD028ME\n",
      "[ 00:30:32.140 -->  00:30:32.700] 727 MTD028ME\n",
      "[ 00:30:33.019 -->  00:30:33.502] 728 MTD026UID\n",
      "[ 00:30:37.340 -->  00:30:39.250] 729 MTD027ID\n",
      "[ 00:30:40.850 -->  00:30:43.840] 730 MTD027ID\n",
      "[ 00:30:42.290 -->  00:30:43.870] 731 MTD025PM\n",
      "[ 00:30:43.570 -->  00:30:57.320] 732 MTD028ME\n",
      "[ 00:30:48.860 -->  00:30:49.150] 733 MTD025PM\n",
      "[ 00:30:55.150 -->  00:30:55.400] 734 MTD025PM\n",
      "[ 00:30:55.900 -->  00:30:56.210] 735 MTD027ID\n",
      "[ 00:30:56.260 -->  00:30:59.246] 736 MTD026UID\n",
      "[ 00:30:58.520 -->  00:31:00.990] 737 MTD028ME\n",
      "[ 00:31:00.540 -->  00:31:02.893] 738 MTD026UID\n",
      "[ 00:31:01.200 -->  00:31:01.450] 739 MTD025PM\n",
      "[ 00:31:02.480 -->  00:31:10.261] 740 MTD027ID\n",
      "[ 00:31:02.880 -->  00:31:03.244] 741 MTD025PM\n",
      "[ 00:31:11.300 -->  00:31:22.839] 742 MTD027ID\n",
      "[ 00:31:13.020 -->  00:31:13.350] 743 MTD025PM\n",
      "[ 00:31:17.680 -->  00:31:17.970] 744 MTD025PM\n",
      "[ 00:31:22.180 -->  00:31:22.379] 745 MTD025PM\n",
      "[ 00:31:23.940 -->  00:31:27.469] 746 MTD025PM\n",
      "[ 00:31:25.760 -->  00:31:28.529] 747 MTD027ID\n",
      "[ 00:31:29.210 -->  00:31:30.910] 748 MTD025PM\n",
      "[ 00:31:29.610 -->  00:31:30.560] 749 MTD028ME\n",
      "[ 00:31:32.090 -->  00:31:44.145] 750 MTD025PM\n",
      "[ 00:31:38.340 -->  00:31:39.950] 751 MTD027ID\n",
      "[ 00:31:38.640 -->  00:31:39.189] 752 MTD026UID\n",
      "[ 00:31:40.905 -->  00:31:41.537] 753 MTD028ME\n",
      "[ 00:31:42.110 -->  00:31:45.293] 754 MTD027ID\n",
      "[ 00:31:44.230 -->  00:31:46.190] 755 MTD028ME\n",
      "[ 00:31:46.940 -->  00:31:54.791] 756 MTD027ID\n",
      "[ 00:31:55.730 -->  00:31:56.179] 757 MTD028ME\n",
      "[ 00:31:56.460 -->  00:31:58.879] 758 MTD027ID\n",
      "[ 00:32:00.060 -->  00:32:06.950] 759 MTD025PM\n",
      "[ 00:32:05.620 -->  00:32:09.928] 760 MTD027ID\n",
      "[ 00:32:11.100 -->  00:32:21.108] 761 MTD027ID\n",
      "[ 00:32:18.530 -->  00:32:18.840] 762 MTD025PM\n",
      "[ 00:32:21.870 -->  00:32:23.110] 763 MTD028ME\n",
      "[ 00:32:22.660 -->  00:32:26.316] 764 MTD025PM\n",
      "[ 00:32:26.230 -->  00:32:32.265] 765 MTD027ID\n",
      "[ 00:32:31.280 -->  00:32:31.630] 766 MTD025PM\n",
      "[ 00:32:33.360 -->  00:32:35.768] 767 MTD025PM\n",
      "[ 00:32:35.460 -->  00:32:37.000] 768 MTD027ID\n",
      "[ 00:32:38.610 -->  00:32:40.830] 769 MTD025PM\n",
      "[ 00:32:40.130 -->  00:32:41.929] 770 MTD028ME\n",
      "[ 00:32:42.470 -->  00:32:45.130] 771 MTD027ID\n",
      "[ 00:32:43.290 -->  00:32:43.868] 772 MTD025PM\n",
      "[ 00:32:45.950 -->  00:32:48.955] 773 MTD025PM\n",
      "[ 00:32:46.775 -->  00:32:48.163] 774 MTD028ME\n",
      "[ 00:32:49.340 -->  00:32:54.015] 775 MTD028ME\n",
      "[ 00:32:50.420 -->  00:32:51.003] 776 MTD027ID\n",
      "[ 00:32:52.412 -->  00:32:52.779] 777 MTD025PM\n",
      "[ 00:32:54.220 -->  00:32:55.249] 778 MTD025PM\n",
      "[ 00:32:54.960 -->  00:33:00.620] 779 MTD027ID\n",
      "[ 00:32:58.150 -->  00:32:59.999] 780 MTD028ME\n",
      "[ 00:33:01.400 -->  00:33:02.749] 781 MTD025PM\n",
      "[ 00:33:05.308 -->  00:33:21.917] 782 MTD025PM\n",
      "[ 00:33:05.820 -->  00:33:11.331] 783 MTD026UID\n",
      "[ 00:33:06.184 -->  00:33:10.957] 784 MTD028ME\n",
      "[ 00:33:06.200 -->  00:33:06.429] 785 MTD027ID\n",
      "[ 00:33:10.980 -->  00:33:32.964] 786 MTD028ME\n",
      "[ 00:33:12.428 -->  00:33:18.170] 787 MTD026UID\n",
      "[ 00:33:20.016 -->  00:33:20.988] 788 MTD026UID\n",
      "[ 00:33:24.130 -->  00:33:24.630] 789 MTD025PM\n",
      "[ 00:33:30.530 -->  00:33:31.349] 790 MTD025PM\n",
      "[ 00:33:32.980 -->  00:33:34.710] 791 MTD025PM\n",
      "[ 00:33:33.010 -->  00:33:33.239] 792 MTD027ID\n",
      "[ 00:33:34.890 -->  00:33:35.550] 793 MTD027ID\n",
      "[ 00:33:35.300 -->  00:33:36.899] 794 MTD028ME\n",
      "[ 00:33:38.060 -->  00:33:40.880] 795 MTD025PM\n",
      "[ 00:33:38.120 -->  00:33:43.608] 796 MTD028ME\n",
      "[ 00:33:41.940 -->  00:33:53.713] 797 MTD025PM\n",
      "[ 00:33:47.548 -->  00:33:50.958] 798 MTD028ME\n",
      "[ 00:33:47.820 -->  00:33:48.863] 799 MTD026UID\n",
      "[ 00:33:54.970 -->  00:34:17.626] 800 MTD027ID\n",
      "[ 00:33:55.820 -->  00:33:56.400] 801 MTD025PM\n",
      "[ 00:33:58.370 -->  00:33:59.244] 802 MTD025PM\n",
      "[ 00:34:07.750 -->  00:34:08.100] 803 MTD025PM\n",
      "[ 00:34:14.680 -->  00:34:15.089] 804 MTD025PM\n",
      "[ 00:34:18.170 -->  00:34:23.431] 805 MTD025PM\n",
      "[ 00:34:23.940 -->  00:34:30.768] 806 MTD027ID\n",
      "[ 00:34:25.360 -->  00:34:25.660] 807 MTD025PM\n",
      "[ 00:34:27.580 -->  00:34:27.910] 808 MTD025PM\n",
      "[ 00:34:28.850 -->  00:34:39.053] 809 MTD028ME\n",
      "[ 00:34:35.700 -->  00:34:36.040] 810 MTD027ID\n",
      "[ 00:34:36.610 -->  00:34:36.890] 811 MTD025PM\n",
      "[ 00:34:37.660 -->  00:34:38.189] 812 MTD027ID\n",
      "[ 00:34:39.410 -->  00:34:39.760] 813 MTD025PM\n",
      "[ 00:34:39.570 -->  00:34:54.640] 814 MTD027ID\n",
      "[ 00:34:47.740 -->  00:34:48.199] 815 MTD028ME\n",
      "[ 00:34:53.420 -->  00:34:54.500] 816 MTD025PM\n",
      "[ 00:34:55.520 -->  00:34:56.200] 817 MTD025PM\n",
      "[ 00:34:55.800 -->  00:34:57.699] 818 MTD028ME\n",
      "[ 00:34:57.040 -->  00:35:00.186] 819 MTD027ID\n",
      "[ 00:34:58.990 -->  00:35:02.572] 820 MTD028ME\n",
      "[ 00:35:02.820 -->  00:35:04.510] 821 MTD027ID\n",
      "[ 00:35:04.740 -->  00:35:04.969] 822 MTD028ME\n",
      "[ 00:35:05.890 -->  00:35:16.898] 823 MTD027ID\n",
      "[ 00:35:10.240 -->  00:35:10.600] 824 MTD028ME\n",
      "[ 00:35:16.340 -->  00:35:27.207] 825 MTD025PM\n",
      "[ 00:35:25.060 -->  00:35:25.380] 826 MTD027ID\n",
      "[ 00:35:26.950 -->  00:35:32.239] 827 MTD027ID\n",
      "[ 00:35:27.400 -->  00:35:27.690] 828 MTD028ME\n",
      "[ 00:35:30.940 -->  00:35:31.300] 829 MTD025PM\n",
      "[ 00:35:31.360 -->  00:35:35.867] 830 MTD026UID\n",
      "[ 00:35:34.270 -->  00:35:34.560] 831 MTD027ID\n",
      "[ 00:35:36.110 -->  00:35:36.390] 832 MTD025PM\n",
      "[ 00:35:36.280 -->  00:35:39.299] 833 MTD028ME\n",
      "[ 00:35:41.116 -->  00:35:42.290] 834 MTD027ID\n",
      "[ 00:35:41.820 -->  00:35:43.789] 835 MTD028ME\n",
      "[ 00:35:43.580 -->  00:35:51.341] 836 MTD025PM\n",
      "[ 00:35:44.330 -->  00:35:45.039] 837 MTD027ID\n",
      "[ 00:35:46.160 -->  00:35:46.696] 838 MTD027ID\n",
      "[ 00:35:47.420 -->  00:35:48.100] 839 MTD028ME\n",
      "[ 00:35:51.330 -->  00:35:53.400] 840 MTD028ME\n",
      "[ 00:35:54.640 -->  00:35:57.399] 841 MTD027ID\n",
      "[ 00:35:55.160 -->  00:35:55.959] 842 MTD028ME\n",
      "[ 00:36:00.870 -->  00:36:01.929] 843 MTD027ID\n",
      "[ 00:36:00.970 -->  00:36:02.700] 844 MTD028ME\n",
      "[ 00:36:03.630 -->  00:36:03.800] 845 MTD025PM\n",
      "[ 00:36:04.700 -->  00:36:06.450] 846 MTD028ME\n",
      "[ 00:36:04.870 -->  00:36:05.140] 847 MTD025PM\n",
      "[ 00:36:08.090 -->  00:36:09.675] 848 MTD027ID\n",
      "[ 00:36:10.790 -->  00:36:11.130] 849 MTD028ME\n",
      "[ 00:36:10.800 -->  00:36:11.531] 850 MTD027ID\n",
      "[ 00:36:12.820 -->  00:36:13.650] 851 MTD025PM\n",
      "[ 00:36:13.740 -->  00:36:15.259] 852 MTD027ID\n",
      "[ 00:36:15.490 -->  00:36:15.788] 853 MTD025PM\n",
      "[ 00:36:16.260 -->  00:36:17.070] 854 MTD028ME\n",
      "[ 00:36:18.480 -->  00:36:21.232] 855 MTD027ID\n",
      "[ 00:36:20.510 -->  00:36:21.159] 856 MTD025PM\n",
      "[ 00:36:22.260 -->  00:36:23.150] 857 MTD028ME\n",
      "[ 00:36:22.650 -->  00:36:25.610] 858 MTD025PM\n",
      "[ 00:36:24.020 -->  00:36:25.789] 859 MTD027ID\n",
      "[ 00:36:27.040 -->  00:36:27.620] 860 MTD028ME\n",
      "[ 00:36:27.390 -->  00:36:29.059] 861 MTD025PM\n",
      "[ 00:36:29.190 -->  00:36:31.131] 862 MTD027ID\n",
      "[ 00:36:30.460 -->  00:36:34.145] 863 MTD025PM\n",
      "[ 00:36:35.690 -->  00:36:36.299] 864 MTD025PM\n",
      "[ 00:36:37.360 -->  00:36:37.989] 865 MTD025PM\n",
      "[ 00:36:39.220 -->  00:36:40.250] 866 MTD025PM\n",
      "[ 00:36:40.290 -->  00:36:41.200] 867 MTD027ID\n",
      "[ 00:36:41.970 -->  00:36:42.220] 868 MTD025PM\n",
      "[ 00:36:44.050 -->  00:36:51.448] 869 MTD025PM\n",
      "[ 00:36:46.870 -->  00:36:47.036] 870 MTD027ID\n",
      "[ 00:36:48.428 -->  00:36:48.716] 871 MTD027ID\n",
      "[ 00:36:51.810 -->  00:36:52.760] 872 MTD027ID\n",
      "[ 00:36:52.570 -->  00:37:05.953] 873 MTD025PM\n",
      "[ 00:36:53.470 -->  00:36:53.650] 874 MTD028ME\n",
      "[ 00:36:58.180 -->  00:37:00.310] 875 MTD027ID\n",
      "[ 00:37:02.142 -->  00:37:02.663] 876 MTD027ID\n",
      "[ 00:37:04.860 -->  00:37:11.793] 877 MTD027ID\n",
      "[ 00:37:09.810 -->  00:37:12.280] 878 MTD025PM\n",
      "[ 00:37:12.500 -->  00:37:12.709] 879 MTD028ME\n",
      "[ 00:37:12.860 -->  00:37:20.309] 880 MTD027ID\n",
      "[ 00:37:15.860 -->  00:37:16.220] 881 MTD025PM\n",
      "[ 00:37:18.890 -->  00:37:19.260] 882 MTD025PM\n",
      "[ 00:37:21.470 -->  00:37:23.979] 883 MTD028ME\n",
      "[ 00:37:23.739 -->  00:37:24.747] 884 MTD026UID\n",
      "[ 00:37:24.265 -->  00:37:26.360] 885 MTD025PM\n",
      "[ 00:37:25.116 -->  00:37:32.244] 886 MTD028ME\n",
      "[ 00:37:27.282 -->  00:37:28.512] 887 MTD026UID\n",
      "[ 00:37:34.220 -->  00:37:37.309] 888 MTD028ME\n",
      "[ 00:37:38.760 -->  00:37:52.510] 889 MTD028ME\n",
      "[ 00:37:41.730 -->  00:37:42.419] 890 MTD025PM\n",
      "[ 00:37:42.820 -->  00:37:43.100] 891 MTD027ID\n",
      "[ 00:37:52.700 -->  00:37:59.321] 892 MTD025PM\n",
      "[ 00:37:57.500 -->  00:38:03.480] 893 MTD028ME\n",
      "[ 00:37:59.550 -->  00:37:59.920] 894 MTD026UID\n",
      "[ 00:38:00.730 -->  00:38:01.010] 895 MTD025PM\n",
      "[ 00:38:03.260 -->  00:38:03.479] 896 MTD025PM\n",
      "[ 00:38:03.760 -->  00:38:30.916] 897 MTD026UID\n",
      "[ 00:38:12.660 -->  00:38:12.950] 898 MTD028ME\n",
      "[ 00:38:23.620 -->  00:38:24.149] 899 MTD028ME\n",
      "[ 00:38:31.320 -->  00:38:41.453] 900 MTD028ME\n",
      "[ 00:38:36.130 -->  00:38:37.080] 901 MTD026UID\n",
      "[ 00:38:41.680 -->  00:38:56.883] 902 MTD026UID\n",
      "[ 00:38:42.159 -->  00:38:43.850] 903 MTD028ME\n",
      "[ 00:38:50.108 -->  00:38:50.556] 904 MTD025PM\n",
      "[ 00:38:52.110 -->  00:38:52.390] 905 MTD028ME\n",
      "[ 00:38:52.380 -->  00:38:54.801] 906 MTD025PM\n",
      "[ 00:38:53.278 -->  00:38:55.867] 907 MTD028ME\n",
      "[ 00:38:57.380 -->  00:38:57.650] 908 MTD028ME\n",
      "[ 00:38:58.156 -->  00:38:58.427] 909 MTD026UID\n",
      "[ 00:38:59.220 -->  00:39:01.405] 910 MTD025PM\n",
      "[ 00:38:59.940 -->  00:39:02.410] 911 MTD028ME\n",
      "[ 00:39:00.160 -->  00:39:03.329] 912 MTD027ID\n",
      "[ 00:39:02.670 -->  00:39:05.070] 913 MTD025PM\n",
      "[ 00:39:02.801 -->  00:39:03.284] 914 MTD026UID\n",
      "[ 00:39:04.236 -->  00:39:05.084] 915 MTD028ME\n",
      "[ 00:39:04.930 -->  00:39:06.319] 916 MTD027ID\n",
      "[ 00:39:06.754 -->  00:39:27.426] 917 MTD025PM\n",
      "[ 00:39:08.480 -->  00:39:09.140] 918 MTD028ME\n",
      "[ 00:39:11.560 -->  00:39:11.850] 919 MTD028ME\n",
      "[ 00:39:13.460 -->  00:39:13.780] 920 MTD028ME\n",
      "[ 00:39:27.010 -->  00:39:28.189] 921 MTD028ME\n",
      "[ 00:39:28.720 -->  00:39:40.486] 922 MTD025PM\n",
      "[ 00:39:31.530 -->  00:39:31.739] 923 MTD028ME\n",
      "[ 00:39:32.850 -->  00:39:33.339] 924 MTD028ME\n",
      "[ 00:39:39.510 -->  00:39:42.160] 925 MTD028ME\n",
      "[ 00:39:42.950 -->  00:39:43.429] 926 MTD027ID\n",
      "[ 00:39:43.390 -->  00:39:46.280] 927 MTD028ME\n",
      "[ 00:39:45.860 -->  00:39:54.727] 928 MTD025PM\n",
      "[ 00:39:50.750 -->  00:39:51.000] 929 MTD028ME\n",
      "[ 00:39:51.530 -->  00:39:52.030] 930 MTD026UID\n",
      "[ 00:39:56.370 -->  00:39:56.939] 931 MTD025PM\n",
      "[ 00:39:59.580 -->  00:40:00.237] 932 MTD028ME\n",
      "[ 00:39:59.790 -->  00:40:02.333] 933 MTD025PM\n",
      "[ 00:40:02.540 -->  00:40:05.555] 934 MTD028ME\n",
      "[ 00:40:05.400 -->  00:40:09.355] 935 MTD025PM\n",
      "[ 00:40:09.460 -->  00:40:13.446] 936 MTD028ME\n",
      "[ 00:40:10.476 -->  00:40:16.831] 937 MTD025PM\n",
      "[ 00:40:10.822 -->  00:40:13.980] 938 MTD026UID\n",
      "[ 00:40:17.890 -->  00:40:18.640] 939 MTD028ME\n",
      "[ 00:40:23.004 -->  00:40:23.995] 940 MTD026UID\n",
      "[ 00:40:23.780 -->  00:40:25.899] 941 MTD028ME\n",
      "[ 00:40:26.140 -->  00:40:27.609] 942 MTD027ID\n",
      "[ 00:40:26.342 -->  00:40:27.530] 943 MTD026UID\n",
      "[ 00:40:27.280 -->  00:40:27.460] 944 MTD028ME\n",
      "[ 00:40:27.550 -->  00:40:33.378] 945 MTD025PM\n",
      "[ 00:40:29.190 -->  00:40:29.719] 946 MTD028ME\n",
      "[ 00:40:32.860 -->  00:40:37.020] 947 MTD026UID\n",
      "[ 00:40:37.520 -->  00:40:38.207] 948 MTD027ID\n",
      "[ 00:40:37.680 -->  00:40:42.379] 949 MTD025PM\n",
      "[ 00:40:41.540 -->  00:40:43.419] 950 MTD028ME\n",
      "[ 00:40:44.470 -->  00:40:54.650] 951 MTD025PM\n",
      "[ 00:40:47.910 -->  00:40:49.810] 952 MTD028ME\n",
      "[ 00:40:51.900 -->  00:40:52.420] 953 MTD028ME\n",
      "[ 00:40:53.800 -->  00:40:55.250] 954 MTD027ID\n",
      "[ 00:40:55.900 -->  00:40:58.089] 955 MTD028ME\n",
      "[ 00:40:58.150 -->  00:40:58.629] 956 MTD027ID\n",
      "[ 00:40:59.220 -->  00:41:01.770] 957 MTD025PM\n",
      "[ 00:41:03.990 -->  00:41:23.084] 958 MTD025PM\n",
      "[ 00:41:23.260 -->  00:41:25.627] 959 MTD028ME\n",
      "[ 00:41:29.196 -->  00:41:30.283] 960 MTD028ME\n",
      "[ 00:41:30.970 -->  00:41:31.163] 961 MTD027ID\n",
      "[ 00:41:31.310 -->  00:41:31.844] 962 MTD028ME\n",
      "[ 00:41:31.480 -->  00:41:36.007] 963 MTD025PM\n",
      "[ 00:41:32.780 -->  00:41:32.950] 964 MTD028ME\n",
      "[ 00:41:34.028 -->  00:41:35.626] 965 MTD027ID\n",
      "[ 00:41:34.060 -->  00:41:42.810] 966 MTD028ME\n",
      "[ 00:41:34.764 -->  00:41:35.302] 967 MTD026UID\n",
      "[ 00:41:39.820 -->  00:41:41.740] 968 MTD025PM\n",
      "[ 00:41:43.840 -->  00:41:45.990] 969 MTD025PM\n",
      "[ 00:41:45.400 -->  00:41:47.249] 970 MTD028ME\n",
      "[ 00:41:47.700 -->  00:41:49.009] 971 MTD025PM\n",
      "[ 00:41:48.440 -->  00:41:49.829] 972 MTD028ME\n",
      "[ 00:41:51.490 -->  00:42:00.177] 973 MTD025PM\n",
      "[ 00:41:54.500 -->  00:41:55.919] 974 MTD028ME\n",
      "[ 00:42:00.860 -->  00:42:02.129] 975 MTD028ME\n",
      "[ 00:42:01.630 -->  00:42:02.580] 976 MTD027ID\n",
      "[ 00:42:02.910 -->  00:42:09.499] 977 MTD025PM\n",
      "[ 00:42:04.500 -->  00:42:05.929] 978 MTD028ME\n",
      "[ 00:42:06.960 -->  00:42:07.480] 979 MTD028ME\n",
      "[ 00:42:09.384 -->  00:42:11.060] 980 MTD028ME\n",
      "[ 00:42:10.732 -->  00:42:21.599] 981 MTD025PM\n",
      "[ 00:42:21.280 -->  00:42:26.389] 982 MTD027ID\n",
      "[ 00:42:23.520 -->  00:42:34.551] 983 MTD025PM\n",
      "[ 00:42:28.810 -->  00:42:29.589] 984 MTD028ME\n",
      "[ 00:42:31.547 -->  00:42:32.216] 985 MTD028ME\n",
      "[ 00:42:33.290 -->  00:42:35.549] 986 MTD026UID\n",
      "[ 00:42:34.580 -->  00:42:35.510] 987 MTD027ID\n",
      "[ 00:42:35.940 -->  00:42:38.988] 988 MTD025PM\n",
      "[ 00:42:35.950 -->  00:42:36.439] 989 MTD028ME\n",
      "[ 00:42:38.980 -->  00:42:39.709] 990 MTD026UID\n",
      "[ 00:42:39.210 -->  00:42:41.829] 991 MTD028ME\n",
      "[ 00:42:40.050 -->  00:42:40.340] 992 MTD025PM\n",
      "[ 00:42:40.860 -->  00:42:41.079] 993 MTD026UID\n",
      "[ 00:42:41.590 -->  00:42:50.340] 994 MTD025PM\n",
      "[ 00:42:45.004 -->  00:42:45.600] 995 MTD026UID\n",
      "[ 00:42:46.940 -->  00:42:47.599] 996 MTD026UID\n",
      "[ 00:42:50.030 -->  00:42:55.440] 997 MTD026UID\n",
      "[ 00:42:55.510 -->  00:42:56.420] 998 MTD027ID\n",
      "[ 00:42:56.820 -->  00:42:58.109] 999 MTD026UID\n",
      "[ 00:42:56.920 -->  00:43:01.236] 1000 MTD025PM\n",
      "[ 00:42:57.261 -->  00:42:58.475] 1001 MTD028ME\n",
      "[ 00:43:01.120 -->  00:43:19.776] 1002 MTD028ME\n",
      "[ 00:43:02.940 -->  00:43:03.709] 1003 MTD027ID\n",
      "[ 00:43:03.420 -->  00:43:04.530] 1004 MTD025PM\n",
      "[ 00:43:04.805 -->  00:43:05.294] 1005 MTD026UID\n",
      "[ 00:43:16.110 -->  00:43:21.871] 1006 MTD025PM\n",
      "[ 00:43:17.490 -->  00:43:17.800] 1007 MTD027ID\n",
      "[ 00:43:19.960 -->  00:43:21.979] 1008 MTD027ID\n",
      "[ 00:43:22.332 -->  00:43:22.859] 1009 MTD026UID\n",
      "[ 00:43:22.610 -->  00:43:22.900] 1010 MTD028ME\n",
      "[ 00:43:22.720 -->  00:43:25.270] 1011 MTD025PM\n",
      "[ 00:43:26.740 -->  00:43:28.188] 1012 MTD025PM\n",
      "[ 00:43:28.240 -->  00:43:29.749] 1013 MTD027ID\n",
      "[ 00:43:29.390 -->  00:43:32.520] 1014 MTD025PM\n",
      "[ 00:43:33.240 -->  00:43:34.450] 1015 MTD028ME\n",
      "[ 00:43:33.840 -->  00:43:35.830] 1016 MTD025PM\n",
      "[ 00:43:36.028 -->  00:43:36.267] 1017 MTD026UID\n",
      "[ 00:43:36.232 -->  00:43:39.948] 1018 MTD028ME\n",
      "[ 00:43:37.040 -->  00:43:37.449] 1019 MTD027ID\n",
      "[ 00:43:37.692 -->  00:43:45.094] 1020 MTD025PM\n",
      "[ 00:43:40.183 -->  00:43:40.630] 1021 MTD026UID\n",
      "[ 00:43:40.300 -->  00:43:42.335] 1022 MTD027ID\n",
      "[ 00:43:44.580 -->  00:43:46.904] 1023 MTD027ID\n",
      "[ 00:43:46.110 -->  00:43:52.637] 1024 MTD025PM\n",
      "[ 00:43:47.520 -->  00:43:50.539] 1025 MTD028ME\n",
      "[ 00:43:52.160 -->  00:43:57.148] 1026 MTD027ID\n",
      "[ 00:43:57.840 -->  00:44:00.080] 1027 MTD025PM\n",
      "[ 00:43:58.270 -->  00:44:01.949] 1028 MTD027ID\n",
      "[ 00:44:03.060 -->  00:44:04.329] 1029 MTD025PM\n",
      "[ 00:44:03.820 -->  00:44:13.038] 1030 MTD028ME\n",
      "[ 00:44:09.040 -->  00:44:09.560] 1031 MTD027ID\n",
      "[ 00:44:10.900 -->  00:44:12.650] 1032 MTD027ID\n",
      "[ 00:44:13.360 -->  00:44:18.848] 1033 MTD025PM\n",
      "[ 00:44:18.540 -->  00:44:19.468] 1034 MTD028ME\n",
      "[ 00:44:21.280 -->  00:44:22.190] 1035 MTD027ID\n",
      "[ 00:44:22.040 -->  00:44:25.129] 1036 MTD025PM\n",
      "[ 00:44:24.230 -->  00:44:27.640] 1037 MTD027ID\n",
      "[ 00:44:27.130 -->  00:44:27.690] 1038 MTD028ME\n",
      "[ 00:44:38.450 -->  00:44:38.659] 1039 MTD028ME\n",
      "[ 00:44:38.720 -->  00:44:42.751] 1040 MTD027ID\n",
      "[ 00:44:43.410 -->  00:44:45.030] 1041 MTD028ME\n",
      "[ 00:44:45.620 -->  00:44:48.530] 1042 MTD027ID\n",
      "[ 00:44:49.120 -->  00:44:52.510] 1043 MTD028ME\n",
      "[ 00:44:49.690 -->  00:44:51.695] 1044 MTD027ID\n",
      "[ 00:45:03.513 -->  00:45:04.057] 1045 MTD028ME\n",
      "[ 00:45:05.570 -->  00:45:06.079] 1046 MTD027ID\n",
      "[ 00:45:07.356 -->  00:45:08.398] 1047 MTD026UID\n",
      "[ 00:45:08.990 -->  00:45:09.884] 1048 MTD027ID\n",
      "[ 00:45:09.218 -->  00:45:09.777] 1049 MTD026UID\n",
      "[ 00:45:10.880 -->  00:45:13.399] 1050 MTD027ID\n",
      "[ 00:45:18.700 -->  00:45:18.919] 1051 MTD028ME\n",
      "[ 00:45:21.480 -->  00:45:22.310] 1052 MTD028ME\n",
      "[ 00:45:22.910 -->  00:45:24.070] 1053 MTD027ID\n",
      "[ 00:45:24.056 -->  00:45:24.667] 1054 MTD025PM\n",
      "[ 00:45:25.880 -->  00:45:26.819] 1055 MTD025PM\n",
      "[ 00:45:40.940 -->  00:45:41.379] 1056 MTD027ID\n",
      "[ 00:45:41.060 -->  00:45:43.270] 1057 MTD025PM\n",
      "[ 00:45:42.330 -->  00:45:44.839] 1058 MTD027ID\n",
      "[ 00:45:44.530 -->  00:45:46.280] 1059 MTD025PM\n",
      "[ 00:45:45.530 -->  00:45:46.230] 1060 MTD027ID\n",
      "[ 00:45:47.630 -->  00:45:52.637] 1061 MTD026UID\n",
      "[ 00:45:51.492 -->  00:45:55.187] 1062 MTD028ME\n",
      "[ 00:45:52.923 -->  00:45:53.289] 1063 MTD026UID\n",
      "[ 00:45:53.820 -->  00:45:58.550] 1064 MTD025PM\n"
     ]
    }
   ],
   "source": [
    "print(reference)"
   ]
  },
  {
   "cell_type": "code",
   "execution_count": 26,
   "metadata": {},
   "outputs": [
    {
     "data": {
      "image/png": "[encoded data removed]",
      "text/plain": [
       "<pyannote.core.annotation.Annotation at 0x7f0ad37b0630>"
      ]
     },
     "execution_count": 26,
     "metadata": {},
     "output_type": "execute_result"
    }
   ],
   "source": [
    "reference"
   ]
  },
  {
   "cell_type": "code",
   "execution_count": 27,
   "metadata": {},
   "outputs": [
    {
     "data": {
      "image/png": "[encoded data removed]",
      "text/plain": [
       "<pyannote.core.annotation.Annotation at 0x7f0ad38549b0>"
      ]
     },
     "execution_count": 27,
     "metadata": {},
     "output_type": "execute_result"
    }
   ],
   "source": [
    "hypothesis.to_annotation()"
   ]
  },
  {
   "cell_type": "code",
   "execution_count": null,
   "metadata": {},
   "outputs": [],
   "source": [
    "# Loop on Train Files\n",
    "from pyannote.database import get_annotated\n",
    "for train_file in protocol.train():\n",
    "    # print (test_file)\n",
    "    # load reference annotation\n",
    "    reference = train_file['annotation']\n",
    "    uem = get_annotated(train_file)\n",
    "\n",
    "    # load precomputed change scores as pyannote.core.SlidingWindowFeature\n",
    "    scd_scores = precomputed(train_file)\n",
    "\n",
    "    # binarize scores to obtain speech regions as pyannote.core.Timeline\n",
    "    hypothesis = peak.apply(scd_scores, dimension=1)\n",
    "\n",
    "    # evaluate speech activity detection\n",
    "    metric(reference, hypothesis.to_annotation(), uem=uem)\n",
    "\n",
    "    purity, coverage, fmeasure = metric.compute_metrics()\n",
    "    print(f'Purity = {100*purity:.1f}% / Coverage = {100*coverage:.1f}%')"
   ]
  },
  {
   "cell_type": "code",
   "execution_count": null,
   "metadata": {},
   "outputs": [],
   "source": [
    "# Peak Detection\n",
    "from pyannote.audio.signal import Peak\n",
    "peak = Peak(alpha=0.1, min_duration=1.0, log_scale=True)\n",
    "\n",
    "# Loop on Test Files\n",
    "from pyannote.database import get_annotated\n",
    "for test_file in protocol.train():\n",
    "    # print (test_file)\n",
    "    # load reference annotation\n",
    "    reference = test_file['annotation']\n",
    "    uem = get_annotated(test_file)\n",
    "\n",
    "    # load precomputed change scores as pyannote.core.SlidingWindowFeature\n",
    "    scd_scores = precomputed(test_file)\n",
    "\n",
    "    # binarize scores to obtain speech regions as pyannote.core.Timeline\n",
    "    hypothesis = peak.apply(scd_scores, dimension=1)\n",
    "\n",
    "    # evaluate speech activity detection\n",
    "    metric(reference, hypothesis.to_annotation(), uem=uem)\n",
    "\n",
    "    purity, coverage, fmeasure = metric.compute_metrics()\n",
    "    print(f'Purity = {100*purity:.1f}% / Coverage = {100*coverage:.1f}%')"
   ]
  },
  {
   "cell_type": "code",
   "execution_count": null,
   "metadata": {},
   "outputs": [],
   "source": [
    "hypothesis.to_annotation()"
   ]
  },
  {
   "cell_type": "code",
   "execution_count": null,
   "metadata": {},
   "outputs": [],
   "source": []
  }
 ],
 "metadata": {
  "accelerator": "GPU",
  "colab": {
   "collapsed_sections": [],
   "default_view": {},
   "name": "pyannote_reproduce.ipynb",
   "provenance": [],
   "version": "0.3.2",
   "views": {}
  },
  "kernelspec": {
   "display_name": "Python 3",
   "language": "python",
   "name": "python3"
  },
  "language_info": {
   "codemirror_mode": {
    "name": "ipython",
    "version": 3
   },
   "file_extension": ".py",
   "mimetype": "text/x-python",
   "name": "python",
   "nbconvert_exporter": "python",
   "pygments_lexer": "ipython3",
   "version": "3.6.5"
  }
 },
 "nbformat": 4,
 "nbformat_minor": 2
}
